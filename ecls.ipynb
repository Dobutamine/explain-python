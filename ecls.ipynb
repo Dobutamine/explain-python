{
 "cells": [
  {
   "cell_type": "code",
   "execution_count": 1,
   "metadata": {},
   "outputs": [
    {
     "name": "stdout",
     "output_type": "stream",
     "text": [
      " Model 'normal neonate' loaded and initialized correctly.\n",
      " Ready in 4.7 sec. Average model step in 0.0394 ms.\n"
     ]
    }
   ],
   "source": [
    "#%matplotlib ipympl  # enable this for realtime graphs\n",
    "\n",
    "# first compile the c modules where the model depends on\n",
    "from  explain_core.ModulesCompiler import compile_modules;\n",
    "compile_modules()\n",
    "\n",
    "# import the model engine and the model interface\n",
    "from explain_core.ModelEngine import ModelEngine\n",
    "from explain_core.helpers.Interface import Interface\n",
    "\n",
    "# instantiate a model engine instance with the 'normal_neonate' model definition\n",
    "model = ModelEngine(\"normal_neonate.json\")\n",
    "\n",
    "# get a reference to all the submodels\n",
    "models = model.models\n",
    "\n",
    "# instantiate an interface object to interact with the model engine instance\n",
    "neo = Interface(model)\n",
    "\n",
    "# enable or disable the physiological submodels which can be enabled or disabled.\n",
    "neo.ans(True)\n",
    "neo.breathing(False)\n",
    "neo.metabolism(True)\n",
    "neo.mob(True)\n",
    "\n",
    "# desiable the extra-corporeal models\n",
    "neo.placenta(False)\n",
    "neo.ventilator(True)\n",
    "neo.ecls(True)\n",
    "neo.artificial_whomb(False)\n",
    "\n",
    "# get a direct reference to the mob model\n",
    "ecls = models[\"Ecls\"]\n",
    "\n",
    "# stabilize by calculating 60 seconds with fixed resp_rate of 40/min, tidal volume of 16 ml and fixed heart rate of 140 / min\n",
    "neo.calculate(60)"
   ]
  },
  {
   "cell_type": "code",
   "execution_count": 2,
   "metadata": {},
   "outputs": [
    {
     "name": "stdout",
     "output_type": "stream",
     "text": [
      " Ready in 7.5 sec. Average model step in 0.0313 ms.\n",
      "\n",
      "AA.pres_in      : max   69.41296, min   47.13622 mmHg\n",
      "PA.pres_in      : max   38.66829, min   22.02018 mmHg\n",
      "IVCI.pres_in    : max    6.62546, min    5.62641 mmHg\n"
     ]
    },
    {
     "data": {
      "text/plain": [
       "{'heartrate': 141.23957933383008,\n",
       " 'spo2_pre': 97.58353460732974,\n",
       " 'spo2_post': 97.31049789691056,\n",
       " 'abp_systole': 69.41296,\n",
       " 'abp_diastole': 47.13622,\n",
       " 'pap_systole': 38.66829,\n",
       " 'pap_diastole': 22.02018,\n",
       " 'cvp': 5.959393365,\n",
       " 'resp_rate': 0.0,\n",
       " 'pH': 7.431383143800621,\n",
       " 'po2': 91.73434533714254,\n",
       " 'pco2': 39.28624523513395,\n",
       " 'hco3': 25.84267365198995,\n",
       " 'be': 1.2744073434318888}"
      ]
     },
     "execution_count": 2,
     "metadata": {},
     "output_type": "execute_result"
    }
   ],
   "source": [
    "neo.fastforward(120)\n",
    "neo.get_vitals()"
   ]
  },
  {
   "cell_type": "code",
   "execution_count": null,
   "metadata": {},
   "outputs": [],
   "source": [
    "neo.get_bloodgas(\"RA\")"
   ]
  },
  {
   "cell_type": "code",
   "execution_count": null,
   "metadata": {},
   "outputs": [],
   "source": [
    "models[\"Circulation\"]"
   ]
  },
  {
   "cell_type": "code",
   "execution_count": null,
   "metadata": {},
   "outputs": [],
   "source": []
  }
 ],
 "metadata": {
  "kernelspec": {
   "display_name": "pypy",
   "language": "python",
   "name": "python3"
  },
  "language_info": {
   "codemirror_mode": {
    "name": "ipython",
    "version": 3
   },
   "file_extension": ".py",
   "mimetype": "text/x-python",
   "name": "python",
   "nbconvert_exporter": "python",
   "pygments_lexer": "ipython3",
   "version": "3.10.12"
  },
  "orig_nbformat": 4
 },
 "nbformat": 4,
 "nbformat_minor": 2
}
