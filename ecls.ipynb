{
 "cells": [
  {
   "cell_type": "code",
   "execution_count": 1,
   "metadata": {},
   "outputs": [
    {
     "name": "stdout",
     "output_type": "stream",
     "text": [
      " Model 'normal neonate' loaded and initialized correctly.\n",
      " Ready in 4.1 sec. Average model step in 0.0341 ms.\n"
     ]
    }
   ],
   "source": [
    "#%matplotlib ipympl  # enable this for realtime graphs\n",
    "\n",
    "# first compile the c modules where the model depends on\n",
    "from  explain_core.ModulesCompiler import compile_modules;\n",
    "compile_modules()\n",
    "\n",
    "# import the model engine and the model interface\n",
    "from explain_core.ModelEngine import ModelEngine\n",
    "from explain_core.helpers.Interface import Interface\n",
    "\n",
    "# instantiate a model engine instance with the 'normal_neonate' model definition\n",
    "model = ModelEngine(\"normal_neonate.json\")\n",
    "\n",
    "# get a reference to all the submodels\n",
    "models = model.models\n",
    "\n",
    "# instantiate an interface object to interact with the model engine instance\n",
    "neo = Interface(model)\n",
    "\n",
    "# enable or disable the physiological submodels which can be enabled or disabled.\n",
    "neo.ans(True)\n",
    "neo.breathing(True)\n",
    "neo.metabolism(True)\n",
    "neo.mob(True)\n",
    "\n",
    "# desiable the extra-corporeal models\n",
    "neo.placenta(False)\n",
    "neo.ventilator(True)\n",
    "neo.ecls(False)\n",
    "neo.artificial_whomb(False)\n",
    "\n",
    "# get a direct reference to the mob model\n",
    "ecls = models[\"Ecls\"]\n",
    "\n",
    "# stabilize by calculating 60 seconds with fixed resp_rate of 40/min, tidal volume of 16 ml and fixed heart rate of 140 / min\n",
    "neo.calculate(60)"
   ]
  },
  {
   "cell_type": "code",
   "execution_count": 2,
   "metadata": {},
   "outputs": [
    {
     "name": "stdout",
     "output_type": "stream",
     "text": [
      " Ready in 7.2 sec. Average model step in 0.0302 ms.\n",
      "\n",
      "AA.pres_in      : max    69.3751, min   47.10545 mmHg\n",
      "PA.pres_in      : max   38.89635, min   22.16763 mmHg\n",
      "IVCI.pres_in    : max     6.6389, min    5.59398 mmHg\n"
     ]
    },
    {
     "data": {
      "text/plain": [
       "{'heartrate': 141.55750089436208,\n",
       " 'spo2_pre': 97.522433690855,\n",
       " 'spo2_post': 97.2372826235801,\n",
       " 'abp_systole': 69.3751,\n",
       " 'abp_diastole': 47.10545,\n",
       " 'pap_systole': 38.89635,\n",
       " 'pap_diastole': 22.16763,\n",
       " 'cvp': 5.942251836,\n",
       " 'resp_rate': 28.776507173749334,\n",
       " 'pH': 7.427628292005948,\n",
       " 'po2': 91.13581600392706,\n",
       " 'pco2': 39.64904582065411,\n",
       " 'hco3': 25.856801913028583,\n",
       " 'be': 1.2059666728571885}"
      ]
     },
     "execution_count": 2,
     "metadata": {},
     "output_type": "execute_result"
    }
   ],
   "source": [
    "neo.fastforward(120)\n",
    "neo.get_vitals()"
   ]
  },
  {
   "cell_type": "code",
   "execution_count": 10,
   "metadata": {},
   "outputs": [
    {
     "data": {
      "text/plain": [
       "{'ph': 7.254979863289234,\n",
       " 'po2': 43.78663370052493,\n",
       " 'pco2': 60.4743790453835,\n",
       " 'hco3': 26.50117055482913,\n",
       " 'be': -1.9452256908706402,\n",
       " 'so2': 75.69308852215487}"
      ]
     },
     "execution_count": 10,
     "metadata": {},
     "output_type": "execute_result"
    }
   ],
   "source": [
    "neo.get_bloodgas(\"RA\")"
   ]
  },
  {
   "cell_type": "code",
   "execution_count": null,
   "metadata": {},
   "outputs": [],
   "source": []
  }
 ],
 "metadata": {
  "kernelspec": {
   "display_name": "pypy",
   "language": "python",
   "name": "python3"
  },
  "language_info": {
   "codemirror_mode": {
    "name": "ipython",
    "version": 3
   },
   "file_extension": ".py",
   "mimetype": "text/x-python",
   "name": "python",
   "nbconvert_exporter": "python",
   "pygments_lexer": "ipython3",
   "version": "3.10.12"
  },
  "orig_nbformat": 4
 },
 "nbformat": 4,
 "nbformat_minor": 2
}
