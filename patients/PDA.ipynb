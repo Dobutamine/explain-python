{
 "cells": [
  {
   "cell_type": "markdown",
   "metadata": {},
   "source": [
    "<h3 style=\"color:red;\">Preterm neonate of 25 weeks of gestation and 0.72 kg with different sizes of persistent ductus arteriosus </h3>\n"
   ]
  },
  {
   "cell_type": "code",
   "execution_count": 1,
   "metadata": {},
   "outputs": [
    {
     "name": "stdout",
     "output_type": "stream",
     "text": [
      "set_diameter: 1.3 of FO \n",
      "set_diameter: 1.0 of VSD \n",
      "set_diameter: 4.0 of FETALUMBART \n",
      "set_diameter: 4.0 of FETALUMBART \n",
      "set_diameter: 8.0 of FETALUMBVEN \n",
      "set_diameter: 4.0 of ECLS_DRAINAGE_TUBINGIN \n",
      "set_diameter: 6.35 of ECLS_TUBINGIN_PUMP \n",
      "set_diameter: 6.35 of ECLS_OXY_TUBINGOUT \n",
      "set_diameter: 3.3 of ECLS_TUBINGOUT_RETURN \n",
      " Model 'normal neonate' loaded and initialized correctly.\n",
      " Ready in 6.7 sec. Average model step in 0.0279 ms.\n",
      " Ready in 7.2 sec. Average model step in 0.0298 ms.\n"
     ]
    }
   ],
   "source": [
    "# as this notebook is run from a subfolder, we need to change the working directory to the root folder\n",
    "import os\n",
    "\n",
    "if os.getcwd().split(\"/\")[-1] != \"explain-python\":\n",
    "    os.chdir(\"..\")\n",
    "\n",
    "# import the model engine and the model interface\n",
    "from explain_core.ModelEngine import ModelEngine\n",
    "\n",
    "# instantiate a model engine instance with the 'normal_neonate' model definition\n",
    "model = ModelEngine(\"definitions/normal_neonate.json\")\n",
    "\n",
    "# report the gas pressures in kPa\n",
    "model.set_pressure_unit(\"kpa\")\n",
    "\n",
    "# get a reference to all the submodels\n",
    "models = model.models\n",
    "\n",
    "# instantiate a custom interface object especially designed to interact with the neonatal model engine instance\n",
    "from interfaces.NeoInterface import NeoInterface\n",
    "\n",
    "neo = NeoInterface(model)\n",
    "\n",
    "# enable or disable the physiological submodels which can be enabled or disabled.\n",
    "neo.ans(True)\n",
    "neo.breathing(True)\n",
    "neo.metabolism(True)\n",
    "neo.mob(False)\n",
    "neo.pda(False)\n",
    "\n",
    "# enable or disable the extra-corporeal models\n",
    "neo.placenta(False)\n",
    "neo.ventilator(False)\n",
    "neo.ecls(False)\n",
    "neo.resuscitation(False)\n",
    "\n",
    "# stabilize the model by calculating 120 seconds\n",
    "neo.calculate(120)\n",
    "\n",
    "# scale the model to a premature neonate of 25 weeks and 0.72 kg and recalculate 120 seconds\n",
    "model._scaling.res_factor_circ_correction = 0.6\n",
    "model._scaling.el_max_factor_correction = 0.8\n",
    "model._scaling.scale_patient(\n",
    "    target_weight=0.720,\n",
    "    target_height=0.32,\n",
    "    target_blood_volume=0.08,\n",
    "    target_hr_ref=160,\n",
    "    target_map=35.0,\n",
    ")\n",
    "\n",
    "# stabilize the model by calculating 120 seconds\n",
    "neo.calculate(120)\n",
    "\n",
    "# put patient on CPAP\n",
    "neo.ventilator(True)\n",
    "models[\"Ventilator\"].set_ventilator_cpap(peep=6.0)"
   ]
  },
  {
   "cell_type": "markdown",
   "metadata": {},
   "source": [
    "<h5 style=\"color:red;\">Model run results - No PDA</h5>"
   ]
  },
  {
   "cell_type": "code",
   "execution_count": 17,
   "metadata": {},
   "outputs": [
    {
     "name": "stdout",
     "output_type": "stream",
     "text": [
      " Ready in 8.7 sec. Average model step in 0.0361 ms.\n"
     ]
    }
   ],
   "source": [
    "models[\"DA\"].r_for = 2500.0\n",
    "models[\"DA\"].r_back = 2500.0\n",
    "models[\"DA\"].no_flow = False\n",
    "neo.calculate(120)"
   ]
  },
  {
   "cell_type": "code",
   "execution_count": 4,
   "metadata": {},
   "outputs": [
    {
     "name": "stdout",
     "output_type": "stream",
     "text": [
      "set_diameter: 1.5 of DA \n"
     ]
    },
    {
     "data": {
      "text/plain": [
       "100"
      ]
     },
     "execution_count": 4,
     "metadata": {},
     "output_type": "execute_result"
    }
   ],
   "source": [
    "models[\"DA\"].set_diameter(1.5)\n",
    "models[\"DA\"].length"
   ]
  },
  {
   "cell_type": "code",
   "execution_count": 29,
   "metadata": {},
   "outputs": [
    {
     "name": "stdout",
     "output_type": "stream",
     "text": [
      " Ready in 1.1 sec. Average model step in 0.0546 ms.\n"
     ]
    }
   ],
   "source": [
    "neo.calculate(10)"
   ]
  },
  {
   "cell_type": "code",
   "execution_count": 26,
   "metadata": {},
   "outputs": [
    {
     "data": {
      "text/plain": [
       "100"
      ]
     },
     "execution_count": 26,
     "metadata": {},
     "output_type": "execute_result"
    }
   ],
   "source": [
    "models[\"DA\"].length"
   ]
  },
  {
   "cell_type": "code",
   "execution_count": null,
   "metadata": {},
   "outputs": [],
   "source": []
  }
 ],
 "metadata": {
  "kernelspec": {
   "display_name": "Python 3",
   "language": "python",
   "name": "python3"
  },
  "language_info": {
   "codemirror_mode": {
    "name": "ipython",
    "version": 3
   },
   "file_extension": ".py",
   "mimetype": "text/x-python",
   "name": "python",
   "nbconvert_exporter": "python",
   "pygments_lexer": "ipython3",
   "version": "3.10.12"
  }
 },
 "nbformat": 4,
 "nbformat_minor": 2
}
