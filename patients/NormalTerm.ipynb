{
 "cells": [
  {
   "cell_type": "markdown",
   "metadata": {},
   "source": [
    "<h3 style=\"color:red;\">Term neonate of 38 weeks of gestation and 3.3 kg at 48 hours</h3>\n"
   ]
  },
  {
   "cell_type": "code",
   "execution_count": 40,
   "metadata": {},
   "outputs": [
    {
     "name": "stdout",
     "output_type": "stream",
     "text": [
      " Model 'normal neonate' loaded and initialized correctly.\n",
      " Ready in 3.6 sec. Average model step in 0.0301 ms.\n",
      "Heart.heart_rate: max  111.28478 min   110.2593\n",
      "AA.pres         : max   64.71603, min   40.21168 mmHg\n",
      "PA.pres         : max    40.8387, min   16.88212 mmHg\n",
      "LV_AA.flow      : net  176.48857, forward  176.48857, backward        0.0 ml/kg/min, stroke volume:    1.60443 ml/kg, \n",
      "RV_PA.flow      : net  184.27858, forward  184.27858, backward        0.0 ml/kg/min, stroke volume:    1.67525 ml/kg, \n",
      "SVC_RA.flow     : net   76.56879, forward   84.61587, backward   -8.04708 ml/kg/min, stroke volume:    0.69607 ml/kg, \n",
      "AAR_AD.flow     : net   97.78113, forward   99.70672, backward   -1.92559 ml/kg/min, stroke volume:    0.88891 ml/kg, \n",
      "LV.vol          : max    2.54729, min    0.89234 ml/kg\n",
      "RV.vol          : max    3.48621, min    1.52101 ml/kg\n"
     ]
    }
   ],
   "source": [
    "# as this notebook is run from a subfolder, we need to change the working directory to the root folder\n",
    "import os\n",
    "\n",
    "if os.getcwd().split(\"/\")[-1] != \"explain-python\":\n",
    "    os.chdir(\"..\")\n",
    "\n",
    "# import the model engine and the model interface\n",
    "from explain_core.ModelEngine import ModelEngine\n",
    "\n",
    "# instantiate a model engine instance with the 'normal_neonate' model definition\n",
    "model = ModelEngine(\"definitions/normal_neonate.json\")\n",
    "\n",
    "# report the gas pressures in kPa\n",
    "model.set_pressure_unit(\"kpa\")\n",
    "\n",
    "# get a reference to all the submodels\n",
    "models = model.models\n",
    "\n",
    "# instantiate a custom interface object especially designed to interact with the neonatal model engine instance\n",
    "from interfaces.NeoInterface import NeoInterface\n",
    "\n",
    "neo = NeoInterface(model)\n",
    "\n",
    "# enable or disable the physiological submodels which can be enabled or disabled.\n",
    "neo.ans(True)\n",
    "neo.breathing(True)\n",
    "neo.metabolism(True)\n",
    "neo.mob(False)\n",
    "neo.pda(False)\n",
    "\n",
    "# enable or disable the extra-corporeal models\n",
    "neo.placenta(False)\n",
    "neo.ventilator(False)\n",
    "neo.ecls(False)\n",
    "neo.resuscitation(False)\n",
    "\n",
    "# scale the baseline patient to a gestational age of 40 weeks, 3.568 kg and height 0.512 meters (Fenton Growth Charts p50)\n",
    "model._scaling.scale_patient(\n",
    "    weight=3.545,\n",
    "    height=0.519,\n",
    "    blood_volume=0.08,\n",
    "    lung_volume=0.03,\n",
    "    res_circ_factor=1.20,\n",
    "    el_base_circ_factor=1.0,\n",
    "    el_min_circ_factor=1.0,\n",
    "    el_max_circ_factor=1.0,\n",
    "    res_resp_factor=1.0,\n",
    "    el_base_resp_factor=1.0,\n",
    "    hr_ref=110.0,\n",
    "    syst_ref=66.0,\n",
    "    diast_ref=40.0,\n",
    "    map_ref=51.26,\n",
    "    resp_rate=40.0,\n",
    "    vt_rr_ratio=0.0001212,\n",
    "    mv_ref=0.2,\n",
    ")\n",
    "\n",
    "# stabilize the model by calculating 120 seconds\n",
    "neo.calculate(60)"
   ]
  },
  {
   "cell_type": "markdown",
   "metadata": {},
   "source": [
    "<h5 style=\"color:red;\">Model run results</h5>"
   ]
  },
  {
   "cell_type": "code",
   "execution_count": 31,
   "metadata": {},
   "outputs": [
    {
     "name": "stdout",
     "output_type": "stream",
     "text": [
      "Heart.heart_rate: max  110.53842 min  109.83353\n",
      "AA.pres         : max   65.80011, min    40.1734 mmHg\n",
      "PA.pres         : max   40.35109, min   16.29166 mmHg\n",
      "LV_AA.flow      : net   184.8061, forward   184.8061, backward        0.0 ml/kg/min, stroke volume:    1.68004 ml/kg, \n",
      "RV_PA.flow      : net   187.3179, forward   187.3179, backward        0.0 ml/kg/min, stroke volume:    1.70288 ml/kg, \n",
      "SVC_RA.flow     : net   80.24048, forward   88.56096, backward   -8.32048 ml/kg/min, stroke volume:    0.72945 ml/kg, \n",
      "AAR_AD.flow     : net  102.55339, forward  104.75511, backward   -2.20172 ml/kg/min, stroke volume:     0.9323 ml/kg, \n",
      "LV.vol          : max    2.63698, min    0.89622 ml/kg\n",
      "RV.vol          : max    3.49859, min    1.49945 ml/kg\n"
     ]
    }
   ],
   "source": [
    "neo.validate()"
   ]
  },
  {
   "cell_type": "markdown",
   "metadata": {},
   "source": [
    "<h5 style=\"color:red;\">Blood flows and volumes target data</h5>\n",
    "<a href=\"https://pubmed.ncbi.nlm.nih.gov/37095534/\">Jhaveri S, Battersby E, Stern KWD, Cohen J, Yang Y, Price A, Hughes E, Poston L, Pasupathy D, Taylor P, Vieira MC, Groves A. Normative ranges of biventricular volumes and function in healthy term newborns. J Cardiovasc Magn Reson. 2023 Apr 24;25(1):26. doi: 10.1186/s12968-023-00932-1. PMID: 37095534; PMCID: PMC10127416.</a><br>\n",
    "<img src=\"../documentation/images/JhaveriTable2LV.jpg\" width=\"400\" height=\"500\"></img>\n",
    "<img src=\"../documentation/images/JhaveriTable3RV.jpg\" width=\"400\" height=\"500\"></img><br>\n",
    "\n",
    "<!-- <a href=\"https://pubmed.ncbi.nlm.nih.gov/20971721/\">Groves AM, Chiesa G, Durighel G, Goldring ST, Fitzpatrick JA, Uribe S, Razavi R, Hajnal JV, Edwards AD. Functional cardiac MRI in preterm and term newborns. Arch Dis Child Fetal Neonatal Ed. 2011 Mar;96(2):F86-91. doi: 10.1136/adc.2010.189142. Epub 2010 Oct 21. PMID: 20971721; PMCID: PMC3093932.</a><br>\n",
    "<img src=\"../documentation/images/GrovesFigure3.jpg\" width=\"600\" height=\"480\"></img>\n",
    "<img src=\"../documentation/images/GrovesFigure5.jpg\" width=\"600\" height=\"480\"></img><br> -->\n",
    "<!-- <img src=\"../documentation/images/GrovesTable1.jpg\" width=\"300\" height=\"100\"></img>\n",
    "<img src=\"../documentation/images/GrovesTable3.jpg\" width=\"280\" height=\"100\"></img> -->\n",
    "\n"
   ]
  },
  {
   "cell_type": "markdown",
   "metadata": {},
   "source": [
    "<h5 style=\"color:red;\">Blood pressure target data</h5>\n",
    "\n",
    "\n",
    "<a href=\"https://pubmed.ncbi.nlm.nih.gov/36858885/\">van Zadelhoff AC, Poppe JA, Willemsen S, Mauff K, van Weteringen W, Goos TG, Reiss IKM, Vermeulen MJ, de Graaff JC. Age-dependent changes in arterial blood pressure in neonates during the first week of life: reference values and development of a model. Br J Anaesth. 2023 May;130(5):585-594. doi: 10.1016/j.bja.2023.01.024. Epub 2023 Feb 28. PMID: 36858885.</a><br><br>\n",
    "<img src=\"../documentation/images/ZadelhoffSystolicFigure4.jpg\" width=\"600\" height=\"650\"></img>\n",
    "<img src=\"../documentation/images/ZadelhoffDiastolicFigure4.jpg\" width=\"600\" height=\"650\"></img><br>"
   ]
  },
  {
   "cell_type": "code",
   "execution_count": 12,
   "metadata": {},
   "outputs": [
    {
     "name": "stdout",
     "output_type": "stream",
     "text": [
      " Ready in 3.9 sec. Average model step in 0.0327 ms.\n",
      "Total blood volume: 80.00000000000021 ml/kg = 100.0%\n",
      "Systemic blood volume: 71.10158423187323 ml/kg = 88.87698028984131%\n",
      "Pulmonary total blood volume: 8.898415768126986 ml/kg = 11.123019710158703%\n",
      "Pulmonary capillary blood volume: 3.5128990355917944 ml/kg = 39.477802871097126% of total pulmonary blood volume\n",
      "Heart blood volume: 5.671902389091915 ml/kg = 7.0898779863648755%\n",
      "Capillary blood volume: 3.9684451684879036 ml/kg = 4.960556460609867%\n",
      "Venous blood volume: 50.43176320103988 ml/kg = 63.03970400129968%\n",
      "Arterial blood volume: 10.975143783567576 ml/kg = 13.718929729459434%\n",
      "Upper body blood volume: 21.79134363037273 ml/kg = 27.23917953796584%\n",
      "Lower body blood volume: 43.58400852272263 ml/kg = 54.480010653403134%\n"
     ]
    },
    {
     "data": {
      "text/plain": [
       "0.28360000000000074"
      ]
     },
     "execution_count": 12,
     "metadata": {},
     "output_type": "execute_result"
    }
   ],
   "source": [
    "neo.calculate(60)\n",
    "neo.get_total_blood_volume()"
   ]
  },
  {
   "cell_type": "code",
   "execution_count": 13,
   "metadata": {},
   "outputs": [
    {
     "data": {
      "text/plain": [
       "{'heartrate': 110.25338733122636,\n",
       " 'spo2_pre': 95.82362232260422,\n",
       " 'spo2_post': 95.22481668968526,\n",
       " 'abp_systole': 65.65817,\n",
       " 'abp_diastole': 40.25603,\n",
       " 'pap_systole': 40.124,\n",
       " 'pap_diastole': 16.35635,\n",
       " 'cvp': 2.1498433329999997,\n",
       " 'resp_rate': 41.89744042825168,\n",
       " 'pH': 7.3984096255099185,\n",
       " 'po2': 9.706780114820747,\n",
       " 'pco2': 5.677028549941522,\n",
       " 'hco3': 25.966554714466024,\n",
       " 'be': 0.6732374872643084}"
      ]
     },
     "execution_count": 13,
     "metadata": {},
     "output_type": "execute_result"
    }
   ],
   "source": [
    "neo.get_vitals()"
   ]
  },
  {
   "cell_type": "code",
   "execution_count": null,
   "metadata": {},
   "outputs": [],
   "source": []
  }
 ],
 "metadata": {
  "kernelspec": {
   "display_name": "Python 3",
   "language": "python",
   "name": "python3"
  },
  "language_info": {
   "codemirror_mode": {
    "name": "ipython",
    "version": 3
   },
   "file_extension": ".py",
   "mimetype": "text/x-python",
   "name": "python",
   "nbconvert_exporter": "python",
   "pygments_lexer": "ipython3",
   "version": "3.10.12"
  }
 },
 "nbformat": 4,
 "nbformat_minor": 2
}
