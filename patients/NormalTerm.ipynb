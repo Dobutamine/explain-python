{
 "cells": [
  {
   "cell_type": "markdown",
   "metadata": {},
   "source": [
    "<h3 style=\"color:red;\">Term neonate of 40 weeks of gestation and 3.5 kg at 24 hours</h3>\n"
   ]
  },
  {
   "cell_type": "code",
   "execution_count": 1,
   "metadata": {},
   "outputs": [
    {
     "name": "stdout",
     "output_type": "stream",
     "text": [
      " Model 'baseline neonate' loaded and initialized correctly.\n",
      " Ready in 3.5 sec. Average model step in 0.0296 ms.\n"
     ]
    }
   ],
   "source": [
    "# as this notebook is run from a subfolder, we need to change the working directory to the root folder\n",
    "import os\n",
    "\n",
    "if os.getcwd().split(\"/\")[-1] != \"explain-python\":\n",
    "    os.chdir(\"..\")\n",
    "\n",
    "# import the model engine and the model interface\n",
    "from explain_core.ModelEngine import ModelEngine\n",
    "\n",
    "# instantiate a model engine instance with the 'baseline_neonate' model definition\n",
    "model = ModelEngine(\"definitions/baseline_neonate.json\")\n",
    "\n",
    "# report the gas pressures in kPa\n",
    "model.set_pressure_unit(\"kpa\")\n",
    "\n",
    "# get a reference to all the submodels\n",
    "models = model.models\n",
    "\n",
    "# instantiate a custom interface object especially designed to interact with the neonatal model engine instance\n",
    "from interfaces.NeoInterface import NeoInterface\n",
    "\n",
    "neo = NeoInterface(model)\n",
    "\n",
    "# enable or disable the physiological submodels which can be enabled or disabled.\n",
    "neo.ans(True)\n",
    "neo.breathing(True)\n",
    "neo.metabolism(True)\n",
    "neo.mob(False)\n",
    "neo.pda(False)\n",
    "\n",
    "# enable or disable the extra-corporeal models\n",
    "neo.placenta(False)\n",
    "neo.ventilator(False)\n",
    "neo.ecls(False)\n",
    "neo.resuscitation(False)\n",
    "\n",
    "# stabilize the model by calculating 60 seconds\n",
    "neo.calculate(60)"
   ]
  },
  {
   "cell_type": "markdown",
   "metadata": {},
   "source": [
    "<h5 style=\"color:red;\">Model run results</h5>"
   ]
  },
  {
   "cell_type": "code",
   "execution_count": 3,
   "metadata": {},
   "outputs": [
    {
     "data": {
      "text/plain": [
       "{'40': {'weight': 3.545,\n",
       "  'height': 0.519,\n",
       "  'blood_volume': 0.08,\n",
       "  'lung_volume': 0.03,\n",
       "  'res_circ_factor': 1.0,\n",
       "  'el_base_circ_factor': 1.0,\n",
       "  'el_min_circ_factor': 1.0,\n",
       "  'el_max_circ_factor': 1.0,\n",
       "  'res_resp_factor': 1.0,\n",
       "  'el_base_resp_factor': 1.0,\n",
       "  'hr_ref': 110.0,\n",
       "  'syst_ref': 66.0,\n",
       "  'diast_ref': 40.0,\n",
       "  'map_ref': 51.26,\n",
       "  'resp_rate': 40.0,\n",
       "  'vt_rr_ratio': 0.0001212,\n",
       "  'mv_ref': 0.2}}"
      ]
     },
     "execution_count": 3,
     "metadata": {},
     "output_type": "execute_result"
    }
   ],
   "source": [
    "model._scaler.patients"
   ]
  },
  {
   "cell_type": "markdown",
   "metadata": {},
   "source": [
    "<h5 style=\"color:red;\">Blood flows and volumes target data</h5>\n",
    "<a href=\"https://pubmed.ncbi.nlm.nih.gov/37095534/\">Jhaveri S, Battersby E, Stern KWD, Cohen J, Yang Y, Price A, Hughes E, Poston L, Pasupathy D, Taylor P, Vieira MC, Groves A. Normative ranges of biventricular volumes and function in healthy term newborns. J Cardiovasc Magn Reson. 2023 Apr 24;25(1):26. doi: 10.1186/s12968-023-00932-1. PMID: 37095534; PMCID: PMC10127416.</a><br>\n",
    "<img src=\"../documentation/images/JhaveriTable2LV.jpg\" width=\"400\" height=\"500\"></img>\n",
    "<img src=\"../documentation/images/JhaveriTable3RV.jpg\" width=\"400\" height=\"500\"></img><br>\n",
    "\n",
    "<a href=\"https://pubmed.ncbi.nlm.nih.gov/20971721/\">Groves AM, Chiesa G, Durighel G, Goldring ST, Fitzpatrick JA, Uribe S, Razavi R, Hajnal JV, Edwards AD. Functional cardiac MRI in preterm and term newborns. Arch Dis Child Fetal Neonatal Ed. 2011 Mar;96(2):F86-91. doi: 10.1136/adc.2010.189142. Epub 2010 Oct 21. PMID: 20971721; PMCID: PMC3093932.</a><br>\n",
    "<img src=\"../documentation/images/GrovesFigure3.jpg\" width=\"600\" height=\"480\"></img>\n",
    "<img src=\"../documentation/images/GrovesFigure5.jpg\" width=\"600\" height=\"480\"></img><br> -->\n",
    "<!-- <img src=\"../documentation/images/GrovesTable1.jpg\" width=\"300\" height=\"100\"></img>\n",
    "<img src=\"../documentation/images/GrovesTable3.jpg\" width=\"280\" height=\"100\"></img>\n",
    "\n"
   ]
  },
  {
   "cell_type": "markdown",
   "metadata": {},
   "source": [
    "<h5 style=\"color:red;\">Blood pressure target data</h5>\n",
    "\n",
    "\n",
    "<a href=\"https://pubmed.ncbi.nlm.nih.gov/36858885/\">van Zadelhoff AC, Poppe JA, Willemsen S, Mauff K, van Weteringen W, Goos TG, Reiss IKM, Vermeulen MJ, de Graaff JC. Age-dependent changes in arterial blood pressure in neonates during the first week of life: reference values and development of a model. Br J Anaesth. 2023 May;130(5):585-594. doi: 10.1016/j.bja.2023.01.024. Epub 2023 Feb 28. PMID: 36858885.</a><br><br>\n",
    "<img src=\"../documentation/images/ZadelhoffSystolicFigure4.jpg\" width=\"600\" height=\"650\"></img>\n",
    "<img src=\"../documentation/images/ZadelhoffDiastolicFigure4.jpg\" width=\"600\" height=\"650\"></img><br>"
   ]
  },
  {
   "cell_type": "code",
   "execution_count": null,
   "metadata": {},
   "outputs": [],
   "source": [
    "neo.calculate(60)\n",
    "neo.get_total_blood_volume()\n",
    "neo.get_vitals()"
   ]
  },
  {
   "cell_type": "code",
   "execution_count": null,
   "metadata": {},
   "outputs": [],
   "source": [
    "neo.plot_time_graph([\"LA_LV.flow\"], time_to_calculate=5)"
   ]
  },
  {
   "cell_type": "code",
   "execution_count": null,
   "metadata": {},
   "outputs": [],
   "source": [
    "neo.plot_heart_flows()"
   ]
  },
  {
   "cell_type": "code",
   "execution_count": null,
   "metadata": {},
   "outputs": [],
   "source": [
    "model.save_model_state_json(\"model_state.json\")"
   ]
  },
  {
   "cell_type": "code",
   "execution_count": null,
   "metadata": {},
   "outputs": [],
   "source": []
  }
 ],
 "metadata": {
  "kernelspec": {
   "display_name": "Python 3",
   "language": "python",
   "name": "python3"
  },
  "language_info": {
   "codemirror_mode": {
    "name": "ipython",
    "version": 3
   },
   "file_extension": ".py",
   "mimetype": "text/x-python",
   "name": "python",
   "nbconvert_exporter": "python",
   "pygments_lexer": "ipython3",
   "version": "3.10.12"
  }
 },
 "nbformat": 4,
 "nbformat_minor": 2
}
