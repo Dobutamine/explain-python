{
 "cells": [
  {
   "cell_type": "markdown",
   "metadata": {},
   "source": [
    "<h3 style=\"color:red;\">Term neonate of 38 weeks of gestation and 3.3 kg at 48 hours</h3>\n"
   ]
  },
  {
   "cell_type": "code",
   "execution_count": 1,
   "metadata": {},
   "outputs": [
    {
     "name": "stdout",
     "output_type": "stream",
     "text": [
      " Model 'normal neonate' loaded and initialized correctly.\n",
      " Ready in 6.8 sec. Average model step in 0.0282 ms.\n"
     ]
    }
   ],
   "source": [
    "# as this notebook is run from a subfolder, we need to change the working directory to the root folder\n",
    "import os\n",
    "\n",
    "if os.getcwd().split(\"/\")[-1] != \"explain-python\":\n",
    "    os.chdir(\"..\")\n",
    "\n",
    "# import the model engine and the model interface\n",
    "from explain_core.ModelEngine import ModelEngine\n",
    "\n",
    "# instantiate a model engine instance with the 'normal_neonate' model definition\n",
    "model = ModelEngine(\"definitions/normal_neonate.json\")\n",
    "\n",
    "# report the gas pressures in kPa\n",
    "model.set_pressure_unit(\"kpa\")\n",
    "\n",
    "# get a reference to all the submodels\n",
    "models = model.models\n",
    "\n",
    "# instantiate a custom interface object especially designed to interact with the neonatal model engine instance\n",
    "from interfaces.NeoInterface import NeoInterface\n",
    "\n",
    "neo = NeoInterface(model)\n",
    "\n",
    "# enable or disable the physiological submodels which can be enabled or disabled.\n",
    "neo.ans(True)\n",
    "neo.breathing(True)\n",
    "neo.metabolism(True)\n",
    "neo.mob(True)\n",
    "neo.pda(False)\n",
    "\n",
    "# enable or disable the extra-corporeal models\n",
    "neo.placenta(False)\n",
    "neo.ventilator(False)\n",
    "neo.ecls(False)\n",
    "neo.resuscitation(False)\n",
    "\n",
    "\n",
    "# stabilize the model by calculating 120 seconds\n",
    "neo.calculate(120)"
   ]
  },
  {
   "cell_type": "markdown",
   "metadata": {},
   "source": [
    "<h5 style=\"color:red;\">Model run results</h5>"
   ]
  },
  {
   "cell_type": "code",
   "execution_count": 12,
   "metadata": {},
   "outputs": [
    {
     "name": "stdout",
     "output_type": "stream",
     "text": [
      " Ready in 3.8 sec. Average model step in 0.0314 ms.\n",
      "Heart.heart_rate: max  118.34459 min  117.54515\n",
      "AA.pres         : max      57.17, min   29.27629 mmHg\n",
      "LA_LV.flow      : net  301.03814, forward  301.03814, backward        0.0 ml/kg/min, stroke volume:    2.55115 ml/kg, \n",
      "RA_RV.flow      : net  299.40935, forward  299.40935, backward        0.0 ml/kg/min, stroke volume:    2.53735 ml/kg, \n",
      "SVC_RA.flow     : net  128.38851, forward  145.15719, backward  -16.76868 ml/kg/min, stroke volume:    1.08803 ml/kg, \n",
      "AAR_AD.flow     : net  169.45375, forward  174.15115, backward    -4.6974 ml/kg/min, stroke volume:    1.43604 ml/kg, \n",
      "LV.vol          : max    3.36822, min    0.74255 ml/kg\n"
     ]
    },
    {
     "data": {
      "text/plain": [
       "{'heartrate': 117.50946918038775,\n",
       " 'spo2_pre': 95.42769468795306,\n",
       " 'spo2_post': 94.93247742981752,\n",
       " 'abp_systole': 57.20975,\n",
       " 'abp_diastole': 29.39221,\n",
       " 'pap_systole': 37.78157,\n",
       " 'pap_diastole': 12.95629,\n",
       " 'cvp': 2.0472598719999997,\n",
       " 'resp_rate': 45.40437286574543,\n",
       " 'pH': 7.335972075011408,\n",
       " 'po2': 10.030529466021612,\n",
       " 'pco2': 6.61373575423485,\n",
       " 'hco3': 26.200075379389077,\n",
       " 'be': -0.4659796256555657}"
      ]
     },
     "execution_count": 12,
     "metadata": {},
     "output_type": "execute_result"
    }
   ],
   "source": [
    "# get the pressures, flows and volumes from a 60 second model run.\n",
    "neo.validate()\n",
    "neo.get_vitals()"
   ]
  },
  {
   "cell_type": "markdown",
   "metadata": {},
   "source": [
    "<h5 style=\"color:red;\">Blood flows and volumes target data</h5>\n",
    "<a href=\"https://pubmed.ncbi.nlm.nih.gov/20971721/\">Groves AM, Chiesa G, Durighel G, Goldring ST, Fitzpatrick JA, Uribe S, Razavi R, Hajnal JV, Edwards AD. Functional cardiac MRI in preterm and term newborns. Arch Dis Child Fetal Neonatal Ed. 2011 Mar;96(2):F86-91. doi: 10.1136/adc.2010.189142. Epub 2010 Oct 21. PMID: 20971721; PMCID: PMC3093932.</a><br>\n",
    "<img src=\"../documentation/images/GrovesFigure3.jpg\" width=\"600\" height=\"480\"></img>\n",
    "<img src=\"../documentation/images/GrovesFigure5.jpg\" width=\"600\" height=\"480\"></img><br>\n",
    "<!-- <img src=\"../documentation/images/GrovesTable1.jpg\" width=\"300\" height=\"100\"></img>\n",
    "<img src=\"../documentation/images/GrovesTable3.jpg\" width=\"280\" height=\"100\"></img> -->"
   ]
  },
  {
   "cell_type": "markdown",
   "metadata": {},
   "source": [
    "<h5 style=\"color:red;\">Blood pressure target data</h5>\n",
    "\n",
    "\n",
    "<a href=\"https://pubmed.ncbi.nlm.nih.gov/36858885/\">van Zadelhoff AC, Poppe JA, Willemsen S, Mauff K, van Weteringen W, Goos TG, Reiss IKM, Vermeulen MJ, de Graaff JC. Age-dependent changes in arterial blood pressure in neonates during the first week of life: reference values and development of a model. Br J Anaesth. 2023 May;130(5):585-594. doi: 10.1016/j.bja.2023.01.024. Epub 2023 Feb 28. PMID: 36858885.</a><br><br>\n",
    "<img src=\"../documentation/images/ZadelhoffSystolicFigure4.jpg\" width=\"600\" height=\"650\"></img>\n",
    "<img src=\"../documentation/images/ZadelhoffDiastolicFigure4.jpg\" width=\"600\" height=\"650\"></img><br>"
   ]
  },
  {
   "cell_type": "code",
   "execution_count": null,
   "metadata": {},
   "outputs": [],
   "source": [
    "# get additional model data, heartrate and resp_rate in beats and breaths per minute, pressures in mmHg, po2 and pco2 in kPa, hco3 and base excess (be) in mmol/l\n",
    "neo.get_vitals()"
   ]
  },
  {
   "cell_type": "code",
   "execution_count": null,
   "metadata": {},
   "outputs": [],
   "source": [
    "# plot the mitral valve flow where in a normal neonate of 24 hours the E/A ratio is just above 1.0\n",
    "neo.plot_time_graph(\n",
    "    [\"LA_LV.flow\"], time_to_calculate=5, sampleinterval=0.0005, weight_based=True\n",
    ")"
   ]
  },
  {
   "cell_type": "code",
   "execution_count": null,
   "metadata": {},
   "outputs": [],
   "source": [
    "neo.plot_heart_flows_left()"
   ]
  },
  {
   "cell_type": "code",
   "execution_count": null,
   "metadata": {},
   "outputs": [],
   "source": []
  }
 ],
 "metadata": {
  "kernelspec": {
   "display_name": "Python 3",
   "language": "python",
   "name": "python3"
  },
  "language_info": {
   "codemirror_mode": {
    "name": "ipython",
    "version": 3
   },
   "file_extension": ".py",
   "mimetype": "text/x-python",
   "name": "python",
   "nbconvert_exporter": "python",
   "pygments_lexer": "ipython3",
   "version": "3.10.12"
  }
 },
 "nbformat": 4,
 "nbformat_minor": 2
}
