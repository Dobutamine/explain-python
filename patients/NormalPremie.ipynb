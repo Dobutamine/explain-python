{
 "cells": [
  {
   "cell_type": "markdown",
   "metadata": {},
   "source": [
    "<h3 style=\"color:red;\">Preterm neonate of 31 weeks of gestation and 1.5 kg at 48 hours</h3>\n"
   ]
  },
  {
   "cell_type": "code",
   "execution_count": 1,
   "metadata": {},
   "outputs": [
    {
     "name": "stdout",
     "output_type": "stream",
     "text": [
      " Model 'normal neonate' loaded and initialized correctly.\n",
      " Ready in 6.9 sec. Average model step in 0.0286 ms.\n",
      " Ready in 7.4 sec. Average model step in 0.0308 ms.\n"
     ]
    }
   ],
   "source": [
    "# as this notebook is run from a subfolder, we need to change the working directory to the root folder\n",
    "import os\n",
    "\n",
    "if os.getcwd().split(\"/\")[-1] != \"explain-python\":\n",
    "    os.chdir(\"..\")\n",
    "\n",
    "# import the model engine and the model interface\n",
    "from explain_core.ModelEngine import ModelEngine\n",
    "\n",
    "# instantiate a model engine instance with the 'normal_neonate' model definition\n",
    "model = ModelEngine(\"definitions/normal_neonate.json\")\n",
    "\n",
    "# report the gas pressures in kPa\n",
    "model.set_pressure_unit(\"kpa\")\n",
    "\n",
    "# get a reference to all the submodels\n",
    "models = model.models\n",
    "\n",
    "# instantiate a custom interface object especially designed to interact with the neonatal model engine instance\n",
    "from interfaces.NeoInterface import NeoInterface\n",
    "\n",
    "neo = NeoInterface(model)\n",
    "\n",
    "# enable or disable the physiological submodels which can be enabled or disabled.\n",
    "neo.ans(True)\n",
    "neo.breathing(True)\n",
    "neo.metabolism(True)\n",
    "neo.mob(True)\n",
    "neo.pda(False)\n",
    "\n",
    "# enable or disable the extra-corporeal models\n",
    "neo.placenta(False)\n",
    "neo.ventilator(False)\n",
    "neo.ecls(False)\n",
    "neo.resuscitation(False)\n",
    "\n",
    "# stabilize the model by calculating 120 seconds\n",
    "neo.calculate(120)\n",
    "\n",
    "# scale the model to a premature neonate of 31 weeks and 1.5 kg (p50 Fenton growth charts) and recalculate 120 seconds\n",
    "model._scaling.scale_patient(\n",
    "    target_weight=1.5,\n",
    "    target_height=0.406,\n",
    "    target_blood_volume=0.08,\n",
    "    target_hr_ref=150,\n",
    "    target_map=45.0,\n",
    ")\n",
    "\n",
    "# stabilize the model by calculating 120 seconds\n",
    "neo.calculate(120)"
   ]
  },
  {
   "cell_type": "markdown",
   "metadata": {},
   "source": [
    "<h5 style=\"color:red;\">Model run results</h5>"
   ]
  },
  {
   "cell_type": "code",
   "execution_count": 2,
   "metadata": {},
   "outputs": [
    {
     "name": "stdout",
     "output_type": "stream",
     "text": [
      "Heart.heart_rate: max  142.43154 min  142.04334\n",
      "AA.pres         : max   60.96904, min   36.44448 mmHg\n",
      "LA_LV.flow      : net  252.97779, forward  252.97779, backward        0.0 ml/kg/min, stroke volume:    1.78152 ml/kg, \n",
      "RA_RV.flow      : net  249.87918, forward  249.87918, backward        0.0 ml/kg/min, stroke volume:     1.7597 ml/kg, \n",
      "SVC_RA.flow     : net   109.0751, forward  115.97461, backward   -6.89951 ml/kg/min, stroke volume:    0.76813 ml/kg, \n",
      "AAR_AD.flow     : net  140.49313, forward  142.94713, backward     -2.454 ml/kg/min, stroke volume:    0.98938 ml/kg, \n",
      "LV.vol          : max    2.55134, min    0.75052 ml/kg\n"
     ]
    }
   ],
   "source": [
    "# get the pressures, flows and volumes from a 60 second model run.\n",
    "neo.validate()"
   ]
  },
  {
   "cell_type": "markdown",
   "metadata": {},
   "source": [
    "<h5 style=\"color:red;\">Blood flows and volumes target data</h5>\n",
    "<a href=\"https://pubmed.ncbi.nlm.nih.gov/20971721/\">Groves AM, Chiesa G, Durighel G, Goldring ST, Fitzpatrick JA, Uribe S, Razavi R, Hajnal JV, Edwards AD. Functional cardiac MRI in preterm and term newborns. Arch Dis Child Fetal Neonatal Ed. 2011 Mar;96(2):F86-91. doi: 10.1136/adc.2010.189142. Epub 2010 Oct 21. PMID: 20971721; PMCID: PMC3093932.</a><br>\n",
    "<img src=\"../documentation/images/GrovesFigure3.jpg\" width=\"600\" height=\"450\"></img>\n",
    "<img src=\"../documentation/images/GrovesFigure5.jpg\" width=\"600\" height=\"450\"></img><br>\n",
    "<!-- <img src=\"../documentation/images/GrovesTable1.jpg\" width=\"300\" height=\"100\"></img>\n",
    "<img src=\"../documentation/images/GrovesTable3.jpg\" width=\"280\" height=\"100\"></img> -->"
   ]
  },
  {
   "cell_type": "markdown",
   "metadata": {},
   "source": [
    "<h5 style=\"color:red;\">Blood pressure target data</h5>\n",
    "\n",
    "\n",
    "<a href=\"https://pubmed.ncbi.nlm.nih.gov/36858885/\">van Zadelhoff AC, Poppe JA, Willemsen S, Mauff K, van Weteringen W, Goos TG, Reiss IKM, Vermeulen MJ, de Graaff JC. Age-dependent changes in arterial blood pressure in neonates during the first week of life: reference values and development of a model. Br J Anaesth. 2023 May;130(5):585-594. doi: 10.1016/j.bja.2023.01.024. Epub 2023 Feb 28. PMID: 36858885.</a><br><br>\n",
    "<img src=\"../documentation/images/ZadelhoffSystolicFigure4.jpg\" width=\"600\" height=\"650\"></img>\n",
    "<img src=\"../documentation/images/ZadelhoffDiastolicFigure4.jpg\" width=\"600\" height=\"650\"></img><br>"
   ]
  },
  {
   "cell_type": "code",
   "execution_count": 3,
   "metadata": {},
   "outputs": [
    {
     "data": {
      "text/plain": [
       "{'heartrate': 142.30712361914297,\n",
       " 'spo2_pre': 96.23693304629676,\n",
       " 'spo2_post': 95.7604047326368,\n",
       " 'abp_systole': 60.94196,\n",
       " 'abp_diastole': 36.5827,\n",
       " 'pap_systole': 36.0852,\n",
       " 'pap_diastole': 14.79928,\n",
       " 'cvp': 2.286990083,\n",
       " 'resp_rate': 42.17967500984515,\n",
       " 'pH': 7.395187352183834,\n",
       " 'po2': 10.179583504080123,\n",
       " 'pco2': 5.72196788644237,\n",
       " 'hco3': 25.97863899892441,\n",
       " 'be': 0.614471574992734}"
      ]
     },
     "execution_count": 3,
     "metadata": {},
     "output_type": "execute_result"
    }
   ],
   "source": [
    "# get additional model data, heartrate and resp_rate in beats and breaths per minute, pressures in mmHg, po2 and pco2 in kPa, hco3 and base excess (be) in mmol/l\n",
    "neo.get_vitals()"
   ]
  },
  {
   "cell_type": "code",
   "execution_count": null,
   "metadata": {},
   "outputs": [],
   "source": []
  }
 ],
 "metadata": {
  "kernelspec": {
   "display_name": "Python 3",
   "language": "python",
   "name": "python3"
  },
  "language_info": {
   "codemirror_mode": {
    "name": "ipython",
    "version": 3
   },
   "file_extension": ".py",
   "mimetype": "text/x-python",
   "name": "python",
   "nbconvert_exporter": "python",
   "pygments_lexer": "ipython3",
   "version": "3.10.12"
  }
 },
 "nbformat": 4,
 "nbformat_minor": 2
}
