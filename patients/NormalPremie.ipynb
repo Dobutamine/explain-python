{
 "cells": [
  {
   "cell_type": "markdown",
   "metadata": {},
   "source": [
    "<h3 style=\"color:red;\">Preterm neonate of 28 weeks of gestation and 1.0 kg at 24 hours with open ductus arteriosus</h3>\n",
    "\n",
    "<h5>Reference to target data for validation</h5>\n",
    "<a href=\"https://pubmed.ncbi.nlm.nih.gov/20971721/\" >Groves AM, Chiesa G, Durighel G, Goldring ST, Fitzpatrick JA, Uribe S, Razavi R, Hajnal JV, Edwards AD. Functional cardiac MRI in preterm and term newborns. Arch Dis Child Fetal Neonatal Ed. 2011 Mar;96(2):F86-91. doi: 10.1136/adc.2010.189142. Epub 2010 Oct 21. PMID: 20971721; PMCID: PMC3093932.</a>\n",
    "\n",
    "<a href=\"https://pubmed.ncbi.nlm.nih.gov/34309068/\">Bischoff AR, Giesinger RE, Stanford AH, Ashwath R, McNamara PJ. Assessment of superior vena cava flow and cardiac output in different patterns of patent ductus arteriosus shunt. Echocardiography. 2021 Sep;38(9):1524-1533. doi: 10.1111/echo.15163. Epub 2021 Jul 26. PMID: 34309068.</a>\n"
   ]
  },
  {
   "cell_type": "code",
   "execution_count": 1,
   "metadata": {},
   "outputs": [
    {
     "name": "stdout",
     "output_type": "stream",
     "text": [
      " Model 'normal neonate' loaded and initialized correctly.\n",
      " Ready in 3.7 sec. Average model step in 0.0304 ms.\n"
     ]
    }
   ],
   "source": [
    "# as this notebook is run from a subfolder, we need to change the working directory to the root folder\n",
    "import os\n",
    "\n",
    "if os.getcwd().split(\"/\")[-1] != \"explain-python\":\n",
    "    os.chdir(\"..\")\n",
    "\n",
    "# import the model engine and the model interface\n",
    "from explain_core.ModelEngine import ModelEngine\n",
    "\n",
    "# instantiate a model engine instance with the 'normal_neonate' model definition\n",
    "model = ModelEngine(\"definitions/normal_neonate.json\")\n",
    "\n",
    "# report the gas pressures in kPa\n",
    "model.set_pressure_unit(\"kpa\")\n",
    "\n",
    "# get a reference to all the submodels\n",
    "models = model.models\n",
    "\n",
    "# instantiate a custom interface object especially designed to interact with the neonatal model engine instance\n",
    "from interfaces.NeoInterface import NeoInterface\n",
    "\n",
    "neo = NeoInterface(model)\n",
    "\n",
    "# enable or disable the physiological submodels which can be enabled or disabled.\n",
    "neo.ans(True)\n",
    "neo.breathing(True)\n",
    "neo.metabolism(True)\n",
    "neo.mob(True)\n",
    "neo.pda(False)\n",
    "\n",
    "# enable or disable the extra-corporeal models\n",
    "neo.placenta(False)\n",
    "neo.ventilator(False)\n",
    "neo.ecls(False)\n",
    "neo.resuscitation(False)\n",
    "\n",
    "# stabilize the model by calculating 60 seconds\n",
    "neo.calculate(60)"
   ]
  },
  {
   "cell_type": "code",
   "execution_count": null,
   "metadata": {},
   "outputs": [],
   "source": []
  }
 ],
 "metadata": {
  "kernelspec": {
   "display_name": "Python 3",
   "language": "python",
   "name": "python3"
  },
  "language_info": {
   "codemirror_mode": {
    "name": "ipython",
    "version": 3
   },
   "file_extension": ".py",
   "mimetype": "text/x-python",
   "name": "python",
   "nbconvert_exporter": "python",
   "pygments_lexer": "ipython3",
   "version": "3.10.12"
  }
 },
 "nbformat": 4,
 "nbformat_minor": 2
}
