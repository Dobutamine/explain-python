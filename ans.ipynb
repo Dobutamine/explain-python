{
 "cells": [
  {
   "cell_type": "code",
   "execution_count": 1,
   "metadata": {},
   "outputs": [
    {
     "name": "stdout",
     "output_type": "stream",
     "text": [
      " Model 'normal neonate' loaded and initialized correctly.\n",
      " Ready in 3.1 sec. Average model step in 0.0262 ms.\n"
     ]
    }
   ],
   "source": [
    "#%matplotlib ipympl  # enable this for realtime graphs\n",
    "\n",
    "# first compile the c modules where the model depends on\n",
    "from  explain_core.ModulesCompiler import compile_modules;\n",
    "compile_modules()\n",
    "\n",
    "# import the model engine and the model interface\n",
    "from explain_core.ModelEngine import ModelEngine\n",
    "from explain_core.helpers.Interface import Interface\n",
    "\n",
    "# instantiate a model engine instance with the 'normal_neonate' model definition\n",
    "model = ModelEngine(\"normal_neonate.json\")\n",
    "\n",
    "# get a reference to all the submodels\n",
    "models = model.models\n",
    "\n",
    "# instantiate an interface object to interact with the model engine instance\n",
    "neo = Interface(model)\n",
    "\n",
    "# enable or disable the physiological submodels which can be enabled or disabled.\n",
    "neo.ans(True)\n",
    "neo.breathing(True)\n",
    "neo.metabolism(True)\n",
    "neo.mob(True)\n",
    "\n",
    "# desiable the extra-corporeal models\n",
    "neo.placenta(False)\n",
    "neo.ventilator(False)\n",
    "neo.ecls(False)\n",
    "neo.artificial_whomb(False)\n",
    "\n",
    "# get a direct reference to the mob model\n",
    "ans = models[\"Ans\"]\n",
    "\n",
    "# stabilize by calculating 60 seconds with fixed resp_rate of 40/min, tidal volume of 16 ml and fixed heart rate of 140 / min\n",
    "neo.calculate(60)"
   ]
  },
  {
   "cell_type": "code",
   "execution_count": 2,
   "metadata": {},
   "outputs": [
    {
     "name": "stdout",
     "output_type": "stream",
     "text": [
      " Ready in 12.9 sec. Average model step in 0.0179 ms.\n"
     ]
    }
   ],
   "source": [
    "neo.fastforward(360)"
   ]
  },
  {
   "cell_type": "code",
   "execution_count": 3,
   "metadata": {},
   "outputs": [
    {
     "name": "stdout",
     "output_type": "stream",
     "text": [
      "\n",
      "AA.pres_in      : max   75.50268, min   49.30683 mmHg\n",
      "PA.pres_in      : max   43.72238, min   23.25447 mmHg\n",
      "IVCI.pres_in    : max    8.88038, min    5.58911 mmHg\n"
     ]
    },
    {
     "data": {
      "text/plain": [
       "{'heartrate': 139.49907928528208,\n",
       " 'spo2_pre': 97.8826995470585,\n",
       " 'spo2_post': 97.6000237523096,\n",
       " 'abp_systole': 75.50268,\n",
       " 'abp_diastole': 49.30683,\n",
       " 'pap_systole': 43.72238,\n",
       " 'pap_diastole': 23.25447,\n",
       " 'cvp': 6.686090291,\n",
       " 'resp_rate': 41.23691933254831,\n",
       " 'pH': 7.399725201214933,\n",
       " 'po2': 99.10931310676095,\n",
       " 'pco2': 42.45147791654516,\n",
       " 'hco3': 25.961620177268447,\n",
       " 'be': 0.6972295100461974}"
      ]
     },
     "execution_count": 3,
     "metadata": {},
     "output_type": "execute_result"
    }
   ],
   "source": [
    "neo.get_vitals()"
   ]
  },
  {
   "cell_type": "code",
   "execution_count": 4,
   "metadata": {},
   "outputs": [
    {
     "name": "stdout",
     "output_type": "stream",
     "text": [
      "\n",
      "LA_LV.flow      : net  237.28587, forward  237.28587, backward        0.0 ml/kg/min, stroke volume:    1.70708 ml/kg, \n",
      "RA_RV.flow      : net  237.38563, forward  237.38563, backward        0.0 ml/kg/min, stroke volume:     1.7078 ml/kg, \n",
      "RV_PA.flow      : net  236.42038, forward  236.42038, backward        0.0 ml/kg/min, stroke volume:    1.70085 ml/kg, \n",
      "LV_AA.flow      : net  236.42727, forward  236.42727, backward        0.0 ml/kg/min, stroke volume:     1.7009 ml/kg, \n",
      "IVCI_RA.flow    : net  131.03138, forward   137.7083, backward   -6.67692 ml/kg/min, stroke volume:    0.94266 ml/kg, \n",
      "SVC_RA.flow     : net  103.23386, forward  110.08733, backward   -6.85347 ml/kg/min, stroke volume:    0.74268 ml/kg, \n",
      "LA.pres_in      : max   10.59493, min    3.15645 mmHg\n",
      "RA.pres_in      : max   10.58262, min    2.72125 mmHg\n",
      "LV.pres_in      : max   75.91567, min    2.45563 mmHg\n",
      "RV.pres_in      : max   44.24242, min    1.42308 mmHg\n",
      "AA.pres_in      : max   75.58972, min   49.25602 mmHg\n",
      "IVCI.pres_in    : max    8.88414, min    5.58109 mmHg\n",
      "LA.vol          : max    1.80993, min    0.62105 ml/kg\n",
      "RA.vol          : max    2.02039, min    0.46322 ml/kg\n",
      "LV.vol          : max    2.50965, min    0.77693 ml/kg\n",
      "RV.vol          : max    2.42107, min    0.40022 ml/kg\n",
      "Heart.heart_rate: max  139.51586 min  139.13056\n",
      "Mob.sv_lv_kg    : max    1.72965 min    1.66481\n",
      "Mob.sv_rv_kg    : max    2.01981 min    1.52495\n"
     ]
    }
   ],
   "source": [
    "neo.analyze_heart()"
   ]
  },
  {
   "cell_type": "code",
   "execution_count": null,
   "metadata": {},
   "outputs": [],
   "source": []
  }
 ],
 "metadata": {
  "kernelspec": {
   "display_name": "pypy",
   "language": "python",
   "name": "python3"
  },
  "language_info": {
   "codemirror_mode": {
    "name": "ipython",
    "version": 3
   },
   "file_extension": ".py",
   "mimetype": "text/x-python",
   "name": "python",
   "nbconvert_exporter": "python",
   "pygments_lexer": "ipython3",
   "version": "3.9.17"
  },
  "orig_nbformat": 4
 },
 "nbformat": 4,
 "nbformat_minor": 2
}
