{
 "cells": [
  {
   "cell_type": "code",
   "execution_count": 1,
   "metadata": {},
   "outputs": [
    {
     "name": "stdout",
     "output_type": "stream",
     "text": [
      "Ready in 2.3 sec. Average model step in 0.0376 ms.\n"
     ]
    }
   ],
   "source": [
    "# import the required modules\n",
    "from explain_core.ModelEngine import ModelEngine\n",
    "from explain_core.helpers.Interface import Interface\n",
    "\n",
    "# instantiate a model engine instance with the 'normal_neonate' model definition\n",
    "model = ModelEngine(\"normal_neonate.json\")\n",
    "\n",
    "# instantiate an interface object to interact with the model engine instance\n",
    "neo = Interface(model)\n",
    "\n",
    "# stabilize the model by calculating the first 30 seconds\n",
    "neo.calculate(30)"
   ]
  },
  {
   "cell_type": "code",
   "execution_count": 2,
   "metadata": {},
   "outputs": [
    {
     "name": "stdout",
     "output_type": "stream",
     "text": [
      "Ready in 6.8 sec. Average model step in 0.0285 ms.\n"
     ]
    }
   ],
   "source": [
    "neo.calculate(120)"
   ]
  },
  {
   "cell_type": "code",
   "execution_count": 3,
   "metadata": {},
   "outputs": [
    {
     "data": {
      "text/plain": [
       "{'ph': 7.423387433814232,\n",
       " 'po2': 94.76144197975444,\n",
       " 'pco2': 40.06281143186564,\n",
       " 'hco3': 25.872752419579538,\n",
       " 'be': 1.128662184778873,\n",
       " 'so2': 97.73943376864915}"
      ]
     },
     "execution_count": 3,
     "metadata": {},
     "output_type": "execute_result"
    }
   ],
   "source": [
    "neo.get_bloodgas(\"AA\")"
   ]
  },
  {
   "cell_type": "code",
   "execution_count": 4,
   "metadata": {},
   "outputs": [
    {
     "name": "stdout",
     "output_type": "stream",
     "text": [
      "1\n",
      "0\n",
      "7.307584490421405\n",
      "0.0\n",
      "53.18065718058617\n",
      "26.30582740749148\n",
      "-0.9842733922880422\n",
      "5.0\n",
      "{'tco2': 27.96906189940755, 'to2': 5.470450805609645, 'ph': 7.307584495113835, 'po2': 44.032330851139434, 'pco2': 53.18065665661323, 'hco3': 26.3058274234042, 'be': -0.9842732793657764, 'so2': 78.63517361928302, 'sid': 35.9, 'albumin': 25.0, 'phosphates': 1.64, 'uma': 0.0, 'dpg': 5.0, 'hemoglobin': 8.0, 'temp': 37.0, 'sid_app': 36.0}\n"
     ]
    }
   ],
   "source": [
    "neo.get_bloodgas_exp(\"RA\")"
   ]
  },
  {
   "cell_type": "code",
   "execution_count": 6,
   "metadata": {},
   "outputs": [
    {
     "data": {
      "text/plain": [
       "{'na': 138.0, 'k': 3.5, 'ca': 1.0, 'cl': 108.0, 'lact': 1.0, 'mg': 0.75}"
      ]
     },
     "execution_count": 6,
     "metadata": {},
     "output_type": "execute_result"
    }
   ],
   "source": [
    "neo.model.models[\"RA\"].solutes"
   ]
  },
  {
   "cell_type": "code",
   "execution_count": null,
   "metadata": {},
   "outputs": [],
   "source": []
  }
 ],
 "metadata": {
  "kernelspec": {
   "display_name": "pypy",
   "language": "python",
   "name": "python3"
  },
  "language_info": {
   "codemirror_mode": {
    "name": "ipython",
    "version": 3
   },
   "file_extension": ".py",
   "mimetype": "text/x-python",
   "name": "python",
   "nbconvert_exporter": "python",
   "pygments_lexer": "ipython3",
   "version": "3.10.12"
  },
  "orig_nbformat": 4
 },
 "nbformat": 4,
 "nbformat_minor": 2
}
