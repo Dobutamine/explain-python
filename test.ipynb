{
 "cells": [
  {
   "cell_type": "code",
   "execution_count": 1,
   "metadata": {},
   "outputs": [],
   "source": [
    "%matplotlib widget\n",
    "# import the model engine and load the 'normal_neonate' model definition\n",
    "from explain_core.ModelEngine import ModelEngine\n",
    "from explain_core.helpers.Plotter import Plotter\n",
    "\n",
    "model = ModelEngine(\"normal_neonate.json\")\n",
    "plt = Plotter(model)"
   ]
  },
  {
   "cell_type": "code",
   "execution_count": 2,
   "metadata": {},
   "outputs": [
    {
     "ename": "TypeError",
     "evalue": "'NoneType' object is not subscriptable (key 'ph')",
     "output_type": "error",
     "traceback": [
      "\u001b[0;31m---------------------------------------------------------------------------\u001b[0m",
      "\u001b[0;31mTypeError\u001b[0m                                 Traceback (most recent call last)",
      "Cell \u001b[0;32mIn[2], line 1\u001b[0m\n\u001b[0;32m----> 1\u001b[0m plt\u001b[39m.\u001b[39;49mget_bloodgas(\u001b[39m\"\u001b[39;49m\u001b[39mAA\u001b[39;49m\u001b[39m\"\u001b[39;49m)\n",
      "File \u001b[0;32m~/Library/Mobile Documents/com~apple~CloudDocs/explain/explain-python/explain_core/helpers/Plotter.py:449\u001b[0m, in \u001b[0;36mPlotter.get_bloodgas\u001b[0;34m(self, component)\u001b[0m\n\u001b[1;32m    448\u001b[0m \u001b[39mdef\u001b[39;00m \u001b[39mget_bloodgas\u001b[39m(\u001b[39mself\u001b[39m, component\u001b[39m=\u001b[39m\u001b[39m'\u001b[39m\u001b[39mAA\u001b[39m\u001b[39m'\u001b[39m):\n\u001b[0;32m--> 449\u001b[0m     \u001b[39mself\u001b[39;49m\u001b[39m.\u001b[39;49mmodel\u001b[39m.\u001b[39;49mcalc_bloodgas(component)\n",
      "File \u001b[0;32m~/Library/Mobile Documents/com~apple~CloudDocs/explain/explain-python/explain_core/ModelEngine.py:392\u001b[0m, in \u001b[0;36mModelEngine.calc_bloodgas\u001b[0;34m(self, component)\u001b[0m\n\u001b[1;32m    389\u001b[0m result_oxy \u001b[39m=\u001b[39m calc_oxygenation_from_to2(\u001b[39mself\u001b[39m\u001b[39m.\u001b[39mmodels[component])\n\u001b[1;32m    391\u001b[0m \u001b[39m# build the bloodgas dictionnary\u001b[39;00m\n\u001b[0;32m--> 392\u001b[0m bg[\u001b[39m'\u001b[39m\u001b[39mph\u001b[39m\u001b[39m'\u001b[39m] \u001b[39m=\u001b[39m result_ab[\u001b[39m'\u001b[39;49m\u001b[39mph\u001b[39;49m\u001b[39m'\u001b[39;49m]\n\u001b[1;32m    393\u001b[0m bg[\u001b[39m'\u001b[39m\u001b[39mpo2\u001b[39m\u001b[39m'\u001b[39m] \u001b[39m=\u001b[39m result_oxy[\u001b[39m'\u001b[39m\u001b[39mpo2\u001b[39m\u001b[39m'\u001b[39m]\n\u001b[1;32m    394\u001b[0m bg[\u001b[39m'\u001b[39m\u001b[39mpco2\u001b[39m\u001b[39m'\u001b[39m] \u001b[39m=\u001b[39m result_ab[\u001b[39m'\u001b[39m\u001b[39mpco2\u001b[39m\u001b[39m'\u001b[39m]\n",
      "\u001b[0;31mTypeError\u001b[0m: 'NoneType' object is not subscriptable (key 'ph')"
     ]
    }
   ],
   "source": [
    "plt.get_bloodgas(\"AA\")"
   ]
  },
  {
   "cell_type": "code",
   "execution_count": null,
   "metadata": {},
   "outputs": [],
   "source": []
  }
 ],
 "metadata": {
  "kernelspec": {
   "display_name": "pypy",
   "language": "python",
   "name": "python3"
  },
  "language_info": {
   "codemirror_mode": {
    "name": "ipython",
    "version": 3
   },
   "file_extension": ".py",
   "mimetype": "text/x-python",
   "name": "python",
   "nbconvert_exporter": "python",
   "pygments_lexer": "ipython3",
   "version": "3.10.12"
  },
  "orig_nbformat": 4
 },
 "nbformat": 4,
 "nbformat_minor": 2
}
