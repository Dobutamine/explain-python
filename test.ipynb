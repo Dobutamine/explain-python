{
 "cells": [
  {
   "cell_type": "code",
   "execution_count": 1,
   "metadata": {},
   "outputs": [
    {
     "name": "stdout",
     "output_type": "stream",
     "text": [
      "Ready in 4.8 sec. Average model step in 0.0403 ms.\n"
     ]
    }
   ],
   "source": [
    "# set the matplotlib in widget mode (this is needed for realtime graphs)\n",
    "%matplotlib widget\n",
    "\n",
    "# import the required modules\n",
    "from explain_core.ModelEngine import ModelEngine\n",
    "from explain_core.helpers.Interface import Interface\n",
    "\n",
    "# instantiate a model engine instance with the 'normal_neonate' model definition\n",
    "model = ModelEngine(\"normal_neonate.json\")\n",
    "\n",
    "# instantiate a interface object to interact with the model engine instance\n",
    "neo = Interface(model)\n",
    "\n",
    "# calculate 10 seconds\n",
    "neo.calculate(60)\n"
   ]
  },
  {
   "cell_type": "code",
   "execution_count": 2,
   "metadata": {},
   "outputs": [
    {
     "data": {
      "text/plain": [
       "{'heartrate': 109.86404714497908,\n",
       " 'spo2_pre': 97.61787049481701,\n",
       " 'abp_systole': 69.11613413957386,\n",
       " 'abp_diastole': 43.38043074825115,\n",
       " 'pap_systole': 42.08040120014763,\n",
       " 'pap_diastole': 20.340448697190716,\n",
       " 'cvp': 3.5867684187493856,\n",
       " 'resp_rate': 33.162727473662365}"
      ]
     },
     "execution_count": 2,
     "metadata": {},
     "output_type": "execute_result"
    }
   ],
   "source": [
    "neo.get_vitals()"
   ]
  },
  {
   "cell_type": "code",
   "execution_count": 3,
   "metadata": {},
   "outputs": [
    {
     "data": {
      "text/plain": [
       "{'ph': 7.426867872964741,\n",
       " 'po2': 92.55545499705859,\n",
       " 'pco2': 39.569806670932984,\n",
       " 'hco3': 25.759983312835256,\n",
       " 'be': 1.1107675945274293,\n",
       " 'so2': 97.61778519470897}"
      ]
     },
     "execution_count": 3,
     "metadata": {},
     "output_type": "execute_result"
    }
   ],
   "source": [
    "neo.get_bloodgas(\"AA\")"
   ]
  },
  {
   "cell_type": "code",
   "execution_count": null,
   "metadata": {},
   "outputs": [],
   "source": []
  }
 ],
 "metadata": {
  "kernelspec": {
   "display_name": "pypy",
   "language": "python",
   "name": "python3"
  },
  "language_info": {
   "codemirror_mode": {
    "name": "ipython",
    "version": 3
   },
   "file_extension": ".py",
   "mimetype": "text/x-python",
   "name": "python",
   "nbconvert_exporter": "python",
   "pygments_lexer": "ipython3",
   "version": "3.10.12"
  },
  "orig_nbformat": 4
 },
 "nbformat": 4,
 "nbformat_minor": 2
}
