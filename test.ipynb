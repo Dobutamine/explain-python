{
 "cells": [
  {
   "cell_type": "code",
   "execution_count": 1,
   "metadata": {},
   "outputs": [
    {
     "name": "stdout",
     "output_type": "stream",
     "text": [
      "Ready in 1.4 sec. Average model step in 0.0700 ms.\n"
     ]
    }
   ],
   "source": [
    "# set the matplotlib in widget mode (this is needed for realtime graphs)\n",
    "%matplotlib widget\n",
    "\n",
    "# import the required modules\n",
    "from explain_core.ModelEngine import ModelEngine\n",
    "from explain_core.helpers.Interface import Interface\n",
    "\n",
    "# instantiate a model engine instance with the 'normal_neonate' model definition\n",
    "model = ModelEngine(\"normal_neonate.json\")\n",
    "\n",
    "# instantiate a interface object to interact with the model engine instance\n",
    "neo = Interface(model)\n",
    "\n",
    "# calculate 10 seconds\n",
    "neo.calculate(10)\n",
    "\n",
    "# switch on the ventilator\n",
    "neo.switch_ventilator(True)\n"
   ]
  },
  {
   "cell_type": "code",
   "execution_count": 2,
   "metadata": {},
   "outputs": [
    {
     "name": "stdout",
     "output_type": "stream",
     "text": [
      "Ready in 24.6 sec. Average model step in 0.0342 ms.\n"
     ]
    }
   ],
   "source": [
    "neo.calculate(360)"
   ]
  },
  {
   "cell_type": "code",
   "execution_count": 8,
   "metadata": {},
   "outputs": [
    {
     "data": {
      "text/plain": [
       "{'ph': 7.476541033303835,\n",
       " 'po2': 95.5897110102614,\n",
       " 'pco2': 35.03656631438305,\n",
       " 'hco3': 25.572686038838853,\n",
       " 'be': 2.015852118584259,\n",
       " 'so2': 98.02252392663631}"
      ]
     },
     "execution_count": 8,
     "metadata": {},
     "output_type": "execute_result"
    }
   ],
   "source": []
  },
  {
   "cell_type": "code",
   "execution_count": 4,
   "metadata": {},
   "outputs": [
    {
     "data": {
      "text/plain": [
       "{'comps': [],\n",
       " 'tco2': 28.478692978832925,\n",
       " 'to2': 5.0404333427671135,\n",
       " 'ph': 7.4,\n",
       " 'po2': 0.0,\n",
       " 'pco2': 35.0,\n",
       " 'hco3': 25.0,\n",
       " 'be': 0.0,\n",
       " 'so2': 98.0,\n",
       " 'sid': 35.9,\n",
       " 'albumin': 25.0,\n",
       " 'phosphates': 1.64,\n",
       " 'uma': 0.0,\n",
       " 'dpg': 5.0,\n",
       " 'hemoglobin': 8.0,\n",
       " 'temp': 37.0}"
      ]
     },
     "execution_count": 4,
     "metadata": {},
     "output_type": "execute_result"
    }
   ],
   "source": [
    "model.models['PA'].aboxy"
   ]
  },
  {
   "cell_type": "code",
   "execution_count": 13,
   "metadata": {},
   "outputs": [
    {
     "data": {
      "text/plain": [
       "690.07041451858"
      ]
     },
     "execution_count": 13,
     "metadata": {},
     "output_type": "execute_result"
    }
   ],
   "source": [
    "model.models['Ventilator'].exp_tidal_volume * model.models['Ventilator'].vent_rate * 1000.0"
   ]
  },
  {
   "cell_type": "code",
   "execution_count": 14,
   "metadata": {},
   "outputs": [
    {
     "name": "stdout",
     "output_type": "stream",
     "text": [
      "Total blood volume: 86.29901654296097 ml/kg = 100.0%\n",
      "Systemic blood volume: 77.59353732649026 ml/kg = 89.91242361129692%\n",
      "Pulmonary total blood volume: 8.705479216470696 ml/kg = 10.08757638870308%\n",
      "Pulmonary capillary blood volume: 3.542307015736947 ml/kg = 40.69054589246427% of total pulmonary blood volume\n",
      "Heart blood volume: 7.861692405686998 ml/kg = 9.109828501664706%\n",
      "Capillary blood volume: 4.2310541058591005 ml/kg = 4.902783687868351%\n",
      "Venous blood volume: 54.55273414951804 ml/kg = 63.213622049054116%\n",
      "Arterial blood volume: 10.94805666542612 ml/kg = 12.686189372709725%\n",
      "Upper body blood volume: 20.109347475049024 ml/kg = 23.30194280376102%\n",
      "Lower body blood volume: 49.62249744575423 ml/kg = 57.50065230587117%\n"
     ]
    },
    {
     "data": {
      "text/plain": [
       "0.28478675459177116"
      ]
     },
     "execution_count": 14,
     "metadata": {},
     "output_type": "execute_result"
    }
   ],
   "source": [
    "neo.get_total_blood_volume()"
   ]
  },
  {
   "cell_type": "code",
   "execution_count": 16,
   "metadata": {},
   "outputs": [
    {
     "name": "stdout",
     "output_type": "stream",
     "text": [
      "\n",
      "LA.vol          : max    8.64553, min    4.12265 ml/kg\n",
      "RA.vol          : max    8.73357, min    3.63642 ml/kg\n",
      "LV.vol          : max   11.84624, min    5.79059 ml/kg\n",
      "RV.vol          : max     10.266, min    4.09988 ml/kg\n",
      "COR.vol         : max    0.30832, min    0.30123 ml/kg\n",
      "LL.vol          : max    6.04875, min    5.36983 ml/kg\n",
      "RL.vol          : max    6.04875, min    5.36983 ml/kg\n",
      "PV.vol          : max    7.53253, min    7.02364 ml/kg\n",
      "PA.vol          : max   10.07221, min    6.61333 ml/kg\n",
      "AA.vol          : max    5.94661, min    4.94503 ml/kg\n",
      "AAR.vol         : max    5.58533, min    4.79486 ml/kg\n",
      "AD.vol          : max   24.61504, min   22.46309 ml/kg\n",
      "RLB.vol         : max    2.50486, min    2.31739 ml/kg\n",
      "LS.vol          : max    2.46094, min     2.3759 ml/kg\n",
      "KID.vol         : max    2.46315, min    2.37304 ml/kg\n",
      "INT.vol         : max    2.48774, min    2.33931 ml/kg\n",
      "RUB.vol         : max     1.9015, min    1.82334 ml/kg\n",
      "BR.vol          : max    2.52906, min    2.28799 ml/kg\n",
      "IVCI.vol        : max   19.20733, min   18.24499 ml/kg\n",
      "IVCE.vol        : max  100.87344, min   98.95267 ml/kg\n",
      "SVC.vol         : max   63.09157, min   61.75243 ml/kg\n"
     ]
    }
   ],
   "source": [
    "neo.get_blood_volumes()"
   ]
  },
  {
   "cell_type": "code",
   "execution_count": null,
   "metadata": {},
   "outputs": [],
   "source": []
  }
 ],
 "metadata": {
  "kernelspec": {
   "display_name": "pypy",
   "language": "python",
   "name": "python3"
  },
  "language_info": {
   "codemirror_mode": {
    "name": "ipython",
    "version": 3
   },
   "file_extension": ".py",
   "mimetype": "text/x-python",
   "name": "python",
   "nbconvert_exporter": "python",
   "pygments_lexer": "ipython3",
   "version": "3.10.12"
  },
  "orig_nbformat": 4
 },
 "nbformat": 4,
 "nbformat_minor": 2
}
