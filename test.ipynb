{
 "cells": [
  {
   "cell_type": "code",
   "execution_count": 1,
   "metadata": {},
   "outputs": [
    {
     "name": "stdout",
     "output_type": "stream",
     "text": [
      "normal neonate model loaded and initialized correctly.\n"
     ]
    }
   ],
   "source": [
    "from explain_core.ModelEngine import ModelEngine\n",
    "neo = ModelEngine(\"normal_neonate.json\")\n",
    "io = neo.interface\n",
    "models = neo.models\n",
    "neo.calculate(30)"
   ]
  },
  {
   "cell_type": "code",
   "execution_count": 2,
   "metadata": {},
   "outputs": [
    {
     "name": "stdout",
     "output_type": "stream",
     "text": [
      "Calculating model run of 10 sec. in 20000 steps.\n",
      "Ready in 1.268 sec. Average model step in 0.0634 ms.\n",
      "\n",
      "LA.pres         : max   18.28931, min    1.59355 mmHg\n",
      "RA.pres         : max   15.89151, min    1.56864 mmHg\n",
      "LV.pres         : max   67.32019, min   -0.03991 mmHg\n",
      "RV.pres         : max   44.37211, min   -0.70057 mmHg\n",
      "COR.pres        : max   20.13731, min   13.06546 mmHg\n",
      "LL.pres         : max   27.77826, min    16.3278 mmHg\n",
      "RL.pres         : max   27.77826, min    16.3278 mmHg\n",
      "PV.pres         : max   19.60451, min    6.26893 mmHg\n",
      "PA.pres         : max   43.95456, min   20.22798 mmHg\n",
      "AA.pres         : max   66.94612, min   39.73671 mmHg\n",
      "AAR.pres        : max   65.97033, min   39.67084 mmHg\n",
      "AD.pres         : max    65.4305, min   39.69301 mmHg\n",
      "RLB.pres        : max    37.1109, min   29.95869 mmHg\n",
      "LS.pres         : max   35.76364, min   31.91163 mmHg\n",
      "KID.pres        : max   35.83167, min   31.80225 mmHg\n",
      "INT.pres        : max   36.59743, min    30.6252 mmHg\n",
      "RUB.pres        : max    22.5352, min   18.01466 mmHg\n",
      "BR.pres         : max   36.79034, min    27.9506 mmHg\n",
      "IVCI.pres       : max    8.06019, min    5.70154 mmHg\n",
      "IVCE.pres       : max    7.75425, min    5.86461 mmHg\n",
      "SVC.pres        : max   13.26089, min    4.92872 mmHg\n"
     ]
    }
   ],
   "source": [
    "io.get_total_blood_volume()"
   ]
  },
  {
   "cell_type": "code",
   "execution_count": null,
   "metadata": {},
   "outputs": [],
   "source": []
  }
 ],
 "metadata": {
  "kernelspec": {
   "display_name": "pypy",
   "language": "python",
   "name": "python3"
  },
  "language_info": {
   "codemirror_mode": {
    "name": "ipython",
    "version": 3
   },
   "file_extension": ".py",
   "mimetype": "text/x-python",
   "name": "python",
   "nbconvert_exporter": "python",
   "pygments_lexer": "ipython3",
   "version": "3.10.12"
  },
  "orig_nbformat": 4
 },
 "nbformat": 4,
 "nbformat_minor": 2
}
