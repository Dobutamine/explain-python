{
 "cells": [
  {
   "cell_type": "code",
   "execution_count": null,
   "metadata": {},
   "outputs": [],
   "source": [
    "from explain_core.ModelEngine import ModelEngine\n",
    "neo = ModelEngine(\"normal_neonate.json\")\n",
    "io = neo.interface\n",
    "models = neo.models"
   ]
  },
  {
   "cell_type": "code",
   "execution_count": null,
   "metadata": {},
   "outputs": [],
   "source": [
    "models[\"MechanicalVentilator\"].switch_ventilator(True)\n",
    "models[\"MechanicalVentilator\"].pip = 10.0\n",
    "models[\"MechanicalVentilator\"].peep = 4.0\n",
    "models[\"MechanicalVentilator\"].insp_flow = 8.0\n",
    "models[\"MechanicalVentilator\"].exp_flow = 2.0\n",
    "io.plot_time_graph([\"MechanicalVentilator.pres\", \"MechanicalVentilator.flow\", \"MechanicalVentilator.vol\"], sharey=False, combined=False,time_to_calculate=10, fill=False)"
   ]
  },
  {
   "cell_type": "code",
   "execution_count": null,
   "metadata": {},
   "outputs": [],
   "source": [
    "io.plot_xy_graph(\"MechanicalVentilator.pres\", \"MechanicalVentilator.vol\")"
   ]
  },
  {
   "cell_type": "code",
   "execution_count": null,
   "metadata": {},
   "outputs": [],
   "source": [
    "models[\"AA\"].aboxy"
   ]
  },
  {
   "cell_type": "code",
   "execution_count": null,
   "metadata": {},
   "outputs": [],
   "source": []
  }
 ],
 "metadata": {
  "kernelspec": {
   "display_name": "pypy",
   "language": "python",
   "name": "python3"
  },
  "language_info": {
   "codemirror_mode": {
    "name": "ipython",
    "version": 3
   },
   "file_extension": ".py",
   "mimetype": "text/x-python",
   "name": "python",
   "nbconvert_exporter": "python",
   "pygments_lexer": "ipython3",
   "version": "3.10.12"
  },
  "orig_nbformat": 4
 },
 "nbformat": 4,
 "nbformat_minor": 2
}
