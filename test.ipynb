{
 "cells": [
  {
   "cell_type": "code",
   "execution_count": 5,
   "metadata": {},
   "outputs": [],
   "source": [
    "%matplotlib widget\n",
    "# import the model engine and load the 'normal_neonate' model definition\n",
    "from explain_core.ModelEngine import ModelEngine\n",
    "from explain_core.helpers.Plotter import Plotter\n",
    "\n",
    "model = ModelEngine(\"normal_neonate.json\")\n",
    "plt = Plotter(model)"
   ]
  },
  {
   "cell_type": "code",
   "execution_count": 7,
   "metadata": {},
   "outputs": [
    {
     "name": "stdout",
     "output_type": "stream",
     "text": [
      "Ready in 1.4 sec. Average model step in 0.0713 ms.\n"
     ]
    }
   ],
   "source": [
    "t = model2.calculate(10)"
   ]
  },
  {
   "cell_type": "code",
   "execution_count": 3,
   "metadata": {},
   "outputs": [],
   "source": [
    "model2 = ModelEngine(\"new_ne"
   ]
  },
  {
   "cell_type": "code",
   "execution_count": 4,
   "metadata": {},
   "outputs": [
    {
     "ename": "AttributeError",
     "evalue": "'dict' object has no attribute 'clear_data'",
     "output_type": "error",
     "traceback": [
      "\u001b[0;31m---------------------------------------------------------------------------\u001b[0m",
      "\u001b[0;31mAttributeError\u001b[0m                            Traceback (most recent call last)",
      "Cell \u001b[0;32mIn[4], line 1\u001b[0m\n\u001b[0;32m----> 1\u001b[0m t2 \u001b[39m=\u001b[39m model2\u001b[39m.\u001b[39;49mcalculate(\u001b[39m10\u001b[39;49m)\n",
      "File \u001b[0;32m~/Library/Mobile Documents/com~apple~CloudDocs/explain/explain-python/explain_core/ModelEngine.py:228\u001b[0m, in \u001b[0;36mModelEngine.calculate\u001b[0;34m(self, time_to_calculate, performance)\u001b[0m\n\u001b[1;32m    225\u001b[0m no_of_steps: \u001b[39mint\u001b[39m \u001b[39m=\u001b[39m \u001b[39mint\u001b[39m(time_to_calculate \u001b[39m/\u001b[39m \u001b[39mself\u001b[39m\u001b[39m.\u001b[39mmodeling_stepsize)\n\u001b[1;32m    227\u001b[0m \u001b[39m# reset the data collector\u001b[39;00m\n\u001b[0;32m--> 228\u001b[0m \u001b[39mself\u001b[39;49m\u001b[39m.\u001b[39;49m_datacollector\u001b[39m.\u001b[39;49mclear_data()\n\u001b[1;32m    230\u001b[0m \u001b[39m# Start the performance counter\u001b[39;00m\n\u001b[1;32m    231\u001b[0m \u001b[39mif\u001b[39;00m performance:\n",
      "\u001b[0;31mAttributeError\u001b[0m: 'dict' object has no attribute 'clear_data'"
     ]
    }
   ],
   "source": [
    "t2 = model2.calculate(10)"
   ]
  },
  {
   "cell_type": "code",
   "execution_count": null,
   "metadata": {},
   "outputs": [],
   "source": []
  }
 ],
 "metadata": {
  "kernelspec": {
   "display_name": "pypy",
   "language": "python",
   "name": "python3"
  },
  "language_info": {
   "codemirror_mode": {
    "name": "ipython",
    "version": 3
   },
   "file_extension": ".py",
   "mimetype": "text/x-python",
   "name": "python",
   "nbconvert_exporter": "python",
   "pygments_lexer": "ipython3",
   "version": "3.10.12"
  },
  "orig_nbformat": 4
 },
 "nbformat": 4,
 "nbformat_minor": 2
}
