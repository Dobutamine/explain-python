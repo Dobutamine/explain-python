{
 "cells": [
  {
   "cell_type": "code",
   "execution_count": 8,
   "metadata": {},
   "outputs": [
    {
     "name": "stdout",
     "output_type": "stream",
     "text": [
      "Ready in 1.3 sec. Average model step in 0.0668 ms.\n"
     ]
    }
   ],
   "source": [
    "# set the matplotlib in widget mode (this is needed for realtime graphs)\n",
    "%matplotlib widget\n",
    "\n",
    "# import the required modules\n",
    "from explain_core.ModelEngine import ModelEngine\n",
    "from explain_core.helpers.Interface import Interface\n",
    "\n",
    "# instantiate a model engine instance with the 'normal_neonate' model definition\n",
    "model = ModelEngine(\"normal_neonate.json\")\n",
    "\n",
    "# instantiate a interface object to interact with the model engine instance\n",
    "neo = Interface(model)\n",
    "\n",
    "# calculate 10 seconds\n",
    "neo.calculate(10)\n"
   ]
  },
  {
   "cell_type": "code",
   "execution_count": 9,
   "metadata": {},
   "outputs": [
    {
     "ename": "TypeError",
     "evalue": "ModelEngine.execute_function() takes 2 positional arguments but 3 were given",
     "output_type": "error",
     "traceback": [
      "\u001b[0;31m---------------------------------------------------------------------------\u001b[0m",
      "\u001b[0;31mTypeError\u001b[0m                                 Traceback (most recent call last)",
      "Cell \u001b[0;32mIn[9], line 1\u001b[0m\n\u001b[0;32m----> 1\u001b[0m model\u001b[39m.\u001b[39;49mexecute_function(model\u001b[39m.\u001b[39;49mmodels[\u001b[39m'\u001b[39;49m\u001b[39mVentilator\u001b[39;49m\u001b[39m'\u001b[39;49m]\u001b[39m.\u001b[39;49mswitch_ventilator, {\u001b[39m\"\u001b[39;49m\u001b[39mstate\u001b[39;49m\u001b[39m\"\u001b[39;49m : \u001b[39mTrue\u001b[39;49;00m})\n",
      "\u001b[0;31mTypeError\u001b[0m: ModelEngine.execute_function() takes 2 positional arguments but 3 were given"
     ]
    }
   ],
   "source": [
    "model.execute_function({\"state\" : True})"
   ]
  },
  {
   "cell_type": "code",
   "execution_count": null,
   "metadata": {},
   "outputs": [],
   "source": []
  }
 ],
 "metadata": {
  "kernelspec": {
   "display_name": "pypy",
   "language": "python",
   "name": "python3"
  },
  "language_info": {
   "codemirror_mode": {
    "name": "ipython",
    "version": 3
   },
   "file_extension": ".py",
   "mimetype": "text/x-python",
   "name": "python",
   "nbconvert_exporter": "python",
   "pygments_lexer": "ipython3",
   "version": "3.10.12"
  },
  "orig_nbformat": 4
 },
 "nbformat": 4,
 "nbformat_minor": 2
}
