{
 "cells": [
  {
   "cell_type": "code",
   "execution_count": 1,
   "metadata": {},
   "outputs": [],
   "source": [
    "# set the matplotlib in widget mode (this is needed for realtime graphs)\n",
    "%matplotlib widget\n",
    "\n",
    "# import the required modules\n",
    "from explain_core.ModelEngine import ModelEngine\n",
    "from explain_core.helpers.Interface import Interface\n",
    "\n",
    "# instantiate a model engine instance with the 'normal_neonate' model definition\n",
    "model = ModelEngine(\"normal_neonate.json\")\n",
    "\n",
    "# instantiate a interface object to interact with the model engine instance\n",
    "neo = Interface(model)\n"
   ]
  },
  {
   "cell_type": "code",
   "execution_count": 2,
   "metadata": {},
   "outputs": [
    {
     "ename": "NameError",
     "evalue": "name 'tv' is not defined",
     "output_type": "error",
     "traceback": [
      "\u001b[0;31m---------------------------------------------------------------------------\u001b[0m",
      "\u001b[0;31mNameError\u001b[0m                                 Traceback (most recent call last)",
      "Cell \u001b[0;32mIn[2], line 3\u001b[0m\n\u001b[1;32m      1\u001b[0m \u001b[39m# switch on the ventilator\u001b[39;00m\n\u001b[1;32m      2\u001b[0m neo\u001b[39m.\u001b[39mswitch_ventilator(\u001b[39mTrue\u001b[39;00m)\n\u001b[0;32m----> 3\u001b[0m model\u001b[39m.\u001b[39;49mmodels[\u001b[39m'\u001b[39;49m\u001b[39mVentilator\u001b[39;49m\u001b[39m'\u001b[39;49m]\u001b[39m.\u001b[39;49mset_ventilator_pc()\n\u001b[1;32m      4\u001b[0m neo\u001b[39m.\u001b[39mcalculate(\u001b[39m60\u001b[39m)\n\u001b[1;32m      5\u001b[0m neo\u001b[39m.\u001b[39mplot_ventilator_curves()\n",
      "File \u001b[0;32m~/Library/Mobile Documents/com~apple~CloudDocs/explain/explain-python/explain_core/core_models/Ventilator.py:99\u001b[0m, in \u001b[0;36mVentilator.set_ventilator_pc\u001b[0;34m(self, pip, peep, rate, t_in, insp_flow)\u001b[0m\n\u001b[1;32m     97\u001b[0m \u001b[39mself\u001b[39m\u001b[39m.\u001b[39mpeep \u001b[39m=\u001b[39m peep \u001b[39m*\u001b[39m \u001b[39m0.735559\u001b[39m\n\u001b[1;32m     98\u001b[0m \u001b[39mself\u001b[39m\u001b[39m.\u001b[39mvent_rate \u001b[39m=\u001b[39m rate\n\u001b[0;32m---> 99\u001b[0m \u001b[39mself\u001b[39m\u001b[39m.\u001b[39mtidal_volume \u001b[39m=\u001b[39m tv \u001b[39m/\u001b[39m \u001b[39m1000.0\u001b[39m\n\u001b[1;32m    100\u001b[0m \u001b[39mself\u001b[39m\u001b[39m.\u001b[39minsp_time \u001b[39m=\u001b[39m t_in\n\u001b[1;32m    101\u001b[0m \u001b[39mself\u001b[39m\u001b[39m.\u001b[39minsp_flow \u001b[39m=\u001b[39m insp_flow\n",
      "\u001b[0;31mNameError\u001b[0m: name 'tv' is not defined"
     ]
    }
   ],
   "source": [
    "\n",
    "# switch on the ventilator\n",
    "model.models['Ventilator'].set_ventilator_pc()\n",
    "neo.calculate(60)\n",
    "neo.plot_ventilator_curves()"
   ]
  },
  {
   "cell_type": "code",
   "execution_count": 5,
   "metadata": {},
   "outputs": [
    {
     "data": {
      "text/plain": [
       "{'comps': [],\n",
       " 'tco2': 26.76255086429136,\n",
       " 'to2': 6.861345692539909,\n",
       " 'ph': 7.482071545674239,\n",
       " 'po2': 93.7898815320271,\n",
       " 'pco2': 34.69970991243971,\n",
       " 'hco3': 25.651405481361017,\n",
       " 'be': 2.1978738239422455,\n",
       " 'so2': 97.9468641667872,\n",
       " 'sid': 35.9,\n",
       " 'albumin': 25.0,\n",
       " 'phosphates': 1.64,\n",
       " 'uma': 0.0,\n",
       " 'dpg': 5.0,\n",
       " 'hemoglobin': 8.0,\n",
       " 'temp': 37.0,\n",
       " 'sid_app': 36.0}"
      ]
     },
     "execution_count": 5,
     "metadata": {},
     "output_type": "execute_result"
    }
   ],
   "source": [
    "model.models['AA'].aboxy"
   ]
  },
  {
   "cell_type": "code",
   "execution_count": 4,
   "metadata": {},
   "outputs": [
    {
     "name": "stdout",
     "output_type": "stream",
     "text": [
      "Ready in 10.1 sec. Average model step in 0.0423 ms.\n"
     ]
    }
   ],
   "source": [
    "neo.calculate(120)"
   ]
  },
  {
   "cell_type": "code",
   "execution_count": null,
   "metadata": {},
   "outputs": [],
   "source": [
    "model.models['Ventilator'].hfo_tv_exp"
   ]
  },
  {
   "cell_type": "code",
   "execution_count": null,
   "metadata": {},
   "outputs": [],
   "source": [
    "model.models['Ventilator'].hfo_tv_insp"
   ]
  },
  {
   "cell_type": "code",
   "execution_count": null,
   "metadata": {},
   "outputs": [],
   "source": []
  }
 ],
 "metadata": {
  "kernelspec": {
   "display_name": "pypy",
   "language": "python",
   "name": "python3"
  },
  "language_info": {
   "codemirror_mode": {
    "name": "ipython",
    "version": 3
   },
   "file_extension": ".py",
   "mimetype": "text/x-python",
   "name": "python",
   "nbconvert_exporter": "python",
   "pygments_lexer": "ipython3",
   "version": "3.10.12"
  },
  "orig_nbformat": 4
 },
 "nbformat": 4,
 "nbformat_minor": 2
}
