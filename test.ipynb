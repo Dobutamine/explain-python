{
 "cells": [
  {
   "cell_type": "code",
   "execution_count": 1,
   "metadata": {},
   "outputs": [
    {
     "name": "stdout",
     "output_type": "stream",
     "text": [
      "Ready in 1.5 sec. Average model step in 0.0744 ms.\n"
     ]
    }
   ],
   "source": [
    "# set the matplotlib in widget mode (this is needed for realtime graphs)\n",
    "%matplotlib widget\n",
    "\n",
    "# import the required modules\n",
    "from explain_core.ModelEngine import ModelEngine\n",
    "from explain_core.helpers.Interface import Interface\n",
    "\n",
    "# instantiate a model engine instance with the 'normal_neonate' model definition\n",
    "model = ModelEngine(\"normal_neonate.json\")\n",
    "\n",
    "# instantiate a interface object to interact with the model engine instance\n",
    "neo = Interface(model)\n",
    "\n",
    "# calculate 10 seconds\n",
    "neo.calculate(10)\n"
   ]
  },
  {
   "cell_type": "code",
   "execution_count": 2,
   "metadata": {},
   "outputs": [
    {
     "name": "stdout",
     "output_type": "stream",
     "text": [
      "LV.el_max\n",
      "task_936 {'model': <explain_core.core_models.BloodTimeVaryingElastance.BloodTimeVaryingElastance object at 0x000000013246ed08>, 'prop1': 'el_max', 'prop2': None, 'new_value': 5000, 'in_time': 10, 'at_time': 6, 'stepsize': 0.0, 'running': True, 'completed': False}\n",
      "RV.el_max\n",
      "task_216 {'model': <explain_core.core_models.BloodTimeVaryingElastance.BloodTimeVaryingElastance object at 0x000000013246ed40>, 'prop1': 'el_max', 'prop2': None, 'new_value': 5000, 'in_time': 10, 'at_time': 6, 'stepsize': 0.0, 'running': True, 'completed': False}\n"
     ]
    }
   ],
   "source": [
    "model.add_tasks([\"LV.el_max\", \"RV.el_max\"], 5000, in_time=10, at_time=6)\n",
    "model.add_tasks([\"LV.el_max\", \"RV.el_max\"], 17000, in_time=10, at_time=17)"
   ]
  },
  {
   "cell_type": "code",
   "execution_count": null,
   "metadata": {},
   "outputs": [],
   "source": [
    "neo.plot_time_graph([\"LV.el_max\"], time_to_calculate=30)"
   ]
  },
  {
   "cell_type": "code",
   "execution_count": null,
   "metadata": {},
   "outputs": [],
   "source": []
  }
 ],
 "metadata": {
  "kernelspec": {
   "display_name": "pypy",
   "language": "python",
   "name": "python3"
  },
  "language_info": {
   "codemirror_mode": {
    "name": "ipython",
    "version": 3
   },
   "file_extension": ".py",
   "mimetype": "text/x-python",
   "name": "python",
   "nbconvert_exporter": "python",
   "pygments_lexer": "ipython3",
   "version": "3.10.12"
  },
  "orig_nbformat": 4
 },
 "nbformat": 4,
 "nbformat_minor": 2
}
