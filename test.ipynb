{
 "cells": [
  {
   "cell_type": "code",
   "execution_count": 1,
   "metadata": {},
   "outputs": [
    {
     "name": "stdout",
     "output_type": "stream",
     "text": [
      "normal neonate model loaded and initialized correctly.\n"
     ]
    }
   ],
   "source": [
    "# prepare the notebook for matplotlib plots\n",
    "%matplotlib widget\n",
    "\n",
    "# import the model engine and load the 'normal_neonate' model definition\n",
    "from explain_core.ModelEngine import ModelEngine\n",
    "neo = ModelEngine(\"normal_neonate.json\").interface\n",
    "#neo.calculate(120)"
   ]
  },
  {
   "cell_type": "code",
   "execution_count": 2,
   "metadata": {},
   "outputs": [
    {
     "name": "stdout",
     "output_type": "stream",
     "text": [
      "{'po2': 81.70570332949315, 'so2': 96.52407487409445}\n"
     ]
    }
   ],
   "source": [
    "from explain_core.functions.Oxygenation import calc_oxygenation_from_to2\n",
    "t = calc_oxygenation_from_to2(neo.model.models[\"AA\"])\n",
    "print(t)"
   ]
  },
  {
   "cell_type": "code",
   "execution_count": 3,
   "metadata": {},
   "outputs": [
    {
     "data": {
      "text/plain": [
       "{'comps': [],\n",
       " 'tco2': 24.7,\n",
       " 'to2': 6.737565796540982,\n",
       " 'ph': 7.4,\n",
       " 'po2': 0.0,\n",
       " 'pco2': 35.0,\n",
       " 'hco3': 25.0,\n",
       " 'be': 0.0,\n",
       " 'so2': 98.0,\n",
       " 'sid': 35.9,\n",
       " 'albumin': 25.0,\n",
       " 'phosphates': 1.64,\n",
       " 'uma': 0.0,\n",
       " 'dpg': 5.0,\n",
       " 'hemoglobin': 8.0,\n",
       " 'temp': 37.0}"
      ]
     },
     "execution_count": 3,
     "metadata": {},
     "output_type": "execute_result"
    }
   ],
   "source": [
    "neo.model.models[\"AA\"].aboxy"
   ]
  },
  {
   "cell_type": "code",
   "execution_count": null,
   "metadata": {},
   "outputs": [],
   "source": []
  }
 ],
 "metadata": {
  "kernelspec": {
   "display_name": "pypy",
   "language": "python",
   "name": "python3"
  },
  "language_info": {
   "codemirror_mode": {
    "name": "ipython",
    "version": 3
   },
   "file_extension": ".py",
   "mimetype": "text/x-python",
   "name": "python",
   "nbconvert_exporter": "python",
   "pygments_lexer": "ipython3",
   "version": "3.10.12"
  },
  "orig_nbformat": 4
 },
 "nbformat": 4,
 "nbformat_minor": 2
}
