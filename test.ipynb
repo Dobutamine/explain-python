{
 "cells": [
  {
   "cell_type": "code",
   "execution_count": 1,
   "metadata": {},
   "outputs": [
    {
     "name": "stdout",
     "output_type": "stream",
     "text": [
      "normal neonate model loaded and initialized correctly.\n"
     ]
    }
   ],
   "source": [
    "from explain_core.ModelEngine import ModelEngine\n",
    "neo = ModelEngine(\"normal_neonate.json\")\n",
    "io = neo.interface\n",
    "models = neo.models"
   ]
  },
  {
   "cell_type": "code",
   "execution_count": 5,
   "metadata": {},
   "outputs": [
    {
     "name": "stdout",
     "output_type": "stream",
     "text": [
      "Calculating model run of 120 sec. in 240000 steps.\n",
      "Ready in 7.375 sec. Average model step in 0.0307 ms.\n"
     ]
    },
    {
     "data": {
      "text/plain": [
       "{'ph': 7.4066347836218664,\n",
       " 'pco2': 37.33024610469725,\n",
       " 'hco3': 23.198552780353516,\n",
       " 'be': -0.7670577733084201,\n",
       " 'sid': 41.6,\n",
       " 'albumin': 30.0,\n",
       " 'phosphates': 1.5,\n",
       " 'uma': 7.2}"
      ]
     },
     "execution_count": 5,
     "metadata": {},
     "output_type": "execute_result"
    }
   ],
   "source": [
    "models['GASEX_LL'].is_enabled = True\n",
    "models['GASEX_RL'].is_enabled = True\n",
    "io.calculate(120)\n",
    "models['AA'].acidbase"
   ]
  },
  {
   "cell_type": "code",
   "execution_count": 7,
   "metadata": {},
   "outputs": [
    {
     "data": {
      "text/plain": [
       "{'po2': 83.46903961418411,\n",
       " 'so2': 96.79670389503929,\n",
       " 'dpg': 5.0,\n",
       " 'hemoglobin': 10.0,\n",
       " 'temp': 37.0}"
      ]
     },
     "execution_count": 7,
     "metadata": {},
     "output_type": "execute_result"
    }
   ],
   "source": [
    "models[\"AA\"].oxy"
   ]
  },
  {
   "cell_type": "code",
   "execution_count": null,
   "metadata": {},
   "outputs": [],
   "source": []
  }
 ],
 "metadata": {
  "kernelspec": {
   "display_name": "pypy",
   "language": "python",
   "name": "python3"
  },
  "language_info": {
   "codemirror_mode": {
    "name": "ipython",
    "version": 3
   },
   "file_extension": ".py",
   "mimetype": "text/x-python",
   "name": "python",
   "nbconvert_exporter": "python",
   "pygments_lexer": "ipython3",
   "version": "3.10.12"
  },
  "orig_nbformat": 4
 },
 "nbformat": 4,
 "nbformat_minor": 2
}
