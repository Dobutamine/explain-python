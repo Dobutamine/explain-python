{
 "cells": [
  {
   "cell_type": "code",
   "execution_count": 1,
   "metadata": {},
   "outputs": [
    {
     "name": "stdout",
     "output_type": "stream",
     "text": [
      " Model 'normal neonate' loaded and initialized correctly.\n",
      " Ready in 4.0 sec. Average model step in 0.0331 ms.\n"
     ]
    }
   ],
   "source": [
    "# uncomment the line below to enable realtime graphs\n",
    "# %matplotlib ipympl\n",
    "\n",
    "# import the model engine and the model interface\n",
    "from explain_core.ModelEngine import ModelEngine\n",
    "from custom_interfaces.NeoInterface import NeoInterface\n",
    "\n",
    "# instantiate a model engine instance with the 'normal_neonate' model definition\n",
    "model = ModelEngine(\"normal_neonate.json\")\n",
    "\n",
    "# get a reference to all the submodels\n",
    "models = model.models\n",
    "\n",
    "# instantiate a custom interface object especially designed to interact with the neonatal model engine instance\n",
    "neo = NeoInterface(model)\n",
    "\n",
    "# enable or disable the physiological submodels which can be enabled or disabled.\n",
    "neo.ans(True)\n",
    "neo.breathing(True)\n",
    "neo.metabolism(True)\n",
    "neo.mob(True)\n",
    "\n",
    "# enable or disable the extra-corporeal models\n",
    "neo.placenta(False)\n",
    "neo.ventilator(False)\n",
    "neo.ecls(False)\n",
    "neo.artificial_whomb(False)\n",
    "neo.resuscitation(False)\n",
    "\n",
    "# close the ductus arteriosus\n",
    "models[\"Pda\"].no_flow = True\n",
    "\n",
    "# close the foramen ovale\n",
    "models[\"FO\"].no_flow = True\n",
    "\n",
    "# stabilize the model by calculating 60 seconds\n",
    "neo.calculate(60)"
   ]
  },
  {
   "cell_type": "code",
   "execution_count": 3,
   "metadata": {},
   "outputs": [
    {
     "name": "stdout",
     "output_type": "stream",
     "text": [
      "\n",
      "AA.pres_in      : max   76.07298, min   49.70951 mmHg\n",
      "PA.pres_in      : max   44.83998, min   23.49141 mmHg\n",
      "LA_LV.flow      : net  238.20858, forward  238.20858, backward        0.0 ml/kg/min, stroke volume:    1.70148 ml/kg, \n",
      "RA_RV.flow      : net  238.23738, forward  238.23738, backward        0.0 ml/kg/min, stroke volume:    1.70168 ml/kg, \n",
      "RV_PA.flow      : net  238.25927, forward  238.25927, backward        0.0 ml/kg/min, stroke volume:    1.70184 ml/kg, \n",
      "LV_AA.flow      : net  238.23722, forward  238.23722, backward        0.0 ml/kg/min, stroke volume:    1.70168 ml/kg, \n",
      "IVCI_RA.flow    : net  131.89762, forward  138.54976, backward   -6.65214 ml/kg/min, stroke volume:    0.94212 ml/kg, \n",
      "SVC_RA.flow     : net  103.65632, forward  110.51443, backward   -6.85811 ml/kg/min, stroke volume:     0.7404 ml/kg, \n",
      "Pda.flow        : net        0.0, forward          0, backward          0 ml/kg/min, stroke volume:        0.0 ml/kg, \n",
      "FO.flow         : net        0.0, forward          0, backward          0 ml/kg/min, stroke volume:        0.0 ml/kg, \n",
      "LA.pres_in      : max   10.63425, min    3.16985 mmHg\n",
      "RA.pres_in      : max   10.64389, min    2.74249 mmHg\n",
      "LV.pres_in      : max   76.40117, min     2.4726 mmHg\n",
      "RV.pres_in      : max   45.21507, min    1.45525 mmHg\n",
      "IVCI.pres       : max    2.67192, min    1.36242 mmHg\n",
      "LA.vol          : max    1.81732, min     0.6228 ml/kg\n",
      "RA.vol          : max    2.02701, min      0.466 ml/kg\n",
      "LV.vol          : max    2.51801, min    0.78195 ml/kg\n",
      "RV.vol          : max    2.43273, min    0.40538 ml/kg\n",
      "Heart.heart_rate: max  140.49215 min  139.79487\n",
      "Mob.sv_lv_kg    : max    1.73251 min    1.66517\n",
      "Mob.sv_rv_kg    : max    2.02344 min    1.52528\n"
     ]
    }
   ],
   "source": [
    "neo.analyze_heart()"
   ]
  },
  {
   "cell_type": "code",
   "execution_count": null,
   "metadata": {},
   "outputs": [],
   "source": []
  }
 ],
 "metadata": {
  "kernelspec": {
   "display_name": "Python 3",
   "language": "python",
   "name": "python3"
  },
  "language_info": {
   "codemirror_mode": {
    "name": "ipython",
    "version": 3
   },
   "file_extension": ".py",
   "mimetype": "text/x-python",
   "name": "python",
   "nbconvert_exporter": "python",
   "pygments_lexer": "ipython3",
   "version": "3.10.12"
  }
 },
 "nbformat": 4,
 "nbformat_minor": 2
}
