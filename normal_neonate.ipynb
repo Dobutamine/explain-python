{
 "cells": [
  {
   "cell_type": "code",
   "execution_count": 1,
   "metadata": {},
   "outputs": [
    {
     "name": "stdout",
     "output_type": "stream",
     "text": [
      " Model 'normal neonate' loaded and initialized correctly.\n",
      " Ready in 3.6 sec. Average model step in 0.0300 ms.\n"
     ]
    }
   ],
   "source": [
    "#%matplotlib ipympl  # enable this for realtime graphs\n",
    "\n",
    "# first compile the c modules where the model depends on\n",
    "from  explain_core.ModulesCompiler import compile_modules;\n",
    "compile_modules()\n",
    "\n",
    "# import the model engine and the model interface\n",
    "from explain_core.ModelEngine import ModelEngine\n",
    "from explain_core.helpers.Interface import Interface\n",
    "\n",
    "# instantiate a model engine instance with the 'normal_neonate' model definition\n",
    "model = ModelEngine(\"normal_neonate.json\")\n",
    "\n",
    "# get a reference to all the submodels\n",
    "models = model.models\n",
    "\n",
    "# instantiate an interface object to interact with the model engine instance\n",
    "neo = Interface(model)\n",
    "\n",
    "# enable or disable the physiological submodels which can be enabled or disabled.\n",
    "neo.ans(True)\n",
    "neo.breathing(True)\n",
    "neo.metabolism(True)\n",
    "neo.mob(True)\n",
    "neo.drugs(False)\n",
    "\n",
    "# desiable the extra-corporeal models\n",
    "neo.placenta(False)\n",
    "neo.ventilator(False)\n",
    "neo.ecls(False)\n",
    "neo.artificial_whomb(False)\n",
    "neo.resuscitation(False)\n",
    "\n",
    "# stabilize by calculating 60 seconds with fixed resp_rate of 40/min, tidal volume of 16 ml and fixed heart rate of 140 / min\n",
    "neo.calculate(60)"
   ]
  },
  {
   "cell_type": "code",
   "execution_count": 2,
   "metadata": {},
   "outputs": [
    {
     "name": "stdout",
     "output_type": "stream",
     "text": [
      " Ready in 6.2 sec. Average model step in 0.0260 ms.\n"
     ]
    }
   ],
   "source": [
    "neo.fastforward(120)"
   ]
  },
  {
   "cell_type": "code",
   "execution_count": 3,
   "metadata": {},
   "outputs": [
    {
     "name": "stdout",
     "output_type": "stream",
     "text": [
      "\n",
      "AA.pres_in      : max   75.83018, min   49.68482 mmHg\n",
      "PA.pres_in      : max   44.24142, min   23.57451 mmHg\n",
      "IVCI.pres_in    : max    8.90249, min    5.65124 mmHg\n"
     ]
    },
    {
     "data": {
      "text/plain": [
       "{'heartrate': 139.96690848027134,\n",
       " 'spo2_pre': 98.0,\n",
       " 'spo2_post': 97.52242624006473,\n",
       " 'abp_systole': 75.83018,\n",
       " 'abp_diastole': 49.68482,\n",
       " 'pap_systole': 44.24142,\n",
       " 'pap_diastole': 23.57451,\n",
       " 'cvp': 6.734881625,\n",
       " 'resp_rate': 41.21811269030302,\n",
       " 'pH': 7.4,\n",
       " 'po2': 0.0,\n",
       " 'pco2': 35.0,\n",
       " 'hco3': 25.0,\n",
       " 'be': 0.0}"
      ]
     },
     "execution_count": 3,
     "metadata": {},
     "output_type": "execute_result"
    }
   ],
   "source": [
    "neo.get_vitals()"
   ]
  },
  {
   "cell_type": "code",
   "execution_count": 4,
   "metadata": {},
   "outputs": [
    {
     "data": {
      "text/plain": [
       "{'ph': 7.398984695331778,\n",
       " 'po2': 97.7517052028366,\n",
       " 'pco2': 42.52847263382779,\n",
       " 'hco3': 25.96439797304923,\n",
       " 'be': 0.6837251933062467,\n",
       " 'so2': 97.80257981030516}"
      ]
     },
     "execution_count": 4,
     "metadata": {},
     "output_type": "execute_result"
    }
   ],
   "source": [
    "neo.get_bloodgas(\"AA\")"
   ]
  },
  {
   "cell_type": "code",
   "execution_count": 5,
   "metadata": {},
   "outputs": [
    {
     "name": "stdout",
     "output_type": "stream",
     "text": [
      "\n",
      "LA_LV.flow      : net  238.23402, forward  238.23402, backward        0.0 ml/kg/min, stroke volume:    1.70166 ml/kg, \n",
      "RA_RV.flow      : net  238.11048, forward  238.11048, backward        0.0 ml/kg/min, stroke volume:    1.70077 ml/kg, \n",
      "RV_PA.flow      : net  238.93224, forward  238.93224, backward        0.0 ml/kg/min, stroke volume:    1.70664 ml/kg, \n",
      "LV_AA.flow      : net  238.96236, forward  238.96236, backward        0.0 ml/kg/min, stroke volume:    1.70686 ml/kg, \n",
      "IVCI_RA.flow    : net  131.81531, forward  138.51228, backward   -6.69697 ml/kg/min, stroke volume:    0.94153 ml/kg, \n",
      "SVC_RA.flow     : net  103.89013, forward  110.75972, backward   -6.86959 ml/kg/min, stroke volume:    0.74207 ml/kg, \n",
      "LA.pres_in      : max   10.64472, min    3.17137 mmHg\n",
      "RA.pres_in      : max   10.62199, min    2.73907 mmHg\n",
      "LV.pres_in      : max   76.45133, min     2.4834 mmHg\n",
      "RV.pres_in      : max   44.58899, min    1.44253 mmHg\n",
      "AA.pres_in      : max   76.12261, min   49.65914 mmHg\n",
      "IVCI.pres_in    : max    8.95665, min    5.61884 mmHg\n",
      "LA.vol          : max    1.81875, min    0.62373 ml/kg\n",
      "RA.vol          : max    2.02544, min    0.46584 ml/kg\n",
      "LV.vol          : max    2.52072, min    0.78214 ml/kg\n",
      "RV.vol          : max    2.42964, min    0.40344 ml/kg\n",
      "Heart.heart_rate: max  140.01131 min  139.56431\n",
      "Mob.sv_lv_kg    : max    1.73475 min    1.67011\n",
      "Mob.sv_rv_kg    : max    2.02471 min    1.53158\n"
     ]
    }
   ],
   "source": [
    "neo.analyze_heart()"
   ]
  },
  {
   "cell_type": "code",
   "execution_count": null,
   "metadata": {},
   "outputs": [],
   "source": []
  }
 ],
 "metadata": {
  "kernelspec": {
   "display_name": "pypy",
   "language": "python",
   "name": "python3"
  },
  "language_info": {
   "codemirror_mode": {
    "name": "ipython",
    "version": 3
   },
   "file_extension": ".py",
   "mimetype": "text/x-python",
   "name": "python",
   "nbconvert_exporter": "python",
   "pygments_lexer": "ipython3",
   "version": "3.10.12"
  },
  "orig_nbformat": 4
 },
 "nbformat": 4,
 "nbformat_minor": 2
}
