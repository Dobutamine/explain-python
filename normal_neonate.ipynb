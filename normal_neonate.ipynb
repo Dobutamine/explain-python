{
 "cells": [
  {
   "cell_type": "code",
   "execution_count": 1,
   "metadata": {},
   "outputs": [
    {
     "name": "stdout",
     "output_type": "stream",
     "text": [
      " Model 'normal neonate' loaded and initialized correctly.\n"
     ]
    }
   ],
   "source": [
    "#%matplotlib ipympl  # enable this for realtime graphs\n",
    "\n",
    "# first compile the c modules where the model depends on\n",
    "from  explain_core.ModulesCompiler import compile_modules;\n",
    "compile_modules()\n",
    "\n",
    "# import the model engine and the model interface\n",
    "from explain_core.ModelEngine import ModelEngine\n",
    "from explain_core.helpers.Interface import Interface\n",
    "\n",
    "# instantiate a model engine instance with the 'normal_neonate' model definition\n",
    "model = ModelEngine(\"normal_neonate.json\")\n",
    "\n",
    "# get a reference to all the submodels\n",
    "models = model.models\n",
    "\n",
    "# instantiate an interface object to interact with the model engine instance\n",
    "neo = Interface(model)\n",
    "\n",
    "# enable or disable the physiological submodels which can be enabled or disabled.\n",
    "neo.ans(True)\n",
    "neo.breathing(True)\n",
    "neo.metabolism(True)\n",
    "neo.mob(True)\n",
    "\n",
    "# desiable the extra-corporeal models\n",
    "neo.placenta(False)\n",
    "neo.ventilator(False)\n",
    "neo.ecls(False)\n",
    "neo.artificial_whomb(False)\n",
    "neo.resuscitation(False)\n",
    "\n",
    "# stabilize by calculating 60 seconds with fixed resp_rate of 40/min, tidal volume of 16 ml and fixed heart rate of 140 / min\n",
    "#neo.calculate(60)"
   ]
  },
  {
   "cell_type": "code",
   "execution_count": 2,
   "metadata": {},
   "outputs": [
    {
     "name": "stdout",
     "output_type": "stream",
     "text": [
      " Ready in 6.3 sec. Average model step in 0.0261 ms.\n"
     ]
    }
   ],
   "source": [
    "neo.fastforward(120)"
   ]
  },
  {
   "cell_type": "code",
   "execution_count": 3,
   "metadata": {},
   "outputs": [],
   "source": [
    "neo.save_model_state()"
   ]
  },
  {
   "cell_type": "code",
   "execution_count": 4,
   "metadata": {},
   "outputs": [
    {
     "data": {
      "text/plain": [
       "{'ph': 7.400544563269201,\n",
       " 'po2': 98.0402160106925,\n",
       " 'pco2': 42.366445558520546,\n",
       " 'hco3': 25.958546343247686,\n",
       " 'be': 0.7121717067722401,\n",
       " 'so2': 97.82643876451985}"
      ]
     },
     "execution_count": 4,
     "metadata": {},
     "output_type": "execute_result"
    }
   ],
   "source": [
    "neo.get_bloodgas(\"AA\")"
   ]
  },
  {
   "cell_type": "code",
   "execution_count": 2,
   "metadata": {},
   "outputs": [],
   "source": [
    "neo.load_model_state()"
   ]
  },
  {
   "cell_type": "code",
   "execution_count": 3,
   "metadata": {},
   "outputs": [
    {
     "name": "stdout",
     "output_type": "stream",
     "text": [
      " Ready in 6.4 sec. Average model step in 0.0266 ms.\n"
     ]
    }
   ],
   "source": [
    "neo.fastforward(120)"
   ]
  },
  {
   "cell_type": "code",
   "execution_count": 4,
   "metadata": {},
   "outputs": [
    {
     "name": "stdout",
     "output_type": "stream",
     "text": [
      "\n",
      "LA_LV.flow      : net  775.51796, forward  775.51796, backward        0.0 ml/min, stroke volume:    5.61941 ml, \n",
      "LV_AA.flow      : net   805.4487, forward   805.4487, backward        0.0 ml/min, stroke volume:    5.83629 ml, \n",
      "RA_RV.flow      : net  779.76684, forward  779.76684, backward        0.0 ml/min, stroke volume:     5.6502 ml, \n",
      "RV_PA.flow      : net   798.0321, forward   798.0321, backward        0.0 ml/min, stroke volume:    5.78255 ml, \n",
      "AA_AAR.flow     : net  793.56406, forward  793.56406, backward        0.0 ml/min, stroke volume:    5.75018 ml, \n",
      "AA_COR.flow     : net    9.04334, forward    9.04334, backward        0.0 ml/min, stroke volume:    0.06553 ml, \n",
      "COR_RA.flow     : net    9.08565, forward    9.08565, backward        0.0 ml/min, stroke volume:    0.06583 ml, \n",
      "AAR_AD.flow     : net  446.55249, forward  453.57194, backward   -7.01945 ml/min, stroke volume:    3.23573 ml, \n",
      "AD_RLB.flow     : net  165.91489, forward  165.91489, backward        0.0 ml/min, stroke volume:    1.20222 ml, \n",
      "AD_LS.flow      : net   69.90328, forward   69.90328, backward        0.0 ml/min, stroke volume:    0.50652 ml, \n",
      "AD_KID.flow     : net   74.19626, forward   74.19626, backward        0.0 ml/min, stroke volume:    0.53763 ml, \n",
      "AD_INT.flow     : net  126.60071, forward  126.60071, backward        0.0 ml/min, stroke volume:    0.91735 ml, \n",
      "AAR_RUB.flow    : net  106.28513, forward  106.28513, backward        0.0 ml/min, stroke volume:    0.77014 ml, \n",
      "AAR_BR.flow     : net  237.62181, forward  237.62181, backward        0.0 ml/min, stroke volume:    1.72181 ml, \n",
      "RUB_SVC.flow    : net  106.06885, forward  106.06885, backward        0.0 ml/min, stroke volume:    0.76858 ml, \n",
      "BR_SVC.flow     : net  236.51638, forward  236.51638, backward        0.0 ml/min, stroke volume:     1.7138 ml, \n",
      "RLB_IVCE.flow   : net  165.14112, forward  165.14112, backward        0.0 ml/min, stroke volume:    1.19661 ml, \n",
      "LS_IVCE.flow    : net   69.61787, forward   69.61787, backward        0.0 ml/min, stroke volume:    0.50445 ml, \n",
      "KID_IVCE.flow   : net   73.89061, forward   73.89061, backward        0.0 ml/min, stroke volume:    0.53541 ml, \n",
      "INT_IVCE.flow   : net  126.03194, forward  126.03194, backward        0.0 ml/min, stroke volume:    0.91323 ml, \n",
      "IVCE_IVCI.flow  : net  442.94437, forward  508.91808, backward  -65.97371 ml/min, stroke volume:    3.20958 ml, \n",
      "IVCI_RA.flow    : net  440.93424, forward  462.35444, backward   -21.4202 ml/min, stroke volume:    3.19502 ml, \n",
      "SVC_RA.flow     : net  336.68389, forward  359.37727, backward  -22.69338 ml/min, stroke volume:    2.43962 ml, \n",
      "PA_LL.flow      : net  397.31187, forward  397.31187, backward        0.0 ml/min, stroke volume:    2.87893 ml, \n",
      "PA_RL.flow      : net  397.31187, forward  397.31187, backward        0.0 ml/min, stroke volume:    2.87893 ml, \n",
      "LL_PV.flow      : net  393.52356, forward  393.52356, backward        0.0 ml/min, stroke volume:    2.85148 ml, \n",
      "RL_PV.flow      : net  393.52356, forward  393.52356, backward        0.0 ml/min, stroke volume:    2.85148 ml, \n",
      "PV_LA.flow      : net   785.6985, forward   785.6985, backward        0.0 ml/min, stroke volume:    5.69318 ml, \n",
      "MOUTH_DS.flow   : net   -0.09654, forward  664.56639, backward -664.66293 ml/min, stroke volume:    -0.0007 ml, \n",
      "DS_ALL.flow     : net    2.16307, forward  333.86397, backward  -331.7009 ml/min, stroke volume:    0.01567 ml, \n",
      "DS_ALR.flow     : net    2.16307, forward  333.86397, backward  -331.7009 ml/min, stroke volume:    0.01567 ml, \n",
      "DA.flow         : net        0.0, forward          0, backward          0 ml/min, stroke volume:        0.0 ml, \n",
      "FO.flow         : net        0.0, forward          0, backward          0 ml/min, stroke volume:        0.0 ml, \n",
      "VSD.flow        : net        0.0, forward          0, backward          0 ml/min, stroke volume:        0.0 ml, \n"
     ]
    }
   ],
   "source": [
    "neo.get_blood_flows()"
   ]
  },
  {
   "cell_type": "code",
   "execution_count": null,
   "metadata": {},
   "outputs": [],
   "source": []
  }
 ],
 "metadata": {
  "kernelspec": {
   "display_name": "pypy",
   "language": "python",
   "name": "python3"
  },
  "language_info": {
   "codemirror_mode": {
    "name": "ipython",
    "version": 3
   },
   "file_extension": ".py",
   "mimetype": "text/x-python",
   "name": "python",
   "nbconvert_exporter": "python",
   "pygments_lexer": "ipython3",
   "version": "3.10.12"
  },
  "orig_nbformat": 4
 },
 "nbformat": 4,
 "nbformat_minor": 2
}
