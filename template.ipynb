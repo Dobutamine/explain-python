{
 "cells": [
  {
   "cell_type": "code",
   "execution_count": 1,
   "metadata": {},
   "outputs": [
    {
     "name": "stdout",
     "output_type": "stream",
     "text": [
      " Model 'normal neonate' loaded and initialized correctly.\n",
      " Ready in 2.0 sec. Average model step in 0.0336 ms.\n"
     ]
    }
   ],
   "source": [
    "# first compile the c modules where the model depends on\n",
    "from explain_core.ModulesCompiler import compile_modules;\n",
    "compile_modules()\n",
    "\n",
    "# import the model engine and the model interface\n",
    "from explain_core.ModelEngine import ModelEngine\n",
    "from explain_core.helpers.Interface import Interface\n",
    "\n",
    "# instantiate a model engine instance with the 'normal_neonate' model definition\n",
    "model = ModelEngine(\"normal_neonate.json\")\n",
    "\n",
    "# get a reference to all models\n",
    "models = model.models\n",
    "\n",
    "# instantiate an interface object to interact with the model engine instance\n",
    "neo = Interface(model)\n",
    "\n",
    "# stabilize by calculating 30 seconds\n",
    "neo.calculate(30)"
   ]
  },
  {
   "cell_type": "code",
   "execution_count": 2,
   "metadata": {},
   "outputs": [],
   "source": [
    "models[\"ArtificialWhomb\"].aw_running = True"
   ]
  },
  {
   "cell_type": "code",
   "execution_count": 3,
   "metadata": {},
   "outputs": [
    {
     "name": "stdout",
     "output_type": "stream",
     "text": [
      " Ready in 1.1 sec. Average model step in 0.0553 ms.\n"
     ]
    }
   ],
   "source": [
    "neo.calculate(10)"
   ]
  },
  {
   "cell_type": "code",
   "execution_count": 4,
   "metadata": {},
   "outputs": [
    {
     "name": "stdout",
     "output_type": "stream",
     "text": [
      "\n",
      "LA.pres         : max     9.7233, min   -3.51302 mmHg\n",
      "RA.pres         : max    9.83834, min   -3.82457 mmHg\n",
      "LV.pres         : max    52.0179, min   -3.34942 mmHg\n",
      "RV.pres         : max   44.26141, min   -3.43849 mmHg\n",
      "COR.pres        : max   13.08476, min    5.64705 mmHg\n",
      "LL.pres         : max    21.6489, min   16.36052 mmHg\n",
      "RL.pres         : max    21.6489, min   16.36052 mmHg\n",
      "PV.pres         : max   10.08616, min    2.77922 mmHg\n",
      "PA.pres         : max   43.78062, min   22.43004 mmHg\n",
      "AA.pres         : max   51.53701, min   27.78531 mmHg\n",
      "AAR.pres        : max   50.28566, min   27.69566 mmHg\n",
      "AD.pres         : max   49.46432, min   27.64439 mmHg\n",
      "RLB.pres        : max   26.13484, min   21.69774 mmHg\n",
      "LS.pres         : max    25.1119, min   22.90403 mmHg\n",
      "KID.pres        : max   25.16107, min   22.84173 mmHg\n",
      "INT.pres        : max   25.72962, min   22.14836 mmHg\n",
      "RUB.pres        : max   13.53797, min   10.70931 mmHg\n",
      "BR.pres         : max   25.50061, min   19.42733 mmHg\n",
      "IVCI.pres       : max    2.97267, min    1.79623 mmHg\n",
      "IVCE.pres       : max      2.958, min    2.12183 mmHg\n",
      "SVC.pres        : max    2.60162, min   -0.46925 mmHg\n"
     ]
    }
   ],
   "source": [
    "neo.get_blood_pressures()"
   ]
  },
  {
   "cell_type": "code",
   "execution_count": 7,
   "metadata": {},
   "outputs": [
    {
     "data": {
      "text/plain": [
       "{'ph': 7.410116457897624,\n",
       " 'po2': 89.42168364051354,\n",
       " 'pco2': 41.38554319939418,\n",
       " 'hco3': 25.922620017492456,\n",
       " 'be': 0.8867142079942761,\n",
       " 'so2': 97.29641668280449}"
      ]
     },
     "execution_count": 7,
     "metadata": {},
     "output_type": "execute_result"
    }
   ],
   "source": [
    "neo.get_bloodgas(\"AA\")"
   ]
  },
  {
   "cell_type": "code",
   "execution_count": 6,
   "metadata": {},
   "outputs": [
    {
     "name": "stdout",
     "output_type": "stream",
     "text": [
      " Ready in 7.5 sec. Average model step in 0.0311 ms.\n"
     ]
    }
   ],
   "source": [
    "neo.calculate(120)"
   ]
  },
  {
   "cell_type": "code",
   "execution_count": 8,
   "metadata": {},
   "outputs": [
    {
     "name": "stdout",
     "output_type": "stream",
     "text": [
      "\n",
      "AA.pres         : max   29.57217, min   19.44605 mmHg\n",
      "PA.pres         : max   25.87649, min    15.3991 mmHg\n",
      "IVCI.pres       : max    3.70071, min    2.53478 mmHg\n"
     ]
    },
    {
     "data": {
      "text/plain": [
       "{'heartrate': 198.19704295629103,\n",
       " 'spo2_pre': 97.24780259650998,\n",
       " 'spo2_post': 96.90536989201391,\n",
       " 'abp_systole': 29.57217,\n",
       " 'abp_diastole': 19.44605,\n",
       " 'pap_systole': 25.87649,\n",
       " 'pap_diastole': 15.3991,\n",
       " 'cvp': 2.923384469,\n",
       " 'resp_rate': 37.989487838895045,\n",
       " 'pH': 7.408665103605237,\n",
       " 'po2': 88.92157247023337,\n",
       " 'pco2': 41.53280877798342,\n",
       " 'hco3': 25.92806950779061,\n",
       " 'be': 0.8602506289000319}"
      ]
     },
     "execution_count": 8,
     "metadata": {},
     "output_type": "execute_result"
    }
   ],
   "source": [
    "neo.get_vitals()"
   ]
  },
  {
   "cell_type": "code",
   "execution_count": 12,
   "metadata": {},
   "outputs": [
    {
     "name": "stdout",
     "output_type": "stream",
     "text": [
      "\n",
      "ArtificialWhomb.so2_post: max   99.58428 min   99.58428\n",
      "ArtificialWhomb.so2_pre: max   96.39981 min   96.39981\n"
     ]
    },
    {
     "data": {
      "text/plain": [
       "{}"
      ]
     },
     "execution_count": 12,
     "metadata": {},
     "output_type": "execute_result"
    }
   ],
   "source": [
    "neo.analyze([\"ArtificialWhomb.so2_post\", \"ArtificialWhomb.so2_pre\"], time_to_calculate=30)"
   ]
  },
  {
   "cell_type": "code",
   "execution_count": 13,
   "metadata": {},
   "outputs": [
    {
     "data": {
      "text/plain": [
       "0"
      ]
     },
     "execution_count": 13,
     "metadata": {},
     "output_type": "execute_result"
    }
   ],
   "source": [
    "models[\"ArtificialWhomb\"].rpm"
   ]
  },
  {
   "cell_type": "code",
   "execution_count": null,
   "metadata": {},
   "outputs": [],
   "source": []
  }
 ],
 "metadata": {
  "kernelspec": {
   "display_name": "pypy",
   "language": "python",
   "name": "python3"
  },
  "language_info": {
   "codemirror_mode": {
    "name": "ipython",
    "version": 3
   },
   "file_extension": ".py",
   "mimetype": "text/x-python",
   "name": "python",
   "nbconvert_exporter": "python",
   "pygments_lexer": "ipython3",
   "version": "3.10.12"
  },
  "orig_nbformat": 4
 },
 "nbformat": 4,
 "nbformat_minor": 2
}
