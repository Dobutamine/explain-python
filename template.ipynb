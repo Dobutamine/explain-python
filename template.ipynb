{
 "cells": [
  {
   "cell_type": "code",
   "execution_count": 1,
   "metadata": {},
   "outputs": [
    {
     "name": "stdout",
     "output_type": "stream",
     "text": [
      " Model 'normal neonate' loaded and initialized correctly.\n",
      " Ready in 2.0 sec. Average model step in 0.0330 ms.\n"
     ]
    }
   ],
   "source": [
    "# first compile the c modules where the model depends on\n",
    "from explain_core.ModulesCompiler import compile_modules;\n",
    "compile_modules()\n",
    "\n",
    "# import the model engine and the model interface\n",
    "from explain_core.ModelEngine import ModelEngine\n",
    "from explain_core.helpers.Interface import Interface\n",
    "\n",
    "# instantiate a model engine instance with the 'normal_neonate' model definition\n",
    "model = ModelEngine(\"normal_neonate.json\")\n",
    "\n",
    "# get a reference to all models\n",
    "models = model.models\n",
    "\n",
    "# instantiate an interface object to interact with the model engine instance\n",
    "neo = Interface(model)\n",
    "\n",
    "neo.breathing(False)\n",
    "\n",
    "# stabilize by calculating 30 seconds\n",
    "neo.calculate(30)"
   ]
  },
  {
   "cell_type": "code",
   "execution_count": 3,
   "metadata": {},
   "outputs": [
    {
     "name": "stdout",
     "output_type": "stream",
     "text": [
      "\n",
      "Mob.sw_lv       : max    0.44944 min    0.44884\n",
      "Mob.sw_rv       : max    0.24981 min    0.24936\n",
      "Mob.sv_lv       : max    0.00727 min    0.00726\n",
      "Mob.sv_rv       : max    0.00727 min    0.00726\n"
     ]
    },
    {
     "data": {
      "text/plain": [
       "{}"
      ]
     },
     "execution_count": 3,
     "metadata": {},
     "output_type": "execute_result"
    }
   ],
   "source": [
    "neo.analyze([\"Mob.sw_lv\", \"Mob.sw_rv\", \"Mob.sv_lv\", \"Mob.sv_rv\"],time_to_calculate=5)"
   ]
  },
  {
   "cell_type": "code",
   "execution_count": 5,
   "metadata": {},
   "outputs": [
    {
     "name": "stdout",
     "output_type": "stream",
     "text": [
      "\n",
      "LV.vol          : max   12.93959, min      5.815 ml\n",
      "RV.vol          : max   11.03367, min    4.26822 ml\n"
     ]
    },
    {
     "data": {
      "text/plain": [
       "{'LV.vol.max': 12.93959,\n",
       " 'LV.vol.min': 5.815,\n",
       " 'RV.vol.max': 11.03367,\n",
       " 'RV.vol.min': 4.26822}"
      ]
     },
     "execution_count": 5,
     "metadata": {},
     "output_type": "execute_result"
    }
   ],
   "source": [
    "neo.analyze([\"LV.vol\", \"RV.vol\"])"
   ]
  },
  {
   "cell_type": "code",
   "execution_count": 7,
   "metadata": {},
   "outputs": [
    {
     "name": "stdout",
     "output_type": "stream",
     "text": [
      "\n",
      "LV.vol          : max   12.94046, min    5.81546 ml\n",
      "RV.vol          : max   11.03286, min    4.26884 ml\n"
     ]
    },
    {
     "data": {
      "text/plain": [
       "{'LV.vol.max': 12.94046,\n",
       " 'LV.vol.min': 5.81546,\n",
       " 'RV.vol.max': 11.03286,\n",
       " 'RV.vol.min': 4.26884}"
      ]
     },
     "execution_count": 7,
     "metadata": {},
     "output_type": "execute_result"
    }
   ],
   "source": [
    "neo.analyze([\"LV.vol\", \"RV.vol\"])"
   ]
  },
  {
   "cell_type": "code",
   "execution_count": null,
   "metadata": {},
   "outputs": [],
   "source": [
    "neo.stop_rt()"
   ]
  },
  {
   "cell_type": "code",
   "execution_count": null,
   "metadata": {},
   "outputs": [],
   "source": []
  }
 ],
 "metadata": {
  "kernelspec": {
   "display_name": "pypy",
   "language": "python",
   "name": "python3"
  },
  "language_info": {
   "codemirror_mode": {
    "name": "ipython",
    "version": 3
   },
   "file_extension": ".py",
   "mimetype": "text/x-python",
   "name": "python",
   "nbconvert_exporter": "python",
   "pygments_lexer": "ipython3",
   "version": "3.10.12"
  },
  "orig_nbformat": 4
 },
 "nbformat": 4,
 "nbformat_minor": 2
}
