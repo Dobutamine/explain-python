{
 "cells": [
  {
   "cell_type": "code",
   "execution_count": 1,
   "metadata": {},
   "outputs": [
    {
     "name": "stdout",
     "output_type": "stream",
     "text": [
      " Model 'normal neonate' loaded and initialized correctly.\n",
      " Ready in 1.9 sec. Average model step in 0.0323 ms.\n"
     ]
    }
   ],
   "source": [
    "# first compile the c modules where the model depends on\n",
    "from explain_core.ModulesCompiler import compile_modules;\n",
    "compile_modules()\n",
    "\n",
    "# import the model engine and the model interface\n",
    "from explain_core.ModelEngine import ModelEngine\n",
    "from explain_core.helpers.Interface import Interface\n",
    "\n",
    "# instantiate a model engine instance with the 'normal_neonate' model definition\n",
    "model = ModelEngine(\"normal_neonate.json\")\n",
    "\n",
    "# get a reference to all models\n",
    "models = model.models\n",
    "\n",
    "# instantiate an interface object to interact with the model engine instance\n",
    "neo = Interface(model)\n",
    "\n",
    "# stabilize by calculating 30 seconds\n",
    "neo.calculate(30)"
   ]
  },
  {
   "cell_type": "code",
   "execution_count": 18,
   "metadata": {},
   "outputs": [],
   "source": [
    "models[\"ArtificialWhomb\"].aw_running = False\n",
    "models[\"Ecls\"].ecls_running = True\n",
    "models[\"Ecls\"].pump_rpm = 1500"
   ]
  },
  {
   "cell_type": "code",
   "execution_count": 8,
   "metadata": {},
   "outputs": [
    {
     "name": "stdout",
     "output_type": "stream",
     "text": [
      " Ready in 1.1 sec. Average model step in 0.0560 ms.\n"
     ]
    }
   ],
   "source": [
    "neo.calculate(10)"
   ]
  },
  {
   "cell_type": "code",
   "execution_count": 9,
   "metadata": {},
   "outputs": [
    {
     "name": "stdout",
     "output_type": "stream",
     "text": [
      "\n",
      "LA.pres         : max     7.0729, min   -2.27889 mmHg\n",
      "RA.pres         : max    2.12895, min   -4.56282 mmHg\n",
      "LV.pres         : max  107.01253, min   -1.66428 mmHg\n",
      "RV.pres         : max   32.92136, min   -3.61701 mmHg\n",
      "COR.pres        : max   25.26761, min   11.01144 mmHg\n",
      "LL.pres         : max   15.90217, min    6.84509 mmHg\n",
      "RL.pres         : max   15.90217, min    6.84509 mmHg\n",
      "PV.pres         : max    6.65626, min    0.87523 mmHg\n",
      "PA.pres         : max   32.58349, min   10.60732 mmHg\n",
      "AA.pres         : max  105.97407, min    86.2598 mmHg\n",
      "AAR.pres        : max  103.41412, min   86.27107 mmHg\n",
      "AD.pres         : max  102.60334, min   85.72382 mmHg\n",
      "RLB.pres        : max   57.92158, min   51.95728 mmHg\n",
      "LS.pres         : max    55.8443, min   52.24899 mmHg\n",
      "KID.pres        : max   55.97043, min   52.22184 mmHg\n",
      "INT.pres        : max   57.22475, min   52.01514 mmHg\n",
      "RUB.pres        : max   28.11935, min   24.85008 mmHg\n",
      "BR.pres         : max   56.28372, min   49.22196 mmHg\n",
      "IVCI.pres       : max    0.95088, min    -0.3051 mmHg\n",
      "IVCE.pres       : max    1.02751, min    0.05582 mmHg\n",
      "SVC.pres        : max     1.3199, min   -1.95001 mmHg\n"
     ]
    }
   ],
   "source": [
    "neo.get_blood_pressures()"
   ]
  },
  {
   "cell_type": "code",
   "execution_count": 5,
   "metadata": {},
   "outputs": [
    {
     "data": {
      "text/plain": [
       "{'ph': 7.407937956710893,\n",
       " 'po2': 88.91078475630798,\n",
       " 'pco2': 41.606786431957495,\n",
       " 'hco3': 25.93079945937182,\n",
       " 'be': 0.8469917856933141,\n",
       " 'so2': 97.242537334401}"
      ]
     },
     "execution_count": 5,
     "metadata": {},
     "output_type": "execute_result"
    }
   ],
   "source": [
    "neo.get_bloodgas(\"AA\")"
   ]
  },
  {
   "cell_type": "code",
   "execution_count": 19,
   "metadata": {},
   "outputs": [
    {
     "name": "stdout",
     "output_type": "stream",
     "text": [
      " Ready in 7.4 sec. Average model step in 0.0309 ms.\n"
     ]
    }
   ],
   "source": [
    "neo.calculate(120)"
   ]
  },
  {
   "cell_type": "code",
   "execution_count": 21,
   "metadata": {},
   "outputs": [
    {
     "name": "stdout",
     "output_type": "stream",
     "text": [
      "\n",
      "AA.pres         : max   72.80895, min    53.8175 mmHg\n",
      "PA.pres         : max   44.57852, min   19.04522 mmHg\n",
      "IVCI.pres       : max    2.37096, min    1.18003 mmHg\n"
     ]
    },
    {
     "data": {
      "text/plain": [
       "{'heartrate': 94.48560743483566,\n",
       " 'spo2_pre': 98.09372766498629,\n",
       " 'spo2_post': 97.15517360646665,\n",
       " 'abp_systole': 72.80895,\n",
       " 'abp_diastole': 53.8175,\n",
       " 'pap_systole': 44.57852,\n",
       " 'pap_diastole': 19.04522,\n",
       " 'cvp': 1.5769669689999999,\n",
       " 'resp_rate': 33.58333241095797,\n",
       " 'pH': 7.429303741410221,\n",
       " 'po2': 100.80282579840343,\n",
       " 'pco2': 39.48675313243198,\n",
       " 'hco3': 25.8504996722301,\n",
       " 'be': 1.2365070955980801}"
      ]
     },
     "execution_count": 21,
     "metadata": {},
     "output_type": "execute_result"
    }
   ],
   "source": [
    "neo.get_vitals()"
   ]
  },
  {
   "cell_type": "code",
   "execution_count": 22,
   "metadata": {},
   "outputs": [
    {
     "name": "stdout",
     "output_type": "stream",
     "text": [
      "\n",
      "Ecls.so2_post   : max   99.51319 min   99.49943\n",
      "Ecls.so2_pre    : max    96.3998 min    96.3998\n"
     ]
    },
    {
     "data": {
      "text/plain": [
       "{}"
      ]
     },
     "execution_count": 22,
     "metadata": {},
     "output_type": "execute_result"
    }
   ],
   "source": [
    "neo.analyze([\"Ecls.so2_post\", \"Ecls.so2_pre\"], time_to_calculate=30)"
   ]
  },
  {
   "cell_type": "code",
   "execution_count": 9,
   "metadata": {},
   "outputs": [
    {
     "data": {
      "text/plain": [
       "0"
      ]
     },
     "execution_count": 9,
     "metadata": {},
     "output_type": "execute_result"
    }
   ],
   "source": [
    "models[\"ArtificialWhomb\"].pump_rpm"
   ]
  },
  {
   "cell_type": "code",
   "execution_count": null,
   "metadata": {},
   "outputs": [],
   "source": []
  }
 ],
 "metadata": {
  "kernelspec": {
   "display_name": "pypy",
   "language": "python",
   "name": "python3"
  },
  "language_info": {
   "codemirror_mode": {
    "name": "ipython",
    "version": 3
   },
   "file_extension": ".py",
   "mimetype": "text/x-python",
   "name": "python",
   "nbconvert_exporter": "python",
   "pygments_lexer": "ipython3",
   "version": "3.10.12"
  },
  "orig_nbformat": 4
 },
 "nbformat": 4,
 "nbformat_minor": 2
}
