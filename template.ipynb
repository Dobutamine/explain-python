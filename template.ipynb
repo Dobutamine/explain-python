{
 "cells": [
  {
   "cell_type": "code",
   "execution_count": 1,
   "metadata": {},
   "outputs": [
    {
     "name": "stdout",
     "output_type": "stream",
     "text": [
      " Model 'normal neonate' loaded and initialized correctly.\n",
      " Ready in 1.8 sec. Average model step in 0.0293 ms.\n"
     ]
    }
   ],
   "source": [
    "# first compile the c modules where the model depends on\n",
    "from explain_core.ModulesCompiler import compile_modules;\n",
    "compile_modules()\n",
    "\n",
    "# import the model engine and the model interface\n",
    "from explain_core.ModelEngine import ModelEngine\n",
    "from explain_core.helpers.Interface import Interface\n",
    "\n",
    "# instantiate a model engine instance with the 'normal_neonate' model definition\n",
    "model = ModelEngine(\"normal_neonate.json\")\n",
    "\n",
    "# get a reference to all models\n",
    "models = model.models\n",
    "\n",
    "# instantiate an interface object to interact with the model engine instance\n",
    "neo = Interface(model)\n",
    "\n",
    "# stabilize by calculating 30 seconds\n",
    "neo.calculate(30)"
   ]
  },
  {
   "cell_type": "code",
   "execution_count": 18,
   "metadata": {},
   "outputs": [],
   "source": [
    "models[\"ArtificialWhomb\"].aw_running = False\n",
    "models[\"Ecls\"].ecls_running = True\n",
    "models[\"Ecls\"].pump_rpm = 1500"
   ]
  },
  {
   "cell_type": "code",
   "execution_count": 2,
   "metadata": {},
   "outputs": [
    {
     "name": "stdout",
     "output_type": "stream",
     "text": [
      " Ready in 0.9 sec. Average model step in 0.0453 ms.\n"
     ]
    }
   ],
   "source": [
    "neo.calculate(10)"
   ]
  },
  {
   "cell_type": "code",
   "execution_count": 3,
   "metadata": {},
   "outputs": [
    {
     "name": "stdout",
     "output_type": "stream",
     "text": [
      "\n",
      "LA.pres         : max    6.37562, min   -1.95156 mmHg\n",
      "RA.pres         : max    5.51966, min    -2.6928 mmHg\n",
      "LV.pres         : max   73.94162, min   -3.18691 mmHg\n",
      "RV.pres         : max   48.24655, min   -4.01042 mmHg\n",
      "COR.pres        : max   18.75395, min     7.8747 mmHg\n",
      "LL.pres         : max    22.9633, min   16.59283 mmHg\n",
      "RL.pres         : max    22.9633, min   16.59283 mmHg\n",
      "PV.pres         : max    9.41088, min    3.74896 mmHg\n",
      "PA.pres         : max    47.7045, min   21.94915 mmHg\n",
      "AA.pres         : max   73.45395, min   41.36893 mmHg\n",
      "AAR.pres        : max   72.20049, min   41.28343 mmHg\n",
      "AD.pres         : max   71.55537, min   41.30015 mmHg\n",
      "RLB.pres        : max   37.84676, min   30.24616 mmHg\n",
      "LS.pres         : max   36.04407, min   32.39406 mmHg\n",
      "KID.pres        : max   36.12359, min   32.28225 mmHg\n",
      "INT.pres        : max   37.13702, min   31.02546 mmHg\n",
      "RUB.pres        : max   19.60256, min   15.69884 mmHg\n",
      "BR.pres         : max   37.37691, min    27.6593 mmHg\n",
      "IVCI.pres       : max    2.83802, min    1.84618 mmHg\n",
      "IVCE.pres       : max    2.83899, min    2.03547 mmHg\n",
      "SVC.pres        : max    3.32213, min    0.39648 mmHg\n"
     ]
    }
   ],
   "source": [
    "neo.get_blood_pressures()"
   ]
  },
  {
   "cell_type": "code",
   "execution_count": 5,
   "metadata": {},
   "outputs": [
    {
     "data": {
      "text/plain": [
       "{'ph': 7.407937956710893,\n",
       " 'po2': 88.91078475630798,\n",
       " 'pco2': 41.606786431957495,\n",
       " 'hco3': 25.93079945937182,\n",
       " 'be': 0.8469917856933141,\n",
       " 'so2': 97.242537334401}"
      ]
     },
     "execution_count": 5,
     "metadata": {},
     "output_type": "execute_result"
    }
   ],
   "source": [
    "neo.get_bloodgas(\"AA\")"
   ]
  },
  {
   "cell_type": "code",
   "execution_count": 19,
   "metadata": {},
   "outputs": [
    {
     "name": "stdout",
     "output_type": "stream",
     "text": [
      " Ready in 7.4 sec. Average model step in 0.0309 ms.\n"
     ]
    }
   ],
   "source": [
    "neo.calculate(120)"
   ]
  },
  {
   "cell_type": "code",
   "execution_count": 21,
   "metadata": {},
   "outputs": [
    {
     "name": "stdout",
     "output_type": "stream",
     "text": [
      "\n",
      "AA.pres         : max   72.80895, min    53.8175 mmHg\n",
      "PA.pres         : max   44.57852, min   19.04522 mmHg\n",
      "IVCI.pres       : max    2.37096, min    1.18003 mmHg\n"
     ]
    },
    {
     "data": {
      "text/plain": [
       "{'heartrate': 94.48560743483566,\n",
       " 'spo2_pre': 98.09372766498629,\n",
       " 'spo2_post': 97.15517360646665,\n",
       " 'abp_systole': 72.80895,\n",
       " 'abp_diastole': 53.8175,\n",
       " 'pap_systole': 44.57852,\n",
       " 'pap_diastole': 19.04522,\n",
       " 'cvp': 1.5769669689999999,\n",
       " 'resp_rate': 33.58333241095797,\n",
       " 'pH': 7.429303741410221,\n",
       " 'po2': 100.80282579840343,\n",
       " 'pco2': 39.48675313243198,\n",
       " 'hco3': 25.8504996722301,\n",
       " 'be': 1.2365070955980801}"
      ]
     },
     "execution_count": 21,
     "metadata": {},
     "output_type": "execute_result"
    }
   ],
   "source": [
    "neo.get_vitals()"
   ]
  },
  {
   "cell_type": "code",
   "execution_count": 22,
   "metadata": {},
   "outputs": [
    {
     "name": "stdout",
     "output_type": "stream",
     "text": [
      "\n",
      "Ecls.so2_post   : max   99.51319 min   99.49943\n",
      "Ecls.so2_pre    : max    96.3998 min    96.3998\n"
     ]
    },
    {
     "data": {
      "text/plain": [
       "{}"
      ]
     },
     "execution_count": 22,
     "metadata": {},
     "output_type": "execute_result"
    }
   ],
   "source": [
    "neo.analyze([\"Ecls.so2_post\", \"Ecls.so2_pre\"], time_to_calculate=30)"
   ]
  },
  {
   "cell_type": "code",
   "execution_count": 9,
   "metadata": {},
   "outputs": [
    {
     "data": {
      "text/plain": [
       "0"
      ]
     },
     "execution_count": 9,
     "metadata": {},
     "output_type": "execute_result"
    }
   ],
   "source": [
    "models[\"ArtificialWhomb\"].pump_rpm"
   ]
  },
  {
   "cell_type": "code",
   "execution_count": null,
   "metadata": {},
   "outputs": [],
   "source": []
  }
 ],
 "metadata": {
  "kernelspec": {
   "display_name": "pypy",
   "language": "python",
   "name": "python3"
  },
  "language_info": {
   "codemirror_mode": {
    "name": "ipython",
    "version": 3
   },
   "file_extension": ".py",
   "mimetype": "text/x-python",
   "name": "python",
   "nbconvert_exporter": "python",
   "pygments_lexer": "ipython3",
   "version": "3.10.12"
  },
  "orig_nbformat": 4
 },
 "nbformat": 4,
 "nbformat_minor": 2
}
