{
 "cells": [
  {
   "cell_type": "code",
   "execution_count": 1,
   "metadata": {},
   "outputs": [
    {
     "name": "stdout",
     "output_type": "stream",
     "text": [
      " Model 'normal neonate' loaded and initialized correctly.\n",
      " Ready in 1.3 sec. Average model step in 0.0210 ms.\n"
     ]
    }
   ],
   "source": [
    "# first compile the c modules where the model depends on\n",
    "from explain_core.ModulesCompiler import compile_modules;\n",
    "compile_modules()\n",
    "\n",
    "# import the model engine and the model interface\n",
    "from explain_core.ModelEngine import ModelEngine\n",
    "from explain_core.helpers.Interface import Interface\n",
    "\n",
    "# instantiate a model engine instance with the 'normal_neonate' model definition\n",
    "model = ModelEngine(\"normal_neonate.json\")\n",
    "\n",
    "# get a reference to all models\n",
    "models = model.models\n",
    "\n",
    "# instantiate an interface object to interact with the model engine instance\n",
    "neo = Interface(model)\n",
    "\n",
    "# switch physiological submodels\n",
    "neo.ans(False)\n",
    "neo.breathing(False)\n",
    "neo.metabolism(False)\n",
    "neo.mob(False)\n",
    "neo.placenta(False)\n",
    "\n",
    "# switch device models\n",
    "neo.ventilator(False)\n",
    "neo.ecls(False)\n",
    "neo.artificial_whomb(False)\n",
    "\n",
    "# stabilize by calculating 30 seconds\n",
    "neo.calculate(30)"
   ]
  },
  {
   "cell_type": "code",
   "execution_count": 3,
   "metadata": {},
   "outputs": [
    {
     "name": "stdout",
     "output_type": "stream",
     "text": [
      "\n",
      "Mob.sw_lv       : max    0.44944 min    0.44884\n",
      "Mob.sw_rv       : max    0.24981 min    0.24936\n",
      "Mob.sv_lv       : max    0.00727 min    0.00726\n",
      "Mob.sv_rv       : max    0.00727 min    0.00726\n"
     ]
    },
    {
     "data": {
      "text/plain": [
       "{}"
      ]
     },
     "execution_count": 3,
     "metadata": {},
     "output_type": "execute_result"
    }
   ],
   "source": [
    "neo.analyze([\"Mob.sw_lv\", \"Mob.sw_rv\", \"Mob.sv_lv\", \"Mob.sv_rv\"],time_to_calculate=5)"
   ]
  },
  {
   "cell_type": "code",
   "execution_count": 2,
   "metadata": {},
   "outputs": [
    {
     "name": "stdout",
     "output_type": "stream",
     "text": [
      "\n",
      "LV.vol          : max   13.25636, min    5.98553 ml\n",
      "RV.vol          : max   11.40607, min     4.1337 ml\n"
     ]
    },
    {
     "data": {
      "text/plain": [
       "{'LV.vol.max': 13.25636,\n",
       " 'LV.vol.min': 5.98553,\n",
       " 'RV.vol.max': 11.40607,\n",
       " 'RV.vol.min': 4.1337}"
      ]
     },
     "execution_count": 2,
     "metadata": {},
     "output_type": "execute_result"
    }
   ],
   "source": [
    "neo.analyze([\"LV.vol\", \"RV.vol\"])"
   ]
  },
  {
   "cell_type": "code",
   "execution_count": 7,
   "metadata": {},
   "outputs": [
    {
     "name": "stdout",
     "output_type": "stream",
     "text": [
      "\n",
      "LV.vol          : max   12.94046, min    5.81546 ml\n",
      "RV.vol          : max   11.03286, min    4.26884 ml\n"
     ]
    },
    {
     "data": {
      "text/plain": [
       "{'LV.vol.max': 12.94046,\n",
       " 'LV.vol.min': 5.81546,\n",
       " 'RV.vol.max': 11.03286,\n",
       " 'RV.vol.min': 4.26884}"
      ]
     },
     "execution_count": 7,
     "metadata": {},
     "output_type": "execute_result"
    }
   ],
   "source": [
    "neo.analyze([\"LV.vol\", \"RV.vol\"])"
   ]
  },
  {
   "cell_type": "code",
   "execution_count": null,
   "metadata": {},
   "outputs": [],
   "source": [
    "neo.stop_rt()"
   ]
  },
  {
   "cell_type": "code",
   "execution_count": 2,
   "metadata": {},
   "outputs": [
    {
     "name": "stdout",
     "output_type": "stream",
     "text": [
      " Ready in 4.0 sec. Average model step in 0.0166 ms.\n"
     ]
    }
   ],
   "source": [
    "neo.fastforward(120)"
   ]
  },
  {
   "cell_type": "code",
   "execution_count": 3,
   "metadata": {},
   "outputs": [
    {
     "data": {
      "text/plain": [
       "{'ph': 7.553149875059597,\n",
       " 'po2': 138.49156862754302,\n",
       " 'pco2': 29.150780314183603,\n",
       " 'hco3': 25.381298442724063,\n",
       " 'be': 3.491264308332093,\n",
       " 'so2': 99.28655982535108}"
      ]
     },
     "execution_count": 3,
     "metadata": {},
     "output_type": "execute_result"
    }
   ],
   "source": [
    "neo.get_bloodgas(\"AA\")"
   ]
  },
  {
   "cell_type": "code",
   "execution_count": null,
   "metadata": {},
   "outputs": [],
   "source": []
  }
 ],
 "metadata": {
  "kernelspec": {
   "display_name": "pypy",
   "language": "python",
   "name": "python3"
  },
  "language_info": {
   "codemirror_mode": {
    "name": "ipython",
    "version": 3
   },
   "file_extension": ".py",
   "mimetype": "text/x-python",
   "name": "python",
   "nbconvert_exporter": "python",
   "pygments_lexer": "ipython3",
   "version": "3.10.12"
  },
  "orig_nbformat": 4
 },
 "nbformat": 4,
 "nbformat_minor": 2
}
