{
 "cells": [
  {
   "cell_type": "code",
   "execution_count": 1,
   "metadata": {},
   "outputs": [
    {
     "name": "stdout",
     "output_type": "stream",
     "text": [
      " Model 'normal neonate' loaded and initialized correctly.\n",
      " Ready in 2.6 sec. Average model step in 0.0214 ms.\n"
     ]
    }
   ],
   "source": [
    "#%matplotlib ipympl  # enable this for realtime graphs\n",
    "\n",
    "# first compile the c modules where the model depends on\n",
    "from explain_core.ModulesCompiler import compile_modules;\n",
    "\n",
    "# compile the c++ modules if necessary\n",
    "compile_modules()\n",
    "\n",
    "# import the model engine and the model interface\n",
    "from explain_core.ModelEngine import ModelEngine\n",
    "from explain_core.helpers.Interface import Interface\n",
    "\n",
    "# instantiate a model engine instance with the 'normal_neonate' model definition\n",
    "model = ModelEngine(\"normal_neonate.json\")\n",
    "\n",
    "# instantiate an interface object to interact with the model engine instance\n",
    "neo = Interface(model)\n",
    "\n",
    "# configure spontaneous breathing\n",
    "neo.model.models[\"Breathing\"].breathing_enabled = True\n",
    "\n",
    "# configure the ventilator\n",
    "neo.model.models[\"Ventilator\"].vent_mode = \"PRVC\"\n",
    "neo.model.models[\"Ventilator\"].pip_cmh2o_max = 20.0\n",
    "neo.model.models[\"Ventilator\"].peep_cmh2o = 3.0\n",
    "neo.model.models[\"Ventilator\"].tidal_volume = 0.015\n",
    "neo.model.models[\"Ventilator\"].vent_rate = 35.0\n",
    "neo.model.models[\"Ventilator\"].insp_flow = 8.0\n",
    "neo.model.models[\"Ventilator\"].synchronized = False\n",
    "neo.model.models[\"Ventilator\"].switch_ventilator(False)\n",
    "\n",
    "# configure ecls\n",
    "neo.model.models[\"Ecls\"].set_fio2(0.30)\n",
    "neo.model.models[\"Ecls\"].set_co2_flow(40.0)\n",
    "neo.model.models[\"Ecls\"].set_rpm(2500.0)\n",
    "neo.model.models[\"Ecls\"].switch_ecls(False)\n",
    "\n",
    "# open the shunts\n",
    "neo.model.models[\"DA\"].disable()\n",
    "neo.model.models[\"DA\"].set_length(10.0)\n",
    "neo.model.models[\"DA\"].set_diameter(3.0)\n",
    "\n",
    "neo.model.models[\"FO\"].disable()\n",
    "neo.model.models[\"FO\"].set_length(1.0)\n",
    "neo.model.models[\"FO\"].set_diameter(2.0)\n",
    "\n",
    "# increase the pulmonary vascular resistance\n",
    "# neo.model.models[\"PA\"].el_base_factor = 10.0\n",
    "# neo.model.models[\"PA_LL\"].r_for_factor = 1000.0\n",
    "# neo.model.models[\"PA_RL\"].r_for_factor = 1000.0\n",
    "\n",
    "# configure placental circulation\n",
    "neo.model.models[\"Placenta\"].switch_placenta(False)\n",
    "\n",
    "# neo.model.models[\"Metabolism\"].vo2 = 5.0\n",
    "# stabilize by calculating 60 seconds\n",
    "\n",
    "neo.fastforward(60)"
   ]
  },
  {
   "cell_type": "code",
   "execution_count": null,
   "metadata": {},
   "outputs": [],
   "source": [
    "neo.analyze([\"DA.flow\",\"FO.flow\",\"LV_AA.flow\", \"RV_PA.flow\", \"PV_LA.flow\"], sampleinterval=0.0005)"
   ]
  },
  {
   "cell_type": "code",
   "execution_count": null,
   "metadata": {},
   "outputs": [],
   "source": [
    "neo.fastforward(120)"
   ]
  },
  {
   "cell_type": "code",
   "execution_count": 2,
   "metadata": {},
   "outputs": [
    {
     "name": "stdout",
     "output_type": "stream",
     "text": [
      "\n",
      "LA.pres         : max    6.52963, min   -2.84671 mmHg\n",
      "RA.pres         : max    5.82354, min   -3.45376 mmHg\n",
      "LV.pres         : max   78.66357, min    -3.3042 mmHg\n",
      "RV.pres         : max    47.5568, min   -4.28504 mmHg\n",
      "COR.pres        : max   19.62295, min    8.22006 mmHg\n",
      "LL.pres         : max   21.86862, min    14.4291 mmHg\n",
      "RL.pres         : max   21.86862, min    14.4291 mmHg\n",
      "PV.pres         : max    9.20722, min    2.67645 mmHg\n",
      "PA.pres         : max   46.97893, min   18.47522 mmHg\n",
      "AA.pres         : max   78.17813, min   43.30581 mmHg\n",
      "AAR.pres        : max   76.90805, min   43.18752 mmHg\n",
      "AD.pres         : max   76.21436, min   43.06471 mmHg\n",
      "RLB.pres        : max   40.11103, min   31.30913 mmHg\n",
      "LS.pres         : max   37.96643, min   33.73479 mmHg\n",
      "KID.pres        : max   38.07308, min   33.60494 mmHg\n",
      "INT.pres        : max   39.28845, min   32.18605 mmHg\n",
      "RUB.pres        : max   20.58519, min   16.02719 mmHg\n",
      "BR.pres         : max    39.5537, min    28.4296 mmHg\n",
      "IVCI.pres       : max    2.80496, min    1.59902 mmHg\n",
      "IVCE.pres       : max    2.79308, min    1.79318 mmHg\n",
      "SVC.pres        : max    3.44724, min   -0.28273 mmHg\n"
     ]
    }
   ],
   "source": [
    "neo.get_blood_pressures()"
   ]
  },
  {
   "cell_type": "code",
   "execution_count": null,
   "metadata": {},
   "outputs": [],
   "source": [
    "neo.plot_time_graph([\"Placenta.fetal_ua_flow_measured\"])"
   ]
  },
  {
   "cell_type": "code",
   "execution_count": 3,
   "metadata": {},
   "outputs": [
    {
     "data": {
      "text/plain": [
       "{'ph': 7.4040718369567955,\n",
       " 'po2': 92.37126148928812,\n",
       " 'pco2': 42.002318873255625,\n",
       " 'hco3': 25.945310995985444,\n",
       " 'be': 0.7764941274951617,\n",
       " 'so2': 97.48277150230864}"
      ]
     },
     "execution_count": 3,
     "metadata": {},
     "output_type": "execute_result"
    }
   ],
   "source": [
    "neo.get_bloodgas(\"AA\")"
   ]
  },
  {
   "cell_type": "code",
   "execution_count": null,
   "metadata": {},
   "outputs": [],
   "source": []
  }
 ],
 "metadata": {
  "kernelspec": {
   "display_name": "pypy",
   "language": "python",
   "name": "python3"
  },
  "language_info": {
   "codemirror_mode": {
    "name": "ipython",
    "version": 3
   },
   "file_extension": ".py",
   "mimetype": "text/x-python",
   "name": "python",
   "nbconvert_exporter": "python",
   "pygments_lexer": "ipython3",
   "version": "3.10.12"
  },
  "orig_nbformat": 4
 },
 "nbformat": 4,
 "nbformat_minor": 2
}
