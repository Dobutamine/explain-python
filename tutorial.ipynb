{
 "cells": [
  {
   "cell_type": "code",
   "execution_count": 1,
   "metadata": {},
   "outputs": [
    {
     "name": "stdout",
     "output_type": "stream",
     "text": [
      "{'log': [\" Model 'normal neonate' loaded and initialized correctly.\"], 'error_log': [], 'initialized': True}\n",
      "Ready in 1.5 sec. Average model step in 0.0732 ms.\n"
     ]
    }
   ],
   "source": [
    "#%matplotlib ipympl  # enable this for realtime graphs\n",
    "\n",
    "# first compile the c modules where the model depends on\n",
    "from explain_core.ModulesCompiler import compile_modules;\n",
    "\n",
    "# compile the c++ modules if necessary\n",
    "compile_modules()\n",
    "\n",
    "# import the model engine and the model interface\n",
    "from explain_core.ModelEngine import ModelEngine\n",
    "from explain_core.helpers.Interface import Interface\n",
    "\n",
    "# instantiate a model engine instance with the 'normal_neonate' model definition\n",
    "model = ModelEngine(\"normal_neonate.json\")\n",
    "\n",
    "# instantiate an interface object to interact with the model engine instance\n",
    "neo = Interface(model)\n",
    "\n",
    "# disable spontaneous breathing\n",
    "neo.model.models[\"Breathing\"].breathing_enabled = False\n",
    "\n",
    "# configure the ventilator\n",
    "neo.model.models[\"Ventilator\"].vent_mode = \"PRVC\"\n",
    "neo.model.models[\"Ventilator\"].pip_cmh2o_max = 20.0\n",
    "neo.model.models[\"Ventilator\"].peep_cmh2o = 3.0\n",
    "neo.model.models[\"Ventilator\"].tidal_volume = 0.015\n",
    "neo.model.models[\"Ventilator\"].vent_rate = 40.0\n",
    "neo.model.models[\"Ventilator\"].insp_flow = 8.0\n",
    "\n",
    "# configure ecls\n",
    "neo.model.models[\"Ecls\"].co2_flow_gas = 0.0\n",
    "\n",
    "# turn on the ventilator\n",
    "neo.model.models[\"Ventilator\"].switch_ventilator(True)\n",
    "\n",
    "# print the model status object\n",
    "print(model.status) \n",
    "\n",
    "# stabilize by calculating 120 seconds\n",
    "neo.fastforward(10)"
   ]
  },
  {
   "cell_type": "code",
   "execution_count": null,
   "metadata": {},
   "outputs": [],
   "source": [
    "neo.model.models[\"Ecls\"].co2_flow_gas = 40.0\n",
    "neo.plot_time_graph([\"Ecls._pco2_1\", \"Ecls._pco2_2\", \"Ecls._pco2_3\"], time_to_calculate=120)"
   ]
  },
  {
   "cell_type": "code",
   "execution_count": null,
   "metadata": {},
   "outputs": [],
   "source": [
    "neo.model.models[\"Ecls\"]._ecls_parts"
   ]
  },
  {
   "cell_type": "code",
   "execution_count": null,
   "metadata": {},
   "outputs": [],
   "source": [
    "neo.model.models[\"Ecls\"]._tubing_in.solutes"
   ]
  },
  {
   "cell_type": "code",
   "execution_count": 2,
   "metadata": {},
   "outputs": [
    {
     "data": {
      "text/plain": [
       "{'log': [\" Model 'normal neonate' loaded and initialized correctly.\"],\n",
       " 'error_log': [],\n",
       " 'initialized': True}"
      ]
     },
     "execution_count": 2,
     "metadata": {},
     "output_type": "execute_result"
    }
   ],
   "source": [
    "model.status"
   ]
  },
  {
   "cell_type": "code",
   "execution_count": 3,
   "metadata": {},
   "outputs": [
    {
     "name": "stdout",
     "output_type": "stream",
     "text": [
      "\n",
      "AA.pres         : max    61.6337, min   40.28679 mmHg\n",
      "PA.pres         : max   34.75022, min   18.69999 mmHg\n",
      "IVCI.pres       : max     4.3112, min     3.9486 mmHg\n"
     ]
    },
    {
     "data": {
      "text/plain": [
       "{'heartrate': 124.9758334355106,\n",
       " 'spo2_pre': 99.17804975351451,\n",
       " 'abp_systole': 61.6337,\n",
       " 'abp_diastole': 40.28679,\n",
       " 'pap_systole': 34.75022,\n",
       " 'pap_diastole': 18.69999,\n",
       " 'cvp': 4.06945458,\n",
       " 'resp_rate': 0.0,\n",
       " 'pH': 7.575630224267787,\n",
       " 'po2': 127.90326589867259,\n",
       " 'pco2': 27.586515987812476,\n",
       " 'hco3': 25.29535947219175,\n",
       " 'be': 3.8999155936740757}"
      ]
     },
     "execution_count": 3,
     "metadata": {},
     "output_type": "execute_result"
    }
   ],
   "source": [
    "neo.get_vitals()"
   ]
  },
  {
   "cell_type": "code",
   "execution_count": null,
   "metadata": {},
   "outputs": [],
   "source": []
  }
 ],
 "metadata": {
  "kernelspec": {
   "display_name": "pypy",
   "language": "python",
   "name": "python3"
  },
  "language_info": {
   "codemirror_mode": {
    "name": "ipython",
    "version": 3
   },
   "file_extension": ".py",
   "mimetype": "text/x-python",
   "name": "python",
   "nbconvert_exporter": "python",
   "pygments_lexer": "ipython3",
   "version": "3.10.12"
  },
  "orig_nbformat": 4
 },
 "nbformat": 4,
 "nbformat_minor": 2
}
