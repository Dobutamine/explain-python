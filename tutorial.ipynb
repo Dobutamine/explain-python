{
 "cells": [
  {
   "cell_type": "code",
   "execution_count": 1,
   "metadata": {},
   "outputs": [
    {
     "name": "stdout",
     "output_type": "stream",
     "text": [
      "Ready in 1.3 sec. Average model step in 0.0672 ms.\n"
     ]
    }
   ],
   "source": [
    "#%matplotlib ipympl  # enable this for realtime graphs\n",
    "\n",
    "# first compile the c modules where the model depends on\n",
    "from explain_core.ModulesCompiler import compile_modules;\n",
    "\n",
    "# compile the c++ modules if necessary\n",
    "compile_modules()\n",
    "\n",
    "# import the model engine and the model interface\n",
    "from explain_core.ModelEngine import ModelEngine\n",
    "from explain_core.helpers.Interface import Interface\n",
    "\n",
    "# instantiate a model engine instance with the 'normal_neonate' model definition\n",
    "model = ModelEngine(\"normal_neonate.json\")\n",
    "\n",
    "# instantiate an interface object to interact with the model engine instance\n",
    "neo = Interface(model)\n",
    "\n",
    "# disable spontaneous breathing\n",
    "neo.model.models[\"Breathing\"].breathing_enabled = False\n",
    "\n",
    "# configure the ventilator\n",
    "neo.model.models[\"Ventilator\"].vent_mode = \"PRVC\"\n",
    "neo.model.models[\"Ventilator\"].pip_cmh2o_max = 20.0\n",
    "neo.model.models[\"Ventilator\"].peep_cmh2o = 3.0\n",
    "neo.model.models[\"Ventilator\"].tidal_volume = 0.015\n",
    "neo.model.models[\"Ventilator\"].vent_rate = 40.0\n",
    "neo.model.models[\"Ventilator\"].insp_flow = 8.0\n",
    "\n",
    "# configure ecls\n",
    "neo.model.models[\"Ecls\"].co2_flow_gas = 0.0\n",
    "\n",
    "# turn on the ventilator\n",
    "neo.model.models[\"Ventilator\"].switch_ventilator(True)\n",
    "\n",
    "# stabilize by calculating 120 seconds\n",
    "neo.fastforward(10)"
   ]
  },
  {
   "cell_type": "code",
   "execution_count": null,
   "metadata": {},
   "outputs": [],
   "source": [
    "neo.model.models[\"Ecls\"].co2_flow_gas = 40.0\n",
    "neo.plot_time_graph([\"Ecls._pco2_1\", \"Ecls._pco2_2\", \"Ecls._pco2_3\"], time_to_calculate=120)"
   ]
  },
  {
   "cell_type": "code",
   "execution_count": 4,
   "metadata": {},
   "outputs": [
    {
     "data": {
      "text/plain": [
       "[<explain_core.core_models.GasCapacitance.GasCapacitance at 0x1297ec058>,\n",
       " <explain_core.core_models.GasCapacitance.GasCapacitance at 0x1297ec0c8>,\n",
       " <explain_core.core_models.GasCapacitance.GasCapacitance at 0x1297ec758>,\n",
       " <explain_core.core_models.GasResistor.GasResistor at 0x1297ec838>,\n",
       " <explain_core.core_models.GasResistor.GasResistor at 0x1297ec870>,\n",
       " <explain_core.core_models.BloodTimeVaryingElastance.BloodTimeVaryingElastance at 0x119bbfda8>,\n",
       " <explain_core.core_models.BloodCapacitance.BloodCapacitance at 0x119bbffa0>,\n",
       " <explain_core.core_models.BloodCapacitance.BloodCapacitance at 0x1297ec988>,\n",
       " <explain_core.core_models.BloodCapacitance.BloodCapacitance at 0x1297ec9c0>,\n",
       " <explain_core.core_models.BloodCapacitance.BloodCapacitance at 0x1297ec9f8>]"
      ]
     },
     "execution_count": 4,
     "metadata": {},
     "output_type": "execute_result"
    }
   ],
   "source": [
    "neo.model.models[\"Ecls\"]._ecls_parts"
   ]
  },
  {
   "cell_type": "code",
   "execution_count": 6,
   "metadata": {},
   "outputs": [
    {
     "data": {
      "text/plain": [
       "{'na': 138.0, 'k': 3.5, 'ca': 1.0, 'cl': 108.0, 'lact': 1.0, 'mg': 0.75}"
      ]
     },
     "execution_count": 6,
     "metadata": {},
     "output_type": "execute_result"
    }
   ],
   "source": [
    "neo.model.models[\"Ecls\"]._tubing_in.solutes"
   ]
  },
  {
   "cell_type": "code",
   "execution_count": null,
   "metadata": {},
   "outputs": [],
   "source": []
  }
 ],
 "metadata": {
  "kernelspec": {
   "display_name": "pypy",
   "language": "python",
   "name": "python3"
  },
  "language_info": {
   "codemirror_mode": {
    "name": "ipython",
    "version": 3
   },
   "file_extension": ".py",
   "mimetype": "text/x-python",
   "name": "python",
   "nbconvert_exporter": "python",
   "pygments_lexer": "ipython3",
   "version": "3.10.12"
  },
  "orig_nbformat": 4
 },
 "nbformat": 4,
 "nbformat_minor": 2
}
