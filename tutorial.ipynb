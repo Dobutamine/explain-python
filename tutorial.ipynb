{
 "cells": [
  {
   "cell_type": "code",
   "execution_count": 2,
   "metadata": {},
   "outputs": [
    {
     "name": "stdout",
     "output_type": "stream",
     "text": [
      " Model 'normal neonate' loaded and initialized correctly.\n"
     ]
    }
   ],
   "source": [
    "#%matplotlib ipympl  # enable this for realtime graphs\n",
    "\n",
    "# first compile the c modules where the model depends on\n",
    "from explain_core.ModulesCompiler import compile_modules;\n",
    "\n",
    "# compile the c++ modules if necessary\n",
    "compile_modules()\n",
    "\n",
    "# import the model engine and the model interface\n",
    "from explain_core.ModelEngine import ModelEngine\n",
    "from explain_core.helpers.Interface import Interface\n",
    "\n",
    "# instantiate a model engine instance with the 'normal_neonate' model definition\n",
    "model = ModelEngine(\"normal_neonate.json\")\n",
    "\n",
    "# instantiate an interface object to interact with the model engine instance\n",
    "neo = Interface(model)\n",
    "\n",
    "# # configure spontaneous breathing\n",
    "# neo.model.models[\"Breathing\"].breathing_enabled = True\n",
    "\n",
    "# # configure the ventilator\n",
    "# neo.model.models[\"Ventilator\"].vent_mode = \"PRVC\"\n",
    "# neo.model.models[\"Ventilator\"].pip_cmh2o_max = 20.0\n",
    "# neo.model.models[\"Ventilator\"].peep_cmh2o = 3.0\n",
    "# neo.model.models[\"Ventilator\"].tidal_volume = 0.015\n",
    "# neo.model.models[\"Ventilator\"].vent_rate = 35.0\n",
    "# neo.model.models[\"Ventilator\"].insp_flow = 8.0\n",
    "# neo.model.models[\"Ventilator\"].synchronized = False\n",
    "# neo.model.models[\"Ventilator\"].switch_ventilator(False)\n",
    "\n",
    "# # configure ecls\n",
    "# neo.model.models[\"Ecls\"].set_fio2(0.30)\n",
    "# neo.model.models[\"Ecls\"].set_co2_flow(40.0)\n",
    "# neo.model.models[\"Ecls\"].set_rpm(2500.0)\n",
    "# neo.model.models[\"Ecls\"].switch_ecls(False)\n",
    "\n",
    "# # open the shunts\n",
    "# neo.model.models[\"DA\"].disable()\n",
    "# neo.model.models[\"DA\"].set_length(10.0)\n",
    "# neo.model.models[\"DA\"].set_diameter(3.0)\n",
    "\n",
    "# neo.model.models[\"FO\"].disable()\n",
    "# neo.model.models[\"FO\"].set_length(1.0)\n",
    "# neo.model.models[\"FO\"].set_diameter(2.0)\n",
    "\n",
    "# # increase the pulmonary vascular resistance\n",
    "# # neo.model.models[\"PA\"].el_base_factor = 10.0\n",
    "# # neo.model.models[\"PA_LL\"].r_for_factor = 1000.0\n",
    "# # neo.model.models[\"PA_RL\"].r_for_factor = 1000.0\n",
    "\n",
    "# # configure placental circulation\n",
    "# neo.model.models[\"Placenta\"].switch_placenta(False)\n",
    "\n",
    "# # neo.model.models[\"Metabolism\"].vo2 = 5.0\n",
    "# # stabilize by calculating 60 seconds\n",
    "\n",
    "# #neo.fastforward(60)"
   ]
  },
  {
   "cell_type": "code",
   "execution_count": null,
   "metadata": {},
   "outputs": [],
   "source": [
    "neo.analyze([\"DA.flow\",\"FO.flow\",\"LV_AA.flow\", \"RV_PA.flow\", \"PV_LA.flow\"], sampleinterval=0.0005)"
   ]
  },
  {
   "cell_type": "code",
   "execution_count": 3,
   "metadata": {},
   "outputs": [
    {
     "name": "stdout",
     "output_type": "stream",
     "text": [
      " Ready in 5.3 sec. Average model step in 0.0221 ms.\n"
     ]
    }
   ],
   "source": [
    "neo.fastforward(120)"
   ]
  },
  {
   "cell_type": "code",
   "execution_count": 4,
   "metadata": {},
   "outputs": [
    {
     "name": "stdout",
     "output_type": "stream",
     "text": [
      "\n",
      "LA.pres         : max    6.57386, min   -2.56772 mmHg\n",
      "RA.pres         : max     5.7708, min   -3.35266 mmHg\n",
      "LV.pres         : max   78.83613, min   -3.38306 mmHg\n",
      "RV.pres         : max   47.77483, min   -4.37046 mmHg\n",
      "COR.pres        : max   19.65425, min     8.2144 mmHg\n",
      "LL.pres         : max   21.93425, min   14.37052 mmHg\n",
      "RL.pres         : max   21.93425, min   14.37052 mmHg\n",
      "PV.pres         : max    9.25492, min    2.55377 mmHg\n",
      "PA.pres         : max   47.19384, min   18.44239 mmHg\n",
      "AA.pres         : max   78.34375, min   43.14497 mmHg\n",
      "AAR.pres        : max   77.07427, min   43.06152 mmHg\n",
      "AD.pres         : max   76.37736, min   43.08627 mmHg\n",
      "RLB.pres        : max   40.17479, min   31.25101 mmHg\n",
      "LS.pres         : max   37.99252, min   33.74409 mmHg\n",
      "KID.pres        : max   38.10137, min   33.60733 mmHg\n",
      "INT.pres        : max   39.33818, min    32.1292 mmHg\n",
      "RUB.pres        : max   20.60592, min   16.02421 mmHg\n",
      "BR.pres         : max    39.6738, min   28.36649 mmHg\n",
      "IVCI.pres       : max    2.73401, min    1.52692 mmHg\n",
      "IVCE.pres       : max    2.74156, min    1.72179 mmHg\n",
      "SVC.pres        : max    3.44285, min   -0.36096 mmHg\n"
     ]
    }
   ],
   "source": [
    "neo.get_blood_pressures()"
   ]
  },
  {
   "cell_type": "code",
   "execution_count": null,
   "metadata": {},
   "outputs": [],
   "source": [
    "neo.plot_time_graph([\"Placenta.fetal_ua_flow_measured\"])"
   ]
  },
  {
   "cell_type": "code",
   "execution_count": null,
   "metadata": {},
   "outputs": [],
   "source": [
    "neo.get_bloodgas(\"AA\")"
   ]
  },
  {
   "cell_type": "code",
   "execution_count": null,
   "metadata": {},
   "outputs": [],
   "source": []
  }
 ],
 "metadata": {
  "kernelspec": {
   "display_name": "pypy",
   "language": "python",
   "name": "python3"
  },
  "language_info": {
   "codemirror_mode": {
    "name": "ipython",
    "version": 3
   },
   "file_extension": ".py",
   "mimetype": "text/x-python",
   "name": "python",
   "nbconvert_exporter": "python",
   "pygments_lexer": "ipython3",
   "version": "3.10.12"
  },
  "orig_nbformat": 4
 },
 "nbformat": 4,
 "nbformat_minor": 2
}
