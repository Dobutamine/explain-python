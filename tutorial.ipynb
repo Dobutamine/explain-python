{
 "cells": [
  {
   "cell_type": "code",
   "execution_count": 7,
   "metadata": {},
   "outputs": [
    {
     "name": "stdout",
     "output_type": "stream",
     "text": [
      " Model 'normal neonate' loaded and initialized correctly.\n",
      "Ready in 3.8 sec. Average model step in 0.0316 ms.\n"
     ]
    }
   ],
   "source": [
    "#%matplotlib ipympl  # enable this for realtime graphs\n",
    "\n",
    "# first compile the c modules where the model depends on\n",
    "from explain_core.ModulesCompiler import compile_modules;\n",
    "\n",
    "# compile the c++ modules if necessary\n",
    "compile_modules()\n",
    "\n",
    "# import the model engine and the model interface\n",
    "from explain_core.ModelEngine import ModelEngine\n",
    "from explain_core.helpers.Interface import Interface\n",
    "\n",
    "# instantiate a model engine instance with the 'normal_neonate' model definition\n",
    "model = ModelEngine(\"normal_neonate.json\")\n",
    "\n",
    "# instantiate an interface object to interact with the model engine instance\n",
    "neo = Interface(model)\n",
    "\n",
    "# disable spontaneous breathing\n",
    "neo.model.models[\"Breathing\"].breathing_enabled = False\n",
    "\n",
    "# configure the ventilator\n",
    "neo.model.models[\"Ventilator\"].vent_mode = \"PRVC\"\n",
    "neo.model.models[\"Ventilator\"].pip_cmh2o_max = 20.0\n",
    "neo.model.models[\"Ventilator\"].peep_cmh2o = 3.0\n",
    "neo.model.models[\"Ventilator\"].tidal_volume = 0.015\n",
    "neo.model.models[\"Ventilator\"].vent_rate = 35.0\n",
    "neo.model.models[\"Ventilator\"].insp_flow = 8.0\n",
    "\n",
    "# turn on the ventilator, turn off spontaneous breathing and ventilator synchronization\n",
    "neo.model.models[\"Ventilator\"].switch_ventilator(state = True, spont_breathing = False, synchronized = False)\n",
    "\n",
    "# configure ecls\n",
    "neo.model.models[\"Ecls\"].set_fio2(0.30)\n",
    "neo.model.models[\"Ecls\"].set_co2_flow(40.0)\n",
    "neo.model.models[\"Ecls\"].set_rpm(2500.0)\n",
    "\n",
    "# turn on the ecls\n",
    "neo.model.models[\"Ecls\"].switch_ecls(True)\n",
    "\n",
    "# print the model status object\n",
    "for message in model.status['log']:\n",
    "    print(message)\n",
    "\n",
    "# stabilize by calculating 60 seconds\n",
    "neo.fastforward(60)"
   ]
  }
 ],
 "metadata": {
  "kernelspec": {
   "display_name": "pypy",
   "language": "python",
   "name": "python3"
  },
  "language_info": {
   "codemirror_mode": {
    "name": "ipython",
    "version": 3
   },
   "file_extension": ".py",
   "mimetype": "text/x-python",
   "name": "python",
   "nbconvert_exporter": "python",
   "pygments_lexer": "ipython3",
   "version": "3.10.12"
  },
  "orig_nbformat": 4
 },
 "nbformat": 4,
 "nbformat_minor": 2
}
