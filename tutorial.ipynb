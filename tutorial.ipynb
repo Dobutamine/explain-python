{
 "cells": [
  {
   "cell_type": "code",
   "execution_count": 1,
   "metadata": {},
   "outputs": [
    {
     "name": "stdout",
     "output_type": "stream",
     "text": [
      "Ready in 3.2 sec. Average model step in 0.0266 ms.\n"
     ]
    }
   ],
   "source": [
    "# first compile the c modules where the model depends on\n",
    "from explain_core.ModulesCompiler import compile_modules;\n",
    "\n",
    "# compile the c++ modules if necessary\n",
    "compile_modules()\n",
    "\n",
    "# import the model engine and the model interface\n",
    "from explain_core.ModelEngine import ModelEngine\n",
    "from explain_core.helpers.Interface import Interface\n",
    "\n",
    "# instantiate a model engine instance with the 'normal_neonate' model definition\n",
    "model = ModelEngine(\"normal_neonate.json\")\n",
    "\n",
    "# instantiate an interface object to interact with the model engine instance\n",
    "neo = Interface(model)\n",
    "\n",
    "# switch on the ventilator\n",
    "neo.model.models[\"Breathing\"].breathing_enabled = False\n",
    "neo.model.models[\"Ans\"].is_enabled = False\n",
    "\n",
    "# stabilize by calculating 60 seconds\n",
    "neo.fastforward(60)"
   ]
  },
  {
   "cell_type": "code",
   "execution_count": 4,
   "metadata": {},
   "outputs": [],
   "source": [
    "neo.model.models[\"Breathing\"].breathing_enabled = False\n",
    "\n",
    "neo.model.models[\"VentilatorExp\"].pip = 3.7\n",
    "neo.model.models[\"VentilatorExp\"].peep = 0.0\n",
    "\n",
    "neo.model.models[\"VentilatorExp\"].is_enabled = True\n",
    "neo.model.models[\"VentilatorExp\"].is_enabled = True\n",
    "\n",
    "neo.model.models[\"MOUTH_DS\"].r_for = 25.0\n",
    "neo.model.models[\"MOUTH_DS\"].r_back = 25.0\n",
    "\n",
    "neo.model.models[\"DS_ALL\"].r_for = 35.0\n",
    "neo.model.models[\"DS_ALL\"].r_back = 35.0\n",
    "\n",
    "neo.model.models[\"DS_ALR\"].r_for = 35.0\n",
    "neo.model.models[\"DS_ALR\"].r_back = 35.0"
   ]
  },
  {
   "cell_type": "code",
   "execution_count": 5,
   "metadata": {},
   "outputs": [
    {
     "name": "stdout",
     "output_type": "stream",
     "text": [
      "Ready in 2.7 sec. Average model step in 0.0225 ms.\n",
      "\n",
      "ALL.vol         : max   57.86001, min   49.81608 ml\n",
      "ALR.vol         : max   57.86001, min   49.81608 ml\n",
      "THORAX.vol      : max  256.86827, min   242.2944 ml\n",
      "\n",
      "ALL.pres        : max  761.63501, min  760.16137 mmHg\n",
      "ALR.pres        : max  761.63501, min  760.16137 mmHg\n",
      "THORAX.pres     : max   -1.26812, min   -2.07798 mmHg\n",
      "\n",
      "ALL.pres_ext    : max   -1.26564 min   -2.07739\n",
      "ALR.pres_ext    : max   -1.26564 min   -2.07739\n",
      "THORAX.pres_ext : max        0.0 min        0.0\n",
      "\n",
      "VentilatorExp.expTidalVolume: max    0.01611 min    0.01611\n",
      "VentilatorExp.inspTidalVolume: max    0.01611 min    0.01611\n",
      "\n",
      "Breathing.exp_tidal_volume: max    0.01361 min    0.01361\n",
      "Breathing.insp_tidal_volume: max   -0.01511 min   -0.01512\n",
      "Breathing._rmp_gain: max        2.0 min        2.0\n",
      "Breathing.resp_muscle_pressure: max        0.0 min        0.0\n"
     ]
    }
   ],
   "source": [
    "neo.fastforward(60)\n",
    "neo.analyze([\"ALL.vol\", \"ALR.vol\", \"THORAX.vol\"])\n",
    "neo.analyze([\"ALL.pres\", \"ALR.pres\", \"THORAX.pres\"])\n",
    "neo.analyze([\"ALL.pres_ext\", \"ALR.pres_ext\",\"THORAX.pres_ext\"])\n",
    "neo.analyze([\"VentilatorExp.expTidalVolume\", \"VentilatorExp.inspTidalVolume\"])\n",
    "neo.analyze([\"Breathing.exp_tidal_volume\", \"Breathing.insp_tidal_volume\", \"Breathing._rmp_gain\", \"Breathing.resp_muscle_pressure\"])"
   ]
  },
  {
   "cell_type": "code",
   "execution_count": 6,
   "metadata": {},
   "outputs": [
    {
     "name": "stdout",
     "output_type": "stream",
     "text": [
      "Ready in 5.0 sec. Average model step in 0.0208 ms.\n"
     ]
    }
   ],
   "source": [
    "neo.fastforward(120)"
   ]
  },
  {
   "cell_type": "code",
   "execution_count": 11,
   "metadata": {},
   "outputs": [
    {
     "data": {
      "text/plain": [
       "{'ph': 7.360292234844469,\n",
       " 'po2': 92.83061690690339,\n",
       " 'pco2': 46.750770961306,\n",
       " 'hco3': 26.109273533267384,\n",
       " 'be': -0.022112896030268978,\n",
       " 'so2': 97.26512525877821}"
      ]
     },
     "execution_count": 11,
     "metadata": {},
     "output_type": "execute_result"
    }
   ],
   "source": [
    "neo.get_bloodgas(\"AA\")"
   ]
  },
  {
   "cell_type": "code",
   "execution_count": 9,
   "metadata": {},
   "outputs": [
    {
     "name": "stdout",
     "output_type": "stream",
     "text": [
      "\n",
      "LA.pres         : max    6.06663, min    1.40372 mmHg\n",
      "RA.pres         : max    5.53006, min    0.58486 mmHg\n",
      "LV.pres         : max   64.68689, min    0.16175 mmHg\n",
      "RV.pres         : max   37.70374, min   -0.63543 mmHg\n",
      "COR.pres        : max   18.48229, min    8.46672 mmHg\n",
      "LL.pres         : max    19.3733, min   16.10819 mmHg\n",
      "RL.pres         : max    19.3733, min   16.10819 mmHg\n",
      "PV.pres         : max    8.77907, min    6.12113 mmHg\n",
      "PA.pres         : max   37.30416, min    20.2541 mmHg\n",
      "AA.pres         : max   64.30487, min   41.82452 mmHg\n",
      "AAR.pres        : max    63.3402, min   41.62226 mmHg\n",
      "AD.pres         : max   62.81778, min   41.63951 mmHg\n",
      "RLB.pres        : max   34.98338, min   30.33783 mmHg\n",
      "LS.pres         : max   33.88803, min   31.78884 mmHg\n",
      "KID.pres        : max   33.94282, min   31.71804 mmHg\n",
      "INT.pres        : max   34.55568, min   30.88402 mmHg\n",
      "RUB.pres        : max   18.81736, min   16.97397 mmHg\n",
      "BR.pres         : max   34.31499, min   28.40449 mmHg\n",
      "IVCI.pres       : max    4.15712, min    3.76634 mmHg\n",
      "IVCE.pres       : max    4.19037, min    3.93455 mmHg\n",
      "SVC.pres        : max    4.50466, min    3.54773 mmHg\n"
     ]
    }
   ],
   "source": [
    "neo.get_blood_pressures()"
   ]
  },
  {
   "cell_type": "code",
   "execution_count": null,
   "metadata": {},
   "outputs": [],
   "source": []
  }
 ],
 "metadata": {
  "kernelspec": {
   "display_name": "pypy",
   "language": "python",
   "name": "python3"
  },
  "language_info": {
   "codemirror_mode": {
    "name": "ipython",
    "version": 3
   },
   "file_extension": ".py",
   "mimetype": "text/x-python",
   "name": "python",
   "nbconvert_exporter": "python",
   "pygments_lexer": "ipython3",
   "version": "3.10.12"
  },
  "orig_nbformat": 4
 },
 "nbformat": 4,
 "nbformat_minor": 2
}
