{
 "cells": [
  {
   "cell_type": "code",
   "execution_count": 1,
   "metadata": {},
   "outputs": [
    {
     "name": "stdout",
     "output_type": "stream",
     "text": [
      "Ready in 5.5 sec. Average model step in 0.0228 ms.\n"
     ]
    }
   ],
   "source": [
    "#%matplotlib ipympl  # enable this for realtime graphs\n",
    "\n",
    "# first compile the c modules where the model depends on\n",
    "from explain_core.ModulesCompiler import compile_modules;\n",
    "\n",
    "# compile the c++ modules if necessary\n",
    "compile_modules()\n",
    "\n",
    "# import the model engine and the model interface\n",
    "from explain_core.ModelEngine import ModelEngine\n",
    "from explain_core.helpers.Interface import Interface\n",
    "\n",
    "# instantiate a model engine instance with the 'normal_neonate' model definition\n",
    "model = ModelEngine(\"normal_neonate.json\")\n",
    "\n",
    "# instantiate an interface object to interact with the model engine instance\n",
    "neo = Interface(model)\n",
    "\n",
    "# disable spontaneous breathing\n",
    "neo.model.models[\"Breathing\"].breathing_enabled = False\n",
    "\n",
    "# configure the ventilator\n",
    "neo.model.models[\"Ventilator\"].vent_mode = \"PRVC\"\n",
    "neo.model.models[\"Ventilator\"].pip_cmh2o_max = 20.0\n",
    "neo.model.models[\"Ventilator\"].peep_cmh2o = 3.0\n",
    "neo.model.models[\"Ventilator\"].tidal_volume = 0.015\n",
    "neo.model.models[\"Ventilator\"].vent_rate = 40.0\n",
    "neo.model.models[\"Ventilator\"].insp_flow = 8.0\n",
    "\n",
    "# turn on the ventilator\n",
    "neo.model.models[\"Ventilator\"].switch_ventilator(True)\n",
    "\n",
    "# stabilize by calculating 120 seconds\n",
    "neo.fastforward(120)"
   ]
  },
  {
   "cell_type": "code",
   "execution_count": 3,
   "metadata": {},
   "outputs": [
    {
     "name": "stdout",
     "output_type": "stream",
     "text": [
      "\n",
      "AA.pres         : max   65.88563, min   41.99229 mmHg\n",
      "PA.pres         : max   38.55533, min   20.07613 mmHg\n",
      "IVCI.pres       : max    3.98648, min    3.54993 mmHg\n"
     ]
    },
    {
     "data": {
      "text/plain": [
       "{'heartrate': 116.34684086134558,\n",
       " 'spo2_pre': 97.9827827930841,\n",
       " 'abp_systole': 65.88563,\n",
       " 'abp_diastole': 41.99229,\n",
       " 'pap_systole': 38.55533,\n",
       " 'pap_diastole': 20.07613,\n",
       " 'cvp': 3.695432115,\n",
       " 'resp_rate': 0.0,\n",
       " 'pH': 97.9827827930841,\n",
       " 'po2': 96.37833718919916,\n",
       " 'pco2': 36.88315467797393,\n",
       " 'hco3': 25.745538838636744,\n",
       " 'be': 1.744133697491656}"
      ]
     },
     "execution_count": 3,
     "metadata": {},
     "output_type": "execute_result"
    }
   ],
   "source": [
    "neo.get_vitals()"
   ]
  },
  {
   "cell_type": "code",
   "execution_count": null,
   "metadata": {},
   "outputs": [],
   "source": []
  }
 ],
 "metadata": {
  "kernelspec": {
   "display_name": "pypy",
   "language": "python",
   "name": "python3"
  },
  "language_info": {
   "codemirror_mode": {
    "name": "ipython",
    "version": 3
   },
   "file_extension": ".py",
   "mimetype": "text/x-python",
   "name": "python",
   "nbconvert_exporter": "python",
   "pygments_lexer": "ipython3",
   "version": "3.10.12"
  },
  "orig_nbformat": 4
 },
 "nbformat": 4,
 "nbformat_minor": 2
}
