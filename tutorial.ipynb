{
 "cells": [
  {
   "cell_type": "code",
   "execution_count": 1,
   "metadata": {},
   "outputs": [
    {
     "name": "stdout",
     "output_type": "stream",
     "text": [
      " Model 'normal neonate' loaded and initialized correctly.\n",
      " Ready in 4.1 sec. Average model step in 0.0344 ms.\n"
     ]
    }
   ],
   "source": [
    "#%matplotlib ipympl  # enable this for realtime graphs\n",
    "\n",
    "# first compile the c modules where the model depends on\n",
    "from explain_core.ModulesCompiler import compile_modules;\n",
    "\n",
    "# compile the c++ modules if necessary\n",
    "compile_modules()\n",
    "\n",
    "# import the model engine and the model interface\n",
    "from explain_core.ModelEngine import ModelEngine\n",
    "from explain_core.helpers.Interface import Interface\n",
    "\n",
    "# instantiate a model engine instance with the 'normal_neonate' model definition\n",
    "model = ModelEngine(\"normal_neonate.json\")\n",
    "\n",
    "# instantiate an interface object to interact with the model engine instance\n",
    "neo = Interface(model)\n",
    "\n",
    "# configure spontaneous breathing\n",
    "neo.model.models[\"Breathing\"].breathing_enabled = False\n",
    "\n",
    "# configure the ventilator\n",
    "neo.model.models[\"Ventilator\"].vent_mode = \"PRVC\"\n",
    "neo.model.models[\"Ventilator\"].pip_cmh2o_max = 20.0\n",
    "neo.model.models[\"Ventilator\"].peep_cmh2o = 3.0\n",
    "neo.model.models[\"Ventilator\"].tidal_volume = 0.015\n",
    "neo.model.models[\"Ventilator\"].vent_rate = 35.0\n",
    "neo.model.models[\"Ventilator\"].insp_flow = 8.0\n",
    "neo.model.models[\"Ventilator\"].synchronized = False\n",
    "neo.model.models[\"Ventilator\"].switch_ventilator(True)\n",
    "\n",
    "# configure ecls\n",
    "neo.model.models[\"Ecls\"].set_fio2(0.30)\n",
    "neo.model.models[\"Ecls\"].set_co2_flow(40.0)\n",
    "neo.model.models[\"Ecls\"].set_rpm(2500.0)\n",
    "neo.model.models[\"Ecls\"].switch_ecls(False)\n",
    "\n",
    "# open the shunts\n",
    "neo.model.models[\"DA\"].enable()\n",
    "neo.model.models[\"DA\"].set_length(10.0)\n",
    "neo.model.models[\"DA\"].set_diameter(3.0)\n",
    "\n",
    "neo.model.models[\"FO\"].enable()\n",
    "neo.model.models[\"FO\"].set_length(1.0)\n",
    "neo.model.models[\"FO\"].set_diameter(2.0)\n",
    "\n",
    "# increase the pulmonary vascular resistance\n",
    "neo.model.models[\"PA\"].el_base_factor = 10.0\n",
    "neo.model.models[\"PA_LL\"].r_for_factor = 1000.0\n",
    "neo.model.models[\"PA_RL\"].r_for_factor = 1000.0\n",
    "\n",
    "# configure placental circulation\n",
    "neo.model.models[\"Placenta\"].switch_placenta(True)\n",
    "\n",
    "neo.model.models[\"Metabolism\"].vo2 = 5.0\n",
    "# stabilize by calculating 60 seconds\n",
    "\n",
    "neo.fastforward(60)"
   ]
  },
  {
   "cell_type": "code",
   "execution_count": 2,
   "metadata": {},
   "outputs": [
    {
     "name": "stdout",
     "output_type": "stream",
     "text": [
      "\n",
      "DA.flow         : net   -0.74313, forward        0.0, backward   -0.74313 l/min\n",
      "FO.flow         : net   -0.59418, forward        0.0, backward   -0.59418 l/min\n",
      "LV_AA.flow      : net    0.60845, forward    0.60845, backward        0.0 l/min, stroke volume:    0.00422 l/heartbeat, \n",
      "RV_PA.flow      : net    0.74968, forward    0.74968, backward        0.0 l/min, stroke volume:    0.00521 l/heartbeat, \n",
      "PV_LA.flow      : net    0.00402, forward    0.08333, backward   -0.07931 l/min, stroke volume:      3e-05 l/heartbeat, \n"
     ]
    },
    {
     "data": {
      "text/plain": [
       "{'DA.flow.net': -0.74313,\n",
       " 'DA.flow.forward': 0.0,\n",
       " 'DA.flow.backward': -0.74313,\n",
       " 'FO.flow.net': -0.59418,\n",
       " 'FO.flow.forward': 0.0,\n",
       " 'FO.flow.backward': -0.59418,\n",
       " 'LV_AA.flow.sv': 0.00422,\n",
       " 'LV_AA.flow.net': 0.60845,\n",
       " 'LV_AA.flow.forward': 0.60845,\n",
       " 'LV_AA.flow.backward': 0.0,\n",
       " 'RV_PA.flow.sv': 0.00521,\n",
       " 'RV_PA.flow.net': 0.74968,\n",
       " 'RV_PA.flow.forward': 0.74968,\n",
       " 'RV_PA.flow.backward': 0.0,\n",
       " 'PV_LA.flow.sv': 3e-05,\n",
       " 'PV_LA.flow.net': 0.00402,\n",
       " 'PV_LA.flow.forward': 0.08333,\n",
       " 'PV_LA.flow.backward': -0.07931}"
      ]
     },
     "execution_count": 2,
     "metadata": {},
     "output_type": "execute_result"
    }
   ],
   "source": [
    "neo.analyze([\"DA.flow\",\"FO.flow\",\"LV_AA.flow\", \"RV_PA.flow\", \"PV_LA.flow\"], sampleinterval=0.0005)"
   ]
  },
  {
   "cell_type": "code",
   "execution_count": null,
   "metadata": {},
   "outputs": [],
   "source": [
    "neo.fastforward(120)"
   ]
  },
  {
   "cell_type": "code",
   "execution_count": 3,
   "metadata": {},
   "outputs": [
    {
     "name": "stdout",
     "output_type": "stream",
     "text": [
      "\n",
      "LA.pres         : max    6.13502, min   -0.55567 mmHg\n",
      "RA.pres         : max    8.14836, min   -0.12073 mmHg\n",
      "LV.pres         : max   59.93928, min   -0.85649 mmHg\n",
      "RV.pres         : max   65.25486, min   -0.71046 mmHg\n",
      "COR.pres        : max   16.18762, min    7.49301 mmHg\n",
      "LL.pres         : max    2.96158, min    1.59112 mmHg\n",
      "RL.pres         : max    2.96158, min    1.59112 mmHg\n",
      "PV.pres         : max    4.09942, min    0.99824 mmHg\n",
      "PA.pres         : max   64.70008, min   31.17494 mmHg\n",
      "AA.pres         : max   59.66919, min   30.83073 mmHg\n",
      "AAR.pres        : max   58.94602, min   30.73329 mmHg\n",
      "AD.pres         : max   57.56442, min   30.41461 mmHg\n",
      "RLB.pres        : max   31.01564, min   25.59536 mmHg\n",
      "LS.pres         : max   29.66633, min   27.17337 mmHg\n",
      "KID.pres        : max   29.73477, min   27.09851 mmHg\n",
      "INT.pres        : max   30.49502, min   26.21001 mmHg\n",
      "RUB.pres        : max   16.55204, min   14.22352 mmHg\n",
      "BR.pres         : max   30.36814, min   23.27816 mmHg\n",
      "IVCI.pres       : max    5.65657, min    4.99954 mmHg\n",
      "IVCE.pres       : max    5.70322, min    5.26792 mmHg\n",
      "SVC.pres        : max    4.21271, min    3.00359 mmHg\n"
     ]
    }
   ],
   "source": [
    "neo.get_blood_pressures()"
   ]
  },
  {
   "cell_type": "code",
   "execution_count": null,
   "metadata": {},
   "outputs": [],
   "source": [
    "neo.plot_time_graph([\"Placenta.fetal_ua_flow_measured\"])"
   ]
  },
  {
   "cell_type": "code",
   "execution_count": null,
   "metadata": {},
   "outputs": [],
   "source": [
    "neo.get_bloodgas(\"AA\")"
   ]
  },
  {
   "cell_type": "code",
   "execution_count": null,
   "metadata": {},
   "outputs": [],
   "source": []
  }
 ],
 "metadata": {
  "kernelspec": {
   "display_name": "pypy",
   "language": "python",
   "name": "python3"
  },
  "language_info": {
   "codemirror_mode": {
    "name": "ipython",
    "version": 3
   },
   "file_extension": ".py",
   "mimetype": "text/x-python",
   "name": "python",
   "nbconvert_exporter": "python",
   "pygments_lexer": "ipython3",
   "version": "3.10.12"
  },
  "orig_nbformat": 4
 },
 "nbformat": 4,
 "nbformat_minor": 2
}
