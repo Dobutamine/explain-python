{
 "cells": [
  {
   "cell_type": "code",
   "execution_count": 1,
   "metadata": {},
   "outputs": [
    {
     "name": "stdout",
     "output_type": "stream",
     "text": [
      " Model 'normal neonate' loaded and initialized correctly.\n",
      " Ready in 3.8 sec. Average model step in 0.0319 ms.\n"
     ]
    }
   ],
   "source": [
    "# uncomment the line below to enable realtime graphs\n",
    "# %matplotlib ipympl\n",
    "\n",
    "# import the model engine and the model interface\n",
    "from explain_core.ModelEngine import ModelEngine\n",
    "\n",
    "# instantiate a model engine instance with the 'normal_neonate' model definition\n",
    "model = ModelEngine(\"normal_neonate.json\")\n",
    "\n",
    "# get a reference to all the submodels\n",
    "models = model.models\n",
    "\n",
    "# instantiate a custom interface object especially designed to interact with the neonatal model engine instance\n",
    "from custom_interfaces.NeoInterface import NeoInterface\n",
    "\n",
    "neo = NeoInterface(model)\n",
    "\n",
    "# enable or disable the physiological submodels which can be enabled or disabled.\n",
    "neo.ans(True)\n",
    "neo.breathing(True)\n",
    "neo.metabolism(True)\n",
    "neo.mob(True)\n",
    "\n",
    "# enable or disable the extra-corporeal models\n",
    "neo.placenta(False)\n",
    "neo.ventilator(False)\n",
    "neo.ecls(False)\n",
    "neo.artificial_whomb(False)\n",
    "neo.resuscitation(False)\n",
    "\n",
    "# stabilize the model by calculating 60 seconds\n",
    "neo.calculate(60)"
   ]
  },
  {
   "cell_type": "code",
   "execution_count": null,
   "metadata": {},
   "outputs": [],
   "source": []
  }
 ],
 "metadata": {
  "kernelspec": {
   "display_name": "Python 3",
   "language": "python",
   "name": "python3"
  },
  "language_info": {
   "codemirror_mode": {
    "name": "ipython",
    "version": 3
   },
   "file_extension": ".py",
   "mimetype": "text/x-python",
   "name": "python",
   "nbconvert_exporter": "python",
   "pygments_lexer": "ipython3",
   "version": "3.10.12"
  }
 },
 "nbformat": 4,
 "nbformat_minor": 2
}
