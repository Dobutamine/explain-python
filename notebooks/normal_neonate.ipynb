{
 "cells": [
  {
   "cell_type": "code",
   "execution_count": 1,
   "metadata": {},
   "outputs": [
    {
     "name": "stderr",
     "output_type": "stream",
     "text": [
      "/opt/homebrew/Cellar/pypy3.10/7.3.15/libexec/lib/pypy3.10/site-packages/setuptools-59.8.0-py3.10.egg/setuptools/dist.py:723: UserWarning: Usage of dash-separated 'install-scripts' will not be supported in future versions. Please use the underscore name 'install_scripts' instead\n",
      "  warnings.warn(\n"
     ]
    },
    {
     "name": "stdout",
     "output_type": "stream",
     "text": [
      " Model 'baseline neonate' loaded and initialized correctly.\n"
     ]
    }
   ],
   "source": [
    "# as this notebook is run from a subfolder, we need to change the working directory to the root folder\n",
    "import os\n",
    "\n",
    "if os.getcwd().split(\"/\")[-1] != \"explain-python\":\n",
    "    os.chdir(\"..\")\n",
    "\n",
    "# import the model engine\n",
    "from explain_core.ModelEngine import ModelEngine\n",
    "\n",
    "# instantiate a modelengine instance\n",
    "model = ModelEngine()\n",
    "\n",
    "# inject a model definition into the modelengine instance\n",
    "model.load_model_definition(\"definitions/baseline_neonate.json\")\n",
    "\n",
    "# import the general mode interface and instantiate it with the current model object\n",
    "from explain_core.interfaces.BaseInterface import BaseInterface\n",
    "\n",
    "# instantiate a custom interface object especially designed to interact with the neonatal model engine instance\n",
    "io = BaseInterface(model)"
   ]
  },
  {
   "cell_type": "code",
   "execution_count": 6,
   "metadata": {},
   "outputs": [
    {
     "data": {
      "image/png": "[encoded data removed]",
      "text/plain": [
       "<Figure size 1400x200 with 1 Axes>"
      ]
     },
     "metadata": {},
     "output_type": "display_data"
    },
    {
     "name": "stdout",
     "output_type": "stream",
     "text": [
      "COR.aboxy.po2   : max   25.11443 min   24.47695\n",
      "COR.aboxy.so2   : max   47.62599 min   45.79231\n"
     ]
    }
   ],
   "source": [
    "pressures = io.plot_time_graph(\n",
    "    [\"COR.aboxy.po2\", \"COR.aboxy.so2\"],\n",
    "    autoscale=True,\n",
    "    fill=False,\n",
    "    combined=True,\n",
    "    sharey=True,\n",
    "    time_to_calculate=10,\n",
    ")"
   ]
  },
  {
   "cell_type": "code",
   "execution_count": null,
   "metadata": {},
   "outputs": [],
   "source": [
    "model.models[\"LL\"].aboxy"
   ]
  },
  {
   "cell_type": "code",
   "execution_count": 4,
   "metadata": {},
   "outputs": [
    {
     "name": "stdout",
     "output_type": "stream",
     "text": [
      " Ready in 10.2 sec. Average model step in 0.0426 ms.\n"
     ]
    }
   ],
   "source": [
    "io.calculate(120)"
   ]
  },
  {
   "cell_type": "code",
   "execution_count": null,
   "metadata": {},
   "outputs": [],
   "source": []
  }
 ],
 "metadata": {
  "kernelspec": {
   "display_name": "Python 3",
   "language": "python",
   "name": "python3"
  },
  "language_info": {
   "codemirror_mode": {
    "name": "ipython",
    "version": 3
   },
   "file_extension": ".py",
   "mimetype": "text/x-python",
   "name": "python",
   "nbconvert_exporter": "python",
   "pygments_lexer": "ipython3",
   "version": "3.10.13"
  }
 },
 "nbformat": 4,
 "nbformat_minor": 2
}
