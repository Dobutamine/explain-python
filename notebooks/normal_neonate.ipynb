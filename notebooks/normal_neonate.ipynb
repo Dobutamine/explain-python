{
 "cells": [
  {
   "cell_type": "code",
   "execution_count": 1,
   "metadata": {},
   "outputs": [
    {
     "name": "stdout",
     "output_type": "stream",
     "text": [
      " Model 'normal neonate' loaded and initialized correctly.\n",
      " Ready in 3.7 sec. Average model step in 0.0305 ms.\n"
     ]
    }
   ],
   "source": [
    "# uncomment the line below to enable realtime graphs\n",
    "# %matplotlib ipympl\n",
    "\n",
    "# as this notebook is run from a subfolder, we need to change the working directory to the root folder\n",
    "import os\n",
    "\n",
    "if os.getcwd().split(\"/\")[-1] != \"explain-python\":\n",
    "    os.chdir(\"..\")\n",
    "\n",
    "# import the model engine and the model interface\n",
    "from explain_core.ModelEngine import ModelEngine\n",
    "\n",
    "# instantiate a model engine instance with the 'normal_neonate' model definition\n",
    "model = ModelEngine(\"definitions/normal_neonate.json\")\n",
    "\n",
    "# report the gas pressures in kPa\n",
    "model.set_pressure_unit(\"kpa\")\n",
    "\n",
    "# get a reference to all the submodels\n",
    "models = model.models\n",
    "\n",
    "# instantiate a custom interface object especially designed to interact with the neonatal model engine instance\n",
    "from interfaces.NeoInterface import NeoInterface\n",
    "\n",
    "neo = NeoInterface(model)\n",
    "\n",
    "# enable or disable the physiological submodels which can be enabled or disabled.\n",
    "neo.ans(True)\n",
    "neo.breathing(True)\n",
    "neo.metabolism(True)\n",
    "neo.mob(True)\n",
    "neo.pda(False)\n",
    "\n",
    "# enable or disable the extra-corporeal models\n",
    "neo.placenta(False)\n",
    "neo.ventilator(False)\n",
    "neo.ecls(False)\n",
    "neo.resuscitation(False)\n",
    "\n",
    "# stabilize the model by calculating 60 seconds\n",
    "neo.calculate(60)"
   ]
  },
  {
   "cell_type": "code",
   "execution_count": 2,
   "metadata": {},
   "outputs": [],
   "source": [
    "neo.save_model_state_json(\"baseline_neonate.json\")"
   ]
  },
  {
   "cell_type": "code",
   "execution_count": 38,
   "metadata": {},
   "outputs": [
    {
     "data": {
      "text/plain": [
       "{'heartrate': 141.49929841960957,\n",
       " 'spo2_pre': 95.6774966403038,\n",
       " 'spo2_post': 95.33888091930585,\n",
       " 'abp_systole': 68.82594,\n",
       " 'abp_diastole': 45.46256,\n",
       " 'pap_systole': 45.29481,\n",
       " 'pap_diastole': 24.41632,\n",
       " 'cvp': 6.720241851,\n",
       " 'resp_rate': 39.06653523974027,\n",
       " 'pH': 7.394193199885937,\n",
       " 'po2': 9.831721907795268,\n",
       " 'pco2': 5.735904046476122,\n",
       " 'hco3': 25.982366480901625,\n",
       " 'be': 0.5963401423064429}"
      ]
     },
     "execution_count": 38,
     "metadata": {},
     "output_type": "execute_result"
    }
   ],
   "source": [
    "neo.get_vitals()"
   ]
  },
  {
   "cell_type": "code",
   "execution_count": 39,
   "metadata": {},
   "outputs": [
    {
     "name": "stdout",
     "output_type": "stream",
     "text": [
      "Total blood volume: 76.964389006117 ml/kg = 100.0%\n",
      "Systemic blood volume: 68.26923155394527 ml/kg = 88.70236278822318%\n",
      "Pulmonary total blood volume: 8.695157452171735 ml/kg = 11.29763721177681%\n",
      "Pulmonary capillary blood volume: 3.788281396620866 ml/kg = 43.56771475914666% of total pulmonary blood volume\n",
      "Heart blood volume: 5.047839096882808 ml/kg = 6.558668446626159%\n",
      "Capillary blood volume: 4.248086018974247 ml/kg = 5.519547512599127%\n",
      "Venous blood volume: 48.405625409876116 ml/kg = 62.893535614281184%\n",
      "Arterial blood volume: 10.567681028212117 ml/kg = 13.730611214716737%\n",
      "Upper body blood volume: 21.384344152514036 ml/kg = 27.784725414781686%\n",
      "Lower body blood volume: 41.83704830454845 ml/kg = 54.35896892681538%\n"
     ]
    },
    {
     "data": {
      "text/plain": [
       "0.2539824837201861"
      ]
     },
     "execution_count": 39,
     "metadata": {},
     "output_type": "execute_result"
    }
   ],
   "source": [
    "neo.get_total_blood_volume()"
   ]
  },
  {
   "cell_type": "code",
   "execution_count": null,
   "metadata": {},
   "outputs": [],
   "source": []
  }
 ],
 "metadata": {
  "kernelspec": {
   "display_name": "Python 3",
   "language": "python",
   "name": "python3"
  },
  "language_info": {
   "codemirror_mode": {
    "name": "ipython",
    "version": 3
   },
   "file_extension": ".py",
   "mimetype": "text/x-python",
   "name": "python",
   "nbconvert_exporter": "python",
   "pygments_lexer": "ipython3",
   "version": "3.10.12"
  }
 },
 "nbformat": 4,
 "nbformat_minor": 2
}
