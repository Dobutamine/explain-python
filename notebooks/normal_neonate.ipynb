{
 "cells": [
  {
   "cell_type": "code",
   "execution_count": 1,
   "metadata": {},
   "outputs": [
    {
     "name": "stdout",
     "output_type": "stream",
     "text": [
      " Model 'normal neonate' loaded and initialized correctly.\n",
      " Ready in 3.9 sec. Average model step in 0.0323 ms.\n"
     ]
    }
   ],
   "source": [
    "# uncomment the line below to enable realtime graphs\n",
    "# %matplotlib ipympl\n",
    "\n",
    "# as this notebook is run from a subfolder, we need to change the working directory to the root folder\n",
    "import os\n",
    "\n",
    "if os.getcwd().split(\"/\")[-1] != \"explain-python\":\n",
    "    os.chdir(\"..\")\n",
    "\n",
    "# import the model engine and the model interface\n",
    "from explain_core.ModelEngine import ModelEngine\n",
    "\n",
    "# instantiate a model engine instance with the 'normal_neonate' model definition\n",
    "model = ModelEngine(\"definitions/normal_neonate.json\")\n",
    "\n",
    "# report the gas pressures in kPa\n",
    "# model.set_pressure_unit(\"kpa\")\n",
    "\n",
    "# get a reference to all the submodels\n",
    "models = model.models\n",
    "\n",
    "# instantiate a custom interface object especially designed to interact with the neonatal model engine instance\n",
    "from interfaces.NeoInterface import NeoInterface\n",
    "\n",
    "neo = NeoInterface(model)\n",
    "\n",
    "# enable or disable the physiological submodels which can be enabled or disabled.\n",
    "neo.ans(True)\n",
    "neo.breathing(True)\n",
    "neo.metabolism(True)\n",
    "neo.mob(True)\n",
    "neo.pda(False)\n",
    "\n",
    "# enable or disable the extra-corporeal models\n",
    "neo.placenta(False)\n",
    "neo.ventilator(False)\n",
    "neo.ecls(False)\n",
    "neo.resuscitation(False)\n",
    "\n",
    "# stabilize the model by calculating 60 seco|nds\n",
    "neo.calculate(60)"
   ]
  },
  {
   "cell_type": "code",
   "execution_count": 5,
   "metadata": {},
   "outputs": [
    {
     "data": {
      "text/plain": [
       "{'ph': 7.2100800410768935,\n",
       " 'po2': 5.22978136857299,\n",
       " 'pco2': 8.995299321916951,\n",
       " 'hco3': 26.66731476049555,\n",
       " 'be': -2.7659104725963926,\n",
       " 'so2': 66.53123021692643}"
      ]
     },
     "execution_count": 5,
     "metadata": {},
     "output_type": "execute_result"
    }
   ],
   "source": [
    "neo.get_bloodgas(\"SVC\")"
   ]
  },
  {
   "cell_type": "code",
   "execution_count": 6,
   "metadata": {},
   "outputs": [
    {
     "name": "stdout",
     "output_type": "stream",
     "text": [
      "Total blood volume: 76.96438900611585 ml/kg = 100.0%\n",
      "Systemic blood volume: 68.93548946867197 ml/kg = 89.56803316296596%\n",
      "Pulmonary total blood volume: 8.028899537443877 ml/kg = 10.43196683703404%\n",
      "Pulmonary capillary blood volume: 3.5465808843364877 ml/kg = 44.172689766468245% of total pulmonary blood volume\n",
      "Heart blood volume: 6.13410745898575 ml/kg = 7.97005931989964%\n",
      "Capillary blood volume: 4.151905231454787 ml/kg = 5.394579603724084%\n",
      "Venous blood volume: 48.573861126747275 ml/kg = 63.112124651424736%\n",
      "Arterial blood volume: 10.07561565148417 ml/kg = 13.091269587917509%\n",
      "Upper body blood volume: 21.102526609120037 ml/kg = 27.418559260495346%\n",
      "Lower body blood volume: 41.69885540056619 ml/kg = 54.179414582570985%\n"
     ]
    },
    {
     "data": {
      "text/plain": [
       "0.2539824837201823"
      ]
     },
     "execution_count": 6,
     "metadata": {},
     "output_type": "execute_result"
    }
   ],
   "source": [
    "neo.get_total_blood_volume()"
   ]
  },
  {
   "cell_type": "code",
   "execution_count": 2,
   "metadata": {},
   "outputs": [
    {
     "name": "stdout",
     "output_type": "stream",
     "text": [
      " Ready in 7.0 sec. Average model step in 0.0291 ms.\n"
     ]
    },
    {
     "data": {
      "text/plain": [
       "{'heartrate': 141.5513159529447,\n",
       " 'spo2_pre': 96.32790675273577,\n",
       " 'spo2_post': 95.8327571775884,\n",
       " 'abp_systole': 68.74056,\n",
       " 'abp_diastole': 45.27695,\n",
       " 'pap_systole': 45.79982,\n",
       " 'pap_diastole': 24.60051,\n",
       " 'cvp': 6.76048042,\n",
       " 'resp_rate': 41.57456347392155,\n",
       " 'pH': 7.397623836616917,\n",
       " 'po2': 10.224056184215057,\n",
       " 'pco2': 5.6879553250963,\n",
       " 'hco3': 25.969503103973796,\n",
       " 'be': 0.6589079555750682}"
      ]
     },
     "execution_count": 2,
     "metadata": {},
     "output_type": "execute_result"
    }
   ],
   "source": [
    "neo.calculate(120)\n",
    "neo.get_vitals()"
   ]
  },
  {
   "cell_type": "code",
   "execution_count": null,
   "metadata": {},
   "outputs": [],
   "source": [
    "neo.plot_time_graph([\"ALL.pres\"], fill=False)"
   ]
  },
  {
   "cell_type": "code",
   "execution_count": 7,
   "metadata": {},
   "outputs": [
    {
     "name": "stdout",
     "output_type": "stream",
     "text": [
      "AA.pres         : max   70.63956, min    45.3524 mmHg\n",
      "PA.pres         : max   41.18213, min   17.81572 mmHg\n",
      "LA_LV.flow      : net  242.25075, forward  242.25075, backward        0.0 ml/kg/min, stroke volume:    1.70598 ml/kg, \n",
      "RA_RV.flow      : net  238.26802, forward  238.26802, backward        0.0 ml/kg/min, stroke volume:    1.67793 ml/kg, \n",
      "RV_PA.flow      : net  239.76937, forward  239.76937, backward        0.0 ml/kg/min, stroke volume:     1.6885 ml/kg, \n",
      "LV_AA.flow      : net  243.95606, forward  243.95606, backward        0.0 ml/kg/min, stroke volume:    1.71799 ml/kg, \n",
      "IVCI_RA.flow    : net  134.02329, forward   140.7064, backward   -6.68311 ml/kg/min, stroke volume:    0.94382 ml/kg, \n",
      "SVC_RA.flow     : net  104.01257, forward  110.77527, backward    -6.7627 ml/kg/min, stroke volume:    0.73248 ml/kg, \n",
      "Pda.flow        : net        0.0, forward          0, backward          0 ml/kg/min, stroke volume:        0.0 ml/kg, \n",
      "FO.flow         : net   -1.58361, forward    1.73328, backward   -3.31689 ml/kg/min, stroke volume:   -0.01115 ml/kg, \n",
      "VSD.flow        : net        0.0, forward          0, backward          0 ml/kg/min, stroke volume:        0.0 ml/kg, \n",
      "IPS.flow        : net   15.48933, forward   15.48933, backward        0.0 ml/kg/min, stroke volume:    0.10908 ml/kg, \n",
      "LA.pres_in      : max   10.73855, min    3.19448 mmHg\n",
      "RA.pres_in      : max    10.6177, min    2.76403 mmHg\n",
      "LV.pres_in      : max   76.32434, min    2.49535 mmHg\n",
      "RV.pres_in      : max   46.12819, min    1.50603 mmHg\n",
      "IVCI.pres       : max    2.70905, min    1.39273 mmHg\n",
      "LA.vol          : max    1.84909, min    0.62597 ml/kg\n",
      "RA.vol          : max    2.01866, min    0.46916 ml/kg\n",
      "LV.vol          : max    2.53961, min    0.78421 ml/kg\n",
      "RV.vol          : max    2.42349, min    0.42552 ml/kg\n",
      "Heart.heart_rate: max  141.78359 min   141.3983\n"
     ]
    }
   ],
   "source": [
    "neo.analyze_heart()"
   ]
  },
  {
   "cell_type": "code",
   "execution_count": null,
   "metadata": {},
   "outputs": [],
   "source": []
  }
 ],
 "metadata": {
  "kernelspec": {
   "display_name": "Python 3",
   "language": "python",
   "name": "python3"
  },
  "language_info": {
   "codemirror_mode": {
    "name": "ipython",
    "version": 3
   },
   "file_extension": ".py",
   "mimetype": "text/x-python",
   "name": "python",
   "nbconvert_exporter": "python",
   "pygments_lexer": "ipython3",
   "version": "3.10.12"
  }
 },
 "nbformat": 4,
 "nbformat_minor": 2
}
