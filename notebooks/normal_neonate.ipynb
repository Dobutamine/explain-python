{
 "cells": [
  {
   "cell_type": "code",
   "execution_count": 1,
   "metadata": {},
   "outputs": [
    {
     "name": "stderr",
     "output_type": "stream",
     "text": [
      "/opt/homebrew/Cellar/pypy3.10/7.3.15/libexec/lib/pypy3.10/site-packages/setuptools-59.8.0-py3.10.egg/setuptools/dist.py:723: UserWarning: Usage of dash-separated 'install-scripts' will not be supported in future versions. Please use the underscore name 'install_scripts' instead\n",
      "  warnings.warn(\n"
     ]
    },
    {
     "name": "stdout",
     "output_type": "stream",
     "text": [
      " Model 'baseline neonate' loaded and initialized correctly.\n"
     ]
    }
   ],
   "source": [
    "# as this notebook is run from a subfolder, we need to change the working directory to the root folder\n",
    "import os\n",
    "\n",
    "if os.getcwd().split(\"/\")[-1] != \"explain-python\":\n",
    "    os.chdir(\"..\")\n",
    "\n",
    "# import the model engine\n",
    "from explain_core.ModelEngine import ModelEngine\n",
    "\n",
    "# instantiate a modelengine instance\n",
    "model = ModelEngine()\n",
    "\n",
    "# inject a model definition into the modelengine instance\n",
    "model.load_model_definition(\"definitions/baseline_neonate.json\")\n",
    "\n",
    "# import the general mode interface and instantiate it with the current model object\n",
    "from explain_core.interfaces.BaseInterface import BaseInterface\n",
    "\n",
    "# instantiate a custom interface object especially designed to interact with the neonatal model engine instance\n",
    "io = BaseInterface(model)"
   ]
  },
  {
   "cell_type": "code",
   "execution_count": 2,
   "metadata": {},
   "outputs": [
    {
     "data": {
      "image/png": "[encoded data removed]",
      "text/plain": [
       "<Figure size 1400x200 with 1 Axes>"
      ]
     },
     "metadata": {},
     "output_type": "display_data"
    },
    {
     "name": "stdout",
     "output_type": "stream",
     "text": [
      "Ecls.blood_flow : max    0.35215 min        0.0\n"
     ]
    }
   ],
   "source": [
    "model.models[\"Ecls\"].switch_ecls(True)\n",
    "model.models[\"Ecls\"].pump_rpm = 2000\n",
    "model.models[\"Ventilator\"].switch_ventilator(True)\n",
    "model.models[\"Ventilator\"].set_ventilator_pc()\n",
    "pressures = io.plot_time_graph(\n",
    "    [\"Ecls.blood_flow\"],\n",
    "    autoscale=True,\n",
    "    fill=False,\n",
    "    combined=False,\n",
    "    sharey=False,\n",
    "    time_to_calculate=30,\n",
    ")"
   ]
  },
  {
   "cell_type": "code",
   "execution_count": 4,
   "metadata": {},
   "outputs": [
    {
     "name": "stdout",
     "output_type": "stream",
     "text": [
      " Ready in 4.4 sec. Average model step in 0.0728 ms.\n"
     ]
    }
   ],
   "source": [
    "io.calculate(30)"
   ]
  },
  {
   "cell_type": "code",
   "execution_count": 10,
   "metadata": {},
   "outputs": [
    {
     "name": "stdout",
     "output_type": "stream",
     "text": [
      " Ready in 3.3 sec. Average model step in 0.0555 ms.\n"
     ]
    }
   ],
   "source": [
    "model.models[\"Ecls\"].switch_ecls(False)\n",
    "model.models[\"Ventilator\"].switch_ventilator(False)\n",
    "io.calculate(30)"
   ]
  },
  {
   "cell_type": "code",
   "execution_count": 2,
   "metadata": {},
   "outputs": [
    {
     "data": {
      "text/plain": [
       "{'LA': <explain_core.core_models.BloodTimeVaryingElastance.BloodTimeVaryingElastance at 0x122db8640>,\n",
       " 'RA': <explain_core.core_models.BloodTimeVaryingElastance.BloodTimeVaryingElastance at 0x122db8678>,\n",
       " 'LV': <explain_core.core_models.BloodTimeVaryingElastance.BloodTimeVaryingElastance at 0x122db86b0>,\n",
       " 'RV': <explain_core.core_models.BloodTimeVaryingElastance.BloodTimeVaryingElastance at 0x122db86e8>,\n",
       " 'COR': <explain_core.core_models.BloodTimeVaryingElastance.BloodTimeVaryingElastance at 0x122db8720>,\n",
       " 'LL': <explain_core.core_models.BloodCapacitance.BloodCapacitance at 0x122db8758>,\n",
       " 'RL': <explain_core.core_models.BloodCapacitance.BloodCapacitance at 0x122db8790>,\n",
       " 'PV': <explain_core.core_models.BloodCapacitance.BloodCapacitance at 0x122db87c8>,\n",
       " 'PA': <explain_core.core_models.BloodCapacitance.BloodCapacitance at 0x122db8800>,\n",
       " 'AA': <explain_core.core_models.BloodCapacitance.BloodCapacitance at 0x122db8838>,\n",
       " 'AAR': <explain_core.core_models.BloodCapacitance.BloodCapacitance at 0x122db8870>,\n",
       " 'AD': <explain_core.core_models.BloodCapacitance.BloodCapacitance at 0x122db88a8>,\n",
       " 'RLB': <explain_core.core_models.BloodCapacitance.BloodCapacitance at 0x122db88e0>,\n",
       " 'LS': <explain_core.core_models.BloodCapacitance.BloodCapacitance at 0x122db8918>,\n",
       " 'KID': <explain_core.core_models.BloodCapacitance.BloodCapacitance at 0x122db8950>,\n",
       " 'INT': <explain_core.core_models.BloodCapacitance.BloodCapacitance at 0x122db8988>,\n",
       " 'RUB': <explain_core.core_models.BloodCapacitance.BloodCapacitance at 0x122db89c0>,\n",
       " 'BR': <explain_core.core_models.BloodCapacitance.BloodCapacitance at 0x122db89f8>,\n",
       " 'IVCI': <explain_core.core_models.BloodCapacitance.BloodCapacitance at 0x122db8a30>,\n",
       " 'VLB': <explain_core.core_models.BloodCapacitance.BloodCapacitance at 0x122db8a68>,\n",
       " 'SVC': <explain_core.core_models.BloodCapacitance.BloodCapacitance at 0x122db8aa0>,\n",
       " 'VUB': <explain_core.core_models.BloodCapacitance.BloodCapacitance at 0x122db8ad8>,\n",
       " 'DA': <explain_core.core_models.BloodCapacitance.BloodCapacitance at 0x122db8b10>,\n",
       " 'ECLS_TUBIN': <explain_core.core_models.BloodCapacitance.BloodCapacitance at 0x122db8b48>,\n",
       " 'ECLS_PUMP': <explain_core.core_models.BloodPump.BloodPump at 0x122db8b80>,\n",
       " 'ECLS_BRIDGE': <explain_core.core_models.BloodCapacitance.BloodCapacitance at 0x122db8bb8>,\n",
       " 'ECLS_OXY': <explain_core.core_models.BloodCapacitance.BloodCapacitance at 0x122db8bf0>,\n",
       " 'ECLS_TUBOUT': <explain_core.core_models.BloodCapacitance.BloodCapacitance at 0x122db8c28>,\n",
       " 'PLF': <explain_core.core_models.BloodCapacitance.BloodCapacitance at 0x122db8c60>,\n",
       " 'PLM': <explain_core.core_models.BloodCapacitance.BloodCapacitance at 0x122db8c98>,\n",
       " 'LA_LV': <explain_core.core_models.BloodValve.BloodValve at 0x122db8cd0>,\n",
       " 'LV_AA': <explain_core.core_models.BloodValve.BloodValve at 0x122db8d08>,\n",
       " 'LV_PA': <explain_core.core_models.BloodValve.BloodValve at 0x122db8d40>,\n",
       " 'RA_RV': <explain_core.core_models.BloodValve.BloodValve at 0x122db8d78>,\n",
       " 'RV_PA': <explain_core.core_models.BloodValve.BloodValve at 0x122db8db0>,\n",
       " 'RV_AA': <explain_core.core_models.BloodValve.BloodValve at 0x122db8de8>,\n",
       " 'AA_AAR': <explain_core.core_models.BloodResistor.BloodResistor at 0x122db8e20>,\n",
       " 'AA_COR': <explain_core.core_models.BloodResistor.BloodResistor at 0x122db8e58>,\n",
       " 'COR_RA': <explain_core.core_models.BloodResistor.BloodResistor at 0x122db8e90>,\n",
       " 'AAR_AD': <explain_core.core_models.BloodResistor.BloodResistor at 0x122db8ec8>,\n",
       " 'AD_RLB': <explain_core.core_models.BloodResistor.BloodResistor at 0x122db8f00>,\n",
       " 'AD_LS': <explain_core.core_models.BloodResistor.BloodResistor at 0x122db8f38>,\n",
       " 'AD_KID': <explain_core.core_models.BloodResistor.BloodResistor at 0x122db8f70>,\n",
       " 'AD_INT': <explain_core.core_models.BloodResistor.BloodResistor at 0x122db8fa8>,\n",
       " 'AA_RUB': <explain_core.core_models.BloodResistor.BloodResistor at 0x122db8fe0>,\n",
       " 'AA_BR': <explain_core.core_models.BloodResistor.BloodResistor at 0x122db9018>,\n",
       " 'RUB_VUB': <explain_core.core_models.BloodResistor.BloodResistor at 0x122db9050>,\n",
       " 'BR_VUB': <explain_core.core_models.BloodResistor.BloodResistor at 0x122db9088>,\n",
       " 'RLB_VLB': <explain_core.core_models.BloodResistor.BloodResistor at 0x122db90c0>,\n",
       " 'LS_VLB': <explain_core.core_models.BloodResistor.BloodResistor at 0x122db90f8>,\n",
       " 'KID_VLB': <explain_core.core_models.BloodResistor.BloodResistor at 0x122db9130>,\n",
       " 'INT_VLB': <explain_core.core_models.BloodResistor.BloodResistor at 0x122db9168>,\n",
       " 'VLB_IVCI': <explain_core.core_models.BloodResistor.BloodResistor at 0x122db91a0>,\n",
       " 'IVCI_RA': <explain_core.core_models.BloodResistor.BloodResistor at 0x122db91d8>,\n",
       " 'VUB_SVC': <explain_core.core_models.BloodResistor.BloodResistor at 0x122db9210>,\n",
       " 'SVC_RA': <explain_core.core_models.BloodResistor.BloodResistor at 0x122db9248>,\n",
       " 'PA_LL': <explain_core.core_models.BloodResistor.BloodResistor at 0x122db9280>,\n",
       " 'PA_RL': <explain_core.core_models.BloodResistor.BloodResistor at 0x122db92b8>,\n",
       " 'LL_PV': <explain_core.core_models.BloodResistor.BloodResistor at 0x122db92f0>,\n",
       " 'RL_PV': <explain_core.core_models.BloodResistor.BloodResistor at 0x122db9328>,\n",
       " 'PV_LA': <explain_core.core_models.BloodResistor.BloodResistor at 0x122db9360>,\n",
       " 'DA_IN': <explain_core.core_models.BloodResistor.BloodResistor at 0x122db9398>,\n",
       " 'DA_OUT': <explain_core.core_models.BloodResistor.BloodResistor at 0x122db93d0>,\n",
       " 'FO': <explain_core.core_models.BloodResistor.BloodResistor at 0x122db9408>,\n",
       " 'VSD': <explain_core.core_models.BloodResistor.BloodResistor at 0x122e2ec60>,\n",
       " 'TRUNCUS_ART': <explain_core.core_models.BloodResistor.BloodResistor at 0x122e2ec98>,\n",
       " 'IPS': <explain_core.core_models.BloodResistor.BloodResistor at 0x122e2ecd0>,\n",
       " 'UMB_ART': <explain_core.core_models.BloodResistor.BloodResistor at 0x122e2ed08>,\n",
       " 'UMB_VEN': <explain_core.core_models.BloodResistor.BloodResistor at 0x122e2ed40>,\n",
       " 'ECLS_DR': <explain_core.core_models.BloodResistor.BloodResistor at 0x122e2ed78>,\n",
       " 'ECLS_TUBIN_PUMP': <explain_core.core_models.BloodResistor.BloodResistor at 0x122e2edb0>,\n",
       " 'ECLS_PUMP_BRIDGE': <explain_core.core_models.BloodResistor.BloodResistor at 0x122e2ede8>,\n",
       " 'ECLS_BRIDGE_OXY': <explain_core.core_models.BloodResistor.BloodResistor at 0x122e2ee20>,\n",
       " 'ECLS_OXY_TUBOUT': <explain_core.core_models.BloodResistor.BloodResistor at 0x122e2ee58>,\n",
       " 'ECLS_RE': <explain_core.core_models.BloodResistor.BloodResistor at 0x122e2ee90>,\n",
       " 'PC': <explain_core.core_models.Container.Container at 0x122e2eec8>,\n",
       " 'OUT': <explain_core.core_models.GasCapacitance.GasCapacitance at 0x122e2ef00>,\n",
       " 'MOUTH': <explain_core.core_models.GasCapacitance.GasCapacitance at 0x122e2ef38>,\n",
       " 'DS': <explain_core.core_models.GasCapacitance.GasCapacitance at 0x122e2ef70>,\n",
       " 'ALL': <explain_core.core_models.GasCapacitance.GasCapacitance at 0x122e2efa8>,\n",
       " 'ALR': <explain_core.core_models.GasCapacitance.GasCapacitance at 0x122e2efe0>,\n",
       " 'ECLS_GASIN': <explain_core.core_models.GasCapacitance.GasCapacitance at 0x122e2f018>,\n",
       " 'ECLS_GASOXY': <explain_core.core_models.GasCapacitance.GasCapacitance at 0x122e2f050>,\n",
       " 'ECLS_GASOUT': <explain_core.core_models.GasCapacitance.GasCapacitance at 0x122e2f088>,\n",
       " 'VENT_GASIN': <explain_core.core_models.GasCapacitance.GasCapacitance at 0x122e2f0c0>,\n",
       " 'VENT_GASCIRCUIT': <explain_core.core_models.GasCapacitance.GasCapacitance at 0x122e2f0f8>,\n",
       " 'VENT_GASOUT': <explain_core.core_models.GasCapacitance.GasCapacitance at 0x122e2f130>,\n",
       " 'CHEST_L': <explain_core.core_models.Container.Container at 0x122e2f168>,\n",
       " 'CHEST_R': <explain_core.core_models.Container.Container at 0x122e2f1a0>,\n",
       " 'THORAX': <explain_core.core_models.Container.Container at 0x122e2f1d8>,\n",
       " 'MOUTH_DS': <explain_core.core_models.GasResistor.GasResistor at 0x122e2f210>,\n",
       " 'DS_ALL': <explain_core.core_models.GasResistor.GasResistor at 0x122e2f248>,\n",
       " 'DS_ALR': <explain_core.core_models.GasResistor.GasResistor at 0x122e2f280>,\n",
       " 'ECLS_GASIN_OXY': <explain_core.core_models.GasResistor.GasResistor at 0x122e2f2b8>,\n",
       " 'ECLS_OXY_GASOUT': <explain_core.core_models.GasResistor.GasResistor at 0x122e2f2f0>,\n",
       " 'VENT_INSP_VALVE': <explain_core.core_models.GasResistor.GasResistor at 0x122e2f328>,\n",
       " 'VENT_ETTUBE': <explain_core.core_models.GasResistor.GasResistor at 0x122e2f360>,\n",
       " 'VENT_EXP_VALVE': <explain_core.core_models.GasResistor.GasResistor at 0x122e2f398>,\n",
       " 'GASEX_LL': <explain_core.core_models.GasExchanger.GasExchanger at 0x122e2f3d0>,\n",
       " 'GASEX_RL': <explain_core.core_models.GasExchanger.GasExchanger at 0x122e2f408>,\n",
       " 'ECLS_GASEX': <explain_core.core_models.GasExchanger.GasExchanger at 0x122e2f440>,\n",
       " 'PL_GASEX': <explain_core.core_models.BloodDiffusor.BloodDiffusor at 0x122e2f478>,\n",
       " 'BR_MAP': <explain_core.core_models.SensoryInput.SensoryInput at 0x122e2f4b0>,\n",
       " 'CR_PCO2': <explain_core.core_models.SensoryInput.SensoryInput at 0x122e2f4e8>,\n",
       " 'CR_PO2': <explain_core.core_models.SensoryInput.SensoryInput at 0x122e89210>,\n",
       " 'CR_PH': <explain_core.core_models.SensoryInput.SensoryInput at 0x122e89248>,\n",
       " 'Heart': <explain_core.core_models.Heart.Heart at 0x122e89280>,\n",
       " 'Circulation': <explain_core.core_models.Circulation.Circulation at 0x122e892b8>,\n",
       " 'Shunts': <explain_core.core_models.Shunts.Shunts at 0x122e892f0>,\n",
       " 'Lungs': <explain_core.core_models.Lungs.Lungs at 0x122e89328>,\n",
       " 'Ans': <explain_core.core_models.Ans.Ans at 0x122e89360>,\n",
       " 'Blood': <explain_core.core_models.Blood.Blood at 0x122e89398>,\n",
       " 'Gas': <explain_core.core_models.Gas.Gas at 0x122e893d0>,\n",
       " 'Breathing': <explain_core.core_models.Breathing.Breathing at 0x122e89408>,\n",
       " 'Metabolism': <explain_core.core_models.Metabolism.Metabolism at 0x122e89440>,\n",
       " 'Placenta': <explain_core.core_models.Placenta.Placenta at 0x122e89478>,\n",
       " 'Mob': <explain_core.core_models.Mob.Mob at 0x122ebc3a0>,\n",
       " 'Fluids': <explain_core.core_models.Fluids.Fluids at 0x122ebc3d8>,\n",
       " 'Drugs': <explain_core.core_models.Drugs.Drugs at 0x122ebc410>,\n",
       " 'Kidneys': <explain_core.core_models.Kidneys.Kidneys at 0x122ebc448>,\n",
       " 'Liver': <explain_core.core_models.Liver.Liver at 0x122ebc480>,\n",
       " 'Brain': <explain_core.core_models.Brain.Brain at 0x122ebc4b8>,\n",
       " 'Lymph': <explain_core.core_models.Lymph.Lymph at 0x122ebc4f0>,\n",
       " 'Resuscitation': <explain_core.device_models.Resuscitation.Resuscitation at 0x122ebc528>,\n",
       " 'Ecls': <explain_core.device_models.Ecls.Ecls at 0x122ebc560>,\n",
       " 'Ventilator': <explain_core.device_models.Ventilator.Ventilator at 0x122efd018>,\n",
       " 'Scaler': <explain_core.core_models.Scaler.Scaler at 0x122efd050>}"
      ]
     },
     "execution_count": 2,
     "metadata": {},
     "output_type": "execute_result"
    }
   ],
   "source": [
    "model.models"
   ]
  },
  {
   "cell_type": "code",
   "execution_count": 3,
   "metadata": {},
   "outputs": [],
   "source": [
    "from explain_core.cpp_models._blood_composition.lib import GetBloodComposition"
   ]
  },
  {
   "cell_type": "code",
   "execution_count": null,
   "metadata": {},
   "outputs": [],
   "source": []
  }
 ],
 "metadata": {
  "kernelspec": {
   "display_name": "Python 3",
   "language": "python",
   "name": "python3"
  },
  "language_info": {
   "codemirror_mode": {
    "name": "ipython",
    "version": 3
   },
   "file_extension": ".py",
   "mimetype": "text/x-python",
   "name": "python",
   "nbconvert_exporter": "python",
   "pygments_lexer": "ipython3",
   "version": "3.10.13"
  }
 },
 "nbformat": 4,
 "nbformat_minor": 2
}
