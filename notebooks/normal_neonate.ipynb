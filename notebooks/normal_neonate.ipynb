{
 "cells": [
  {
   "cell_type": "code",
   "execution_count": 37,
   "metadata": {},
   "outputs": [
    {
     "name": "stdout",
     "output_type": "stream",
     "text": [
      " Model 'normal neonate' loaded and initialized correctly.\n",
      " Ready in 3.7 sec. Average model step in 0.0304 ms.\n"
     ]
    }
   ],
   "source": [
    "# uncomment the line below to enable realtime graphs\n",
    "# %matplotlib ipympl\n",
    "\n",
    "# as this notebook is run from a subfolder, we need to change the working directory to the root folder\n",
    "import os\n",
    "\n",
    "if os.getcwd().split(\"/\")[-1] != \"explain-python\":\n",
    "    os.chdir(\"..\")\n",
    "\n",
    "# import the model engine and the model interface\n",
    "from explain_core.ModelEngine import ModelEngine\n",
    "\n",
    "# instantiate a model engine instance with the 'normal_neonate' model definition\n",
    "model = ModelEngine(\"definitions/normal_neonate.json\")\n",
    "\n",
    "# report the gas pressures in kPa\n",
    "model.set_pressure_unit(\"kpa\")\n",
    "\n",
    "# get a reference to all the submodels\n",
    "models = model.models\n",
    "\n",
    "# instantiate a custom interface object especially designed to interact with the neonatal model engine instance\n",
    "from interfaces.NeoInterface import NeoInterface\n",
    "\n",
    "neo = NeoInterface(model)\n",
    "\n",
    "# enable or disable the physiological submodels which can be enabled or disabled.\n",
    "neo.ans(True)\n",
    "neo.breathing(True)\n",
    "neo.metabolism(True)\n",
    "neo.mob(True)\n",
    "neo.pda(False)\n",
    "\n",
    "# enable or disable the extra-corporeal models\n",
    "neo.placenta(False)\n",
    "neo.ventilator(False)\n",
    "neo.ecls(False)\n",
    "neo.resuscitation(False)\n",
    "\n",
    "# stabilize the model by calculating 60 seconds\n",
    "neo.calculate(60)"
   ]
  },
  {
   "cell_type": "code",
   "execution_count": 41,
   "metadata": {},
   "outputs": [
    {
     "ename": "AttributeError",
     "evalue": "'Scaling' object has no attribute 'el_base_factor'",
     "output_type": "error",
     "traceback": [
      "\u001b[0;31m---------------------------------------------------------------------------\u001b[0m",
      "\u001b[0;31mAttributeError\u001b[0m                            Traceback (most recent call last)",
      "Cell \u001b[0;32mIn[41], line 1\u001b[0m\n\u001b[0;32m----> 1\u001b[0m \u001b[43mneo\u001b[49m\u001b[38;5;241;43m.\u001b[39;49m\u001b[43mscale_patient\u001b[49m\u001b[43m(\u001b[49m\u001b[43mtarget_weight\u001b[49m\u001b[38;5;241;43m=\u001b[39;49m\u001b[38;5;241;43m1.0\u001b[39;49m\u001b[43m,\u001b[49m\u001b[43m \u001b[49m\u001b[43mtarget_height\u001b[49m\u001b[38;5;241;43m=\u001b[39;49m\u001b[38;5;241;43m1.0\u001b[39;49m\u001b[43m,\u001b[49m\u001b[43m \u001b[49m\u001b[43mtarget_blood_volume\u001b[49m\u001b[38;5;241;43m=\u001b[39;49m\u001b[38;5;241;43m80.0\u001b[39;49m\u001b[43m,\u001b[49m\u001b[43m \u001b[49m\u001b[43mtarget_hr_ref\u001b[49m\u001b[38;5;241;43m=\u001b[39;49m\u001b[38;5;241;43m160.0\u001b[39;49m\u001b[43m,\u001b[49m\u001b[43m \u001b[49m\u001b[43mtarget_map\u001b[49m\u001b[38;5;241;43m=\u001b[39;49m\u001b[38;5;241;43m30.0\u001b[39;49m\u001b[43m)\u001b[49m\n",
      "File \u001b[0;32m~/Library/Mobile Documents/com~apple~CloudDocs/explain/explain-python/explain_core/interfaces/BaseInterface.py:72\u001b[0m, in \u001b[0;36mBaseInterface.scale_patient\u001b[0;34m(self, target_weight, target_height, target_blood_volume, target_hr_ref, target_map)\u001b[0m\n\u001b[1;32m     64\u001b[0m \u001b[38;5;28;01mdef\u001b[39;00m \u001b[38;5;21mscale_patient\u001b[39m(\n\u001b[1;32m     65\u001b[0m     \u001b[38;5;28mself\u001b[39m,\n\u001b[1;32m     66\u001b[0m     target_weight: \u001b[38;5;28mfloat\u001b[39m,\n\u001b[0;32m   (...)\u001b[0m\n\u001b[1;32m     70\u001b[0m     target_map: \u001b[38;5;28mfloat\u001b[39m,\n\u001b[1;32m     71\u001b[0m ):\n\u001b[0;32m---> 72\u001b[0m     \u001b[38;5;28;43mself\u001b[39;49m\u001b[38;5;241;43m.\u001b[39;49m\u001b[43mmodel\u001b[49m\u001b[38;5;241;43m.\u001b[39;49m\u001b[43mscale_patient\u001b[49m\u001b[43m(\u001b[49m\n\u001b[1;32m     73\u001b[0m \u001b[43m        \u001b[49m\u001b[43mtarget_weight\u001b[49m\u001b[43m,\u001b[49m\u001b[43m \u001b[49m\u001b[43mtarget_height\u001b[49m\u001b[43m,\u001b[49m\u001b[43m \u001b[49m\u001b[43mtarget_blood_volume\u001b[49m\u001b[43m,\u001b[49m\u001b[43m \u001b[49m\u001b[43mtarget_hr_ref\u001b[49m\u001b[43m,\u001b[49m\u001b[43m \u001b[49m\u001b[43mtarget_map\u001b[49m\n\u001b[1;32m     74\u001b[0m \u001b[43m    \u001b[49m\u001b[43m)\u001b[49m\n",
      "File \u001b[0;32m~/Library/Mobile Documents/com~apple~CloudDocs/explain/explain-python/explain_core/ModelEngine.py:329\u001b[0m, in \u001b[0;36mModelEngine.scale_patient\u001b[0;34m(self, target_weight, target_height, target_blood_volume, target_hr_ref, target_map)\u001b[0m\n\u001b[1;32m    321\u001b[0m \u001b[38;5;28;01mdef\u001b[39;00m \u001b[38;5;21mscale_patient\u001b[39m(\n\u001b[1;32m    322\u001b[0m     \u001b[38;5;28mself\u001b[39m,\n\u001b[1;32m    323\u001b[0m     target_weight: \u001b[38;5;28mfloat\u001b[39m,\n\u001b[0;32m   (...)\u001b[0m\n\u001b[1;32m    327\u001b[0m     target_map: \u001b[38;5;28mfloat\u001b[39m,\n\u001b[1;32m    328\u001b[0m ):\n\u001b[0;32m--> 329\u001b[0m     \u001b[38;5;28;43mself\u001b[39;49m\u001b[38;5;241;43m.\u001b[39;49m\u001b[43m_scaling\u001b[49m\u001b[38;5;241;43m.\u001b[39;49m\u001b[43mscale_patient\u001b[49m\u001b[43m(\u001b[49m\n\u001b[1;32m    330\u001b[0m \u001b[43m        \u001b[49m\u001b[43mtarget_weight\u001b[49m\u001b[43m,\u001b[49m\u001b[43m \u001b[49m\u001b[43mtarget_height\u001b[49m\u001b[43m,\u001b[49m\u001b[43m \u001b[49m\u001b[43mtarget_blood_volume\u001b[49m\u001b[43m,\u001b[49m\u001b[43m \u001b[49m\u001b[43mtarget_hr_ref\u001b[49m\u001b[43m,\u001b[49m\u001b[43m \u001b[49m\u001b[43mtarget_map\u001b[49m\n\u001b[1;32m    331\u001b[0m \u001b[43m    \u001b[49m\u001b[43m)\u001b[49m\n",
      "File \u001b[0;32m~/Library/Mobile Documents/com~apple~CloudDocs/explain/explain-python/explain_core/helpers/Scaling.py:91\u001b[0m, in \u001b[0;36mScaling.scale_patient\u001b[0;34m(self, target_weight, target_height, target_blood_volume, target_hr_ref, target_map)\u001b[0m\n\u001b[1;32m     88\u001b[0m \u001b[38;5;28mself\u001b[39m\u001b[38;5;241m.\u001b[39mscale_blood_volume(target_blood_volume \u001b[38;5;241m*\u001b[39m target_weight)\n\u001b[1;32m     90\u001b[0m \u001b[38;5;66;03m# scale the circulation\u001b[39;00m\n\u001b[0;32m---> 91\u001b[0m \u001b[38;5;28;43mself\u001b[39;49m\u001b[38;5;241;43m.\u001b[39;49m\u001b[43mscale_circulatory_system\u001b[49m\u001b[43m(\u001b[49m\u001b[43m)\u001b[49m\n\u001b[1;32m     93\u001b[0m \u001b[38;5;66;03m# scale the heart\u001b[39;00m\n\u001b[1;32m     94\u001b[0m \u001b[38;5;28mself\u001b[39m\u001b[38;5;241m.\u001b[39mscale_heart(target_hr_ref)\n",
      "File \u001b[0;32m~/Library/Mobile Documents/com~apple~CloudDocs/explain/explain-python/explain_core/helpers/Scaling.py:139\u001b[0m, in \u001b[0;36mScaling.scale_circulatory_system\u001b[0;34m(self)\u001b[0m\n\u001b[1;32m    137\u001b[0m \u001b[38;5;28;01mif\u001b[39;00m _model\u001b[38;5;241m.\u001b[39mis_enabled:\n\u001b[1;32m    138\u001b[0m     \u001b[38;5;28;01mif\u001b[39;00m \u001b[38;5;124m\"\u001b[39m\u001b[38;5;124mBloodCapacitance\u001b[39m\u001b[38;5;124m\"\u001b[39m \u001b[38;5;129;01min\u001b[39;00m _model\u001b[38;5;241m.\u001b[39mmodel_type:\n\u001b[0;32m--> 139\u001b[0m         _model\u001b[38;5;241m.\u001b[39mel_base_scaling_factor \u001b[38;5;241m=\u001b[39m \u001b[38;5;28;43mself\u001b[39;49m\u001b[38;5;241;43m.\u001b[39;49m\u001b[43mel_base_factor\u001b[49m\n",
      "\u001b[0;31mAttributeError\u001b[0m: 'Scaling' object has no attribute 'el_base_factor'"
     ]
    }
   ],
   "source": []
  },
  {
   "cell_type": "code",
   "execution_count": 38,
   "metadata": {},
   "outputs": [
    {
     "data": {
      "text/plain": [
       "{'heartrate': 141.49929841960957,\n",
       " 'spo2_pre': 95.6774966403038,\n",
       " 'spo2_post': 95.33888091930585,\n",
       " 'abp_systole': 68.82594,\n",
       " 'abp_diastole': 45.46256,\n",
       " 'pap_systole': 45.29481,\n",
       " 'pap_diastole': 24.41632,\n",
       " 'cvp': 6.720241851,\n",
       " 'resp_rate': 39.06653523974027,\n",
       " 'pH': 7.394193199885937,\n",
       " 'po2': 9.831721907795268,\n",
       " 'pco2': 5.735904046476122,\n",
       " 'hco3': 25.982366480901625,\n",
       " 'be': 0.5963401423064429}"
      ]
     },
     "execution_count": 38,
     "metadata": {},
     "output_type": "execute_result"
    }
   ],
   "source": [
    "neo.get_vitals()"
   ]
  },
  {
   "cell_type": "code",
   "execution_count": 39,
   "metadata": {},
   "outputs": [
    {
     "name": "stdout",
     "output_type": "stream",
     "text": [
      "Total blood volume: 76.964389006117 ml/kg = 100.0%\n",
      "Systemic blood volume: 68.26923155394527 ml/kg = 88.70236278822318%\n",
      "Pulmonary total blood volume: 8.695157452171735 ml/kg = 11.29763721177681%\n",
      "Pulmonary capillary blood volume: 3.788281396620866 ml/kg = 43.56771475914666% of total pulmonary blood volume\n",
      "Heart blood volume: 5.047839096882808 ml/kg = 6.558668446626159%\n",
      "Capillary blood volume: 4.248086018974247 ml/kg = 5.519547512599127%\n",
      "Venous blood volume: 48.405625409876116 ml/kg = 62.893535614281184%\n",
      "Arterial blood volume: 10.567681028212117 ml/kg = 13.730611214716737%\n",
      "Upper body blood volume: 21.384344152514036 ml/kg = 27.784725414781686%\n",
      "Lower body blood volume: 41.83704830454845 ml/kg = 54.35896892681538%\n"
     ]
    },
    {
     "data": {
      "text/plain": [
       "0.2539824837201861"
      ]
     },
     "execution_count": 39,
     "metadata": {},
     "output_type": "execute_result"
    }
   ],
   "source": [
    "neo.get_total_blood_volume()"
   ]
  },
  {
   "cell_type": "code",
   "execution_count": null,
   "metadata": {},
   "outputs": [],
   "source": []
  }
 ],
 "metadata": {
  "kernelspec": {
   "display_name": "Python 3",
   "language": "python",
   "name": "python3"
  },
  "language_info": {
   "codemirror_mode": {
    "name": "ipython",
    "version": 3
   },
   "file_extension": ".py",
   "mimetype": "text/x-python",
   "name": "python",
   "nbconvert_exporter": "python",
   "pygments_lexer": "ipython3",
   "version": "3.10.12"
  }
 },
 "nbformat": 4,
 "nbformat_minor": 2
}
