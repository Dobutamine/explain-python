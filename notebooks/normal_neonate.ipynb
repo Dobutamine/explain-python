{
 "cells": [
  {
   "cell_type": "code",
   "execution_count": 1,
   "metadata": {},
   "outputs": [
    {
     "name": "stderr",
     "output_type": "stream",
     "text": [
      "/opt/homebrew/Cellar/pypy3.10/7.3.15/libexec/lib/pypy3.10/site-packages/setuptools-59.8.0-py3.10.egg/setuptools/dist.py:723: UserWarning: Usage of dash-separated 'install-scripts' will not be supported in future versions. Please use the underscore name 'install_scripts' instead\n",
      "  warnings.warn(\n"
     ]
    },
    {
     "name": "stdout",
     "output_type": "stream",
     "text": [
      " Model 'baseline neonate' loaded and initialized correctly.\n"
     ]
    }
   ],
   "source": [
    "# as this notebook is run from a subfolder, we need to change the working directory to the root folder\n",
    "import os\n",
    "\n",
    "if os.getcwd().split(\"/\")[-1] != \"explain-python\":\n",
    "    os.chdir(\"..\")\n",
    "\n",
    "# import the model engine\n",
    "from explain_core.ModelEngine import ModelEngine\n",
    "\n",
    "# instantiate a modelengine instance\n",
    "model = ModelEngine()\n",
    "\n",
    "# inject a model definition into the modelengine instance\n",
    "model.load_model_definition(\"definitions/baseline_neonate.json\")\n",
    "\n",
    "# import the general mode interface and instantiate it with the current model object\n",
    "from explain_core.interfaces.BaseInterface import BaseInterface\n",
    "\n",
    "# instantiate a custom interface object especially designed to interact with the neonatal model engine instance\n",
    "io = BaseInterface(model)"
   ]
  },
  {
   "cell_type": "code",
   "execution_count": 2,
   "metadata": {},
   "outputs": [
    {
     "data": {
      "image/png": "[encoded data removed]",
      "text/plain": [
       "<Figure size 1400x200 with 1 Axes>"
      ]
     },
     "metadata": {},
     "output_type": "display_data"
    },
    {
     "name": "stdout",
     "output_type": "stream",
     "text": [
      "Ecls.blood_flow : max    0.35215 min        0.0\n"
     ]
    }
   ],
   "source": [
    "model.models[\"Ecls\"].switch_ecls(True)\n",
    "model.models[\"Ecls\"].pump_rpm = 2000\n",
    "model.models[\"Ventilator\"].switch_ventilator(True)\n",
    "model.models[\"Ventilator\"].set_ventilator_pc()\n",
    "pressures = io.plot_time_graph(\n",
    "    [\"Ecls.blood_flow\"],\n",
    "    autoscale=True,\n",
    "    fill=False,\n",
    "    combined=False,\n",
    "    sharey=False,\n",
    "    time_to_calculate=30,\n",
    ")"
   ]
  },
  {
   "cell_type": "code",
   "execution_count": 3,
   "metadata": {},
   "outputs": [
    {
     "name": "stdout",
     "output_type": "stream",
     "text": [
      " Ready in 3.6 sec. Average model step in 0.0605 ms.\n"
     ]
    }
   ],
   "source": [
    "io.calculate(30)"
   ]
  },
  {
   "cell_type": "code",
   "execution_count": 10,
   "metadata": {},
   "outputs": [
    {
     "name": "stdout",
     "output_type": "stream",
     "text": [
      " Ready in 3.3 sec. Average model step in 0.0555 ms.\n"
     ]
    }
   ],
   "source": [
    "model.models[\"Ecls\"].switch_ecls(False)\n",
    "model.models[\"Ventilator\"].switch_ventilator(False)\n",
    "io.calculate(30)"
   ]
  },
  {
   "cell_type": "code",
   "execution_count": 3,
   "metadata": {},
   "outputs": [],
   "source": [
    "from explain_core.cpp_models._blood_composition.lib import GetBloodComposition"
   ]
  },
  {
   "cell_type": "code",
   "execution_count": 3,
   "metadata": {},
   "outputs": [],
   "source": [
    "import explain_core.cpp_models._blood_composition"
   ]
  },
  {
   "cell_type": "code",
   "execution_count": 5,
   "metadata": {},
   "outputs": [
    {
     "ename": "TypeError",
     "evalue": "GetBloodComposition() takes exactly 9 arguments (1 given)",
     "output_type": "error",
     "traceback": [
      "\u001b[0;31m---------------------------------------------------------------------------\u001b[0m",
      "\u001b[0;31mTypeError\u001b[0m                                 Traceback (most recent call last)",
      "Cell \u001b[0;32mIn[5], line 1\u001b[0m\n\u001b[0;32m----> 1\u001b[0m \u001b[43mexplain_core\u001b[49m\u001b[38;5;241;43m.\u001b[39;49m\u001b[43mcpp_models\u001b[49m\u001b[38;5;241;43m.\u001b[39;49m\u001b[43m_blood_composition\u001b[49m\u001b[38;5;241;43m.\u001b[39;49m\u001b[43mlib\u001b[49m\u001b[38;5;241;43m.\u001b[39;49m\u001b[43mGetBloodComposition\u001b[49m\u001b[43m(\u001b[49m\u001b[43mmodel\u001b[49m\u001b[38;5;241;43m.\u001b[39;49m\u001b[43mmodels\u001b[49m\u001b[43m[\u001b[49m\u001b[38;5;124;43m\"\u001b[39;49m\u001b[38;5;124;43mAA\u001b[39;49m\u001b[38;5;124;43m\"\u001b[39;49m\u001b[43m]\u001b[49m\u001b[43m)\u001b[49m\n",
      "\u001b[0;31mTypeError\u001b[0m: GetBloodComposition() takes exactly 9 arguments (1 given)"
     ]
    }
   ],
   "source": [
    "explain_core.cpp_models._blood_composition.lib.GetBloodComposition(model.models[\"AA\"])"
   ]
  },
  {
   "cell_type": "code",
   "execution_count": null,
   "metadata": {},
   "outputs": [],
   "source": []
  }
 ],
 "metadata": {
  "kernelspec": {
   "display_name": "Python 3",
   "language": "python",
   "name": "python3"
  },
  "language_info": {
   "codemirror_mode": {
    "name": "ipython",
    "version": 3
   },
   "file_extension": ".py",
   "mimetype": "text/x-python",
   "name": "python",
   "nbconvert_exporter": "python",
   "pygments_lexer": "ipython3",
   "version": "3.10.13"
  }
 },
 "nbformat": 4,
 "nbformat_minor": 2
}
