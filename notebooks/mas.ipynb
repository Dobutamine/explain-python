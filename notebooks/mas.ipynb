{
 "cells": [
  {
   "cell_type": "markdown",
   "metadata": {},
   "source": [
    "<h1>Meconium aspiration syndrome</h1>\n",
    "<p>This notebook models a 12 hours old, 3.3 kg neonate born at 42 weeks of gestation with meconium aspiration syndrome resulting in severe oxygenation and ventilatory problems due to persistent pulmonary hypertension, increased airwayresistance, decreased lungcompliance, decreased diffusioncapacity and increased intrapulmonary shunting. De ductus arteriosus and the foramen ovale are still open.</p>\n",
    "\n",
    "<p>Target vital parameters: </p>\n",
    "<p>Target blood gas values: </p>\n",
    "<p>Ventilator settings: </p>\n",
    "<p>Drugs:</p>\n",
    "<p>X-ray imaging:</p>\n",
    "<p>Neonatologist performed echocardiography (NPE):</p>"
   ]
  },
  {
   "cell_type": "code",
   "execution_count": 1,
   "metadata": {},
   "outputs": [
    {
     "name": "stdout",
     "output_type": "stream",
     "text": [
      " Model 'neonatal mas' loaded and initialized correctly.\n",
      " Ready in 4.3 sec. Average model step in 0.0354 ms.\n"
     ]
    }
   ],
   "source": [
    "# as this notebook is run from a subfolder, we need to change the working directory to the root folder\n",
    "import os\n",
    "\n",
    "if os.getcwd().split(\"/\")[-1] != \"explain-python\":\n",
    "    os.chdir(\"..\")\n",
    "\n",
    "# import the model engine and the model interface\n",
    "from explain_core.ModelEngine import ModelEngine\n",
    "\n",
    "# instantiate a model engine instance with the 'normal_neonate' model definition\n",
    "model = ModelEngine(\"definitions/mas.json\")\n",
    "\n",
    "# set the model to report the bloodgas partial pressures in kpa\n",
    "model.set_pressure_unit(\"kpa\")\n",
    "\n",
    "# get a reference to all the models\n",
    "models = model.models\n",
    "\n",
    "# instantiate a custom interface object especially designed to interact with the neonatal model engine instance\n",
    "from interfaces.NeoInterface import NeoInterface\n",
    "\n",
    "neo = NeoInterface(model)\n",
    "\n",
    "# enable or disable the physiological submodels which can be enabled or disabled.\n",
    "neo.ans(False)\n",
    "neo.breathing(False)\n",
    "neo.metabolism(True)\n",
    "neo.mob(False)\n",
    "\n",
    "# enable or disable the extra-corporeal models\n",
    "neo.placenta(False)\n",
    "neo.ventilator(True)\n",
    "neo.ecls(True)\n",
    "neo.resuscitation(False)\n",
    "\n",
    "# define some references for easy access to the models\n",
    "circulation = models[\"Circulation\"]\n",
    "lungs = models[\"Lungs\"]\n",
    "ecls = models[\"Ecls\"]\n",
    "heart = models[\"Heart\"]\n",
    "pda = models[\"Pda\"]\n",
    "ventilator = models[\"Ventilator\"]\n",
    "\n",
    "# stabilize the model by calculating 60 seconds\n",
    "neo.calculate(60)"
   ]
  },
  {
   "cell_type": "code",
   "execution_count": null,
   "metadata": {},
   "outputs": [],
   "source": []
  }
 ],
 "metadata": {
  "kernelspec": {
   "display_name": "Python 3",
   "language": "python",
   "name": "python3"
  },
  "language_info": {
   "codemirror_mode": {
    "name": "ipython",
    "version": 3
   },
   "file_extension": ".py",
   "mimetype": "text/x-python",
   "name": "python",
   "nbconvert_exporter": "python",
   "pygments_lexer": "ipython3",
   "version": "3.10.12"
  }
 },
 "nbformat": 4,
 "nbformat_minor": 2
}
