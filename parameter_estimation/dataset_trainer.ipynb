{
 "cells": [
  {
   "cell_type": "code",
   "execution_count": 1,
   "metadata": {},
   "outputs": [],
   "source": [
    "import numpy as np\n",
    "import pandas as pd\n",
    "import tensorflow as tf\n",
    "import os\n",
    "\n",
    "if os.getcwd().split(\"/\")[-1] != \"explain-python\":\n",
    "    os.chdir(\"..\")"
   ]
  },
  {
   "cell_type": "markdown",
   "metadata": {},
   "source": [
    "<h3>Data preprocessing</h3>"
   ]
  },
  {
   "cell_type": "markdown",
   "metadata": {},
   "source": [
    "<h5>Import the dataset</h5>"
   ]
  },
  {
   "cell_type": "code",
   "execution_count": 22,
   "metadata": {},
   "outputs": [],
   "source": [
    "dataset = pd.read_csv(\"parameter_estimation/datasets/lvelminmax_flow_pres.csv\")\n",
    "\n",
    "# X contains the matrix of features (LV_AA.flow.net) and y contains the dependent variable vector (LV.el_max_factor)\n",
    "X = dataset.iloc[:, 0:2].values\n",
    "y = dataset.iloc[:, 3:4].values"
   ]
  },
  {
   "cell_type": "markdown",
   "metadata": {},
   "source": [
    "<h5>Splitting the dataset into a training and a test set</h5>"
   ]
  },
  {
   "cell_type": "code",
   "execution_count": 23,
   "metadata": {},
   "outputs": [],
   "source": [
    "from sklearn.model_selection import train_test_split\n",
    "\n",
    "X_train, X_test, y_train, y_test = train_test_split(X, y, test_size=0.2, random_state=0)"
   ]
  },
  {
   "cell_type": "markdown",
   "metadata": {},
   "source": [
    "<h3>Building the artificial neural network (ANN)</h3>"
   ]
  },
  {
   "cell_type": "code",
   "execution_count": 27,
   "metadata": {},
   "outputs": [],
   "source": [
    "ann = tf.keras.models.Sequential()\n",
    "# define the input and first hidden layer\n",
    "ann.add(tf.keras.layers.Dense(units=6, activation=\"relu\"))\n",
    "# define the second hidden layer\n",
    "ann.add(tf.keras.layers.Dense(units=6, activation=\"relu\"))\n",
    "# define the output layer\n",
    "ann.add(tf.keras.layers.Dense(units=1, activation=None))\n",
    "# define a optimizer which updates the weights by stochastic gradient descent (adam) -> backpropagation\n",
    "# define a loss function which is the mean squared error between the actual value and the predicted value\n",
    "ann.compile(optimizer=\"adam\", loss=\"mean_squared_error\")"
   ]
  },
  {
   "cell_type": "markdown",
   "metadata": {},
   "source": [
    "<h3>Training the ANN</h3>"
   ]
  },
  {
   "cell_type": "code",
   "execution_count": 28,
   "metadata": {},
   "outputs": [
    {
     "name": "stdout",
     "output_type": "stream",
     "text": [
      "Epoch 1/5\n",
      "250/250 [==============================] - 0s 314us/step - loss: 0.1986\n",
      "Epoch 2/5\n",
      "250/250 [==============================] - 0s 295us/step - loss: 0.0094\n",
      "Epoch 3/5\n",
      "250/250 [==============================] - 0s 291us/step - loss: 0.0064\n",
      "Epoch 4/5\n",
      "250/250 [==============================] - 0s 291us/step - loss: 0.0044\n",
      "Epoch 5/5\n",
      "250/250 [==============================] - 0s 299us/step - loss: 0.0032\n",
      "Mean loss of the training set: 0.044417452346533534\n"
     ]
    }
   ],
   "source": [
    "# train the model on the training set\n",
    "result = ann.fit(X_train, y_train, batch_size=32, epochs=5, verbose=1)\n",
    "# calculate the mean loss on the training set\n",
    "print(f\"Mean loss of the training set: {np.mean(result.history['loss'])}\")"
   ]
  },
  {
   "cell_type": "markdown",
   "metadata": {},
   "source": [
    "<h3>Evaluation the accuracy of the ANN</h3>"
   ]
  },
  {
   "cell_type": "markdown",
   "metadata": {},
   "source": [
    "<h5>Mean squared error and r2 score of the model performance on the test set</h5>"
   ]
  },
  {
   "cell_type": "code",
   "execution_count": 30,
   "metadata": {},
   "outputs": [
    {
     "name": "stdout",
     "output_type": "stream",
     "text": [
      "Model performance on the test set:\n",
      "- Mean Squared Error (MSE): 0.00\n",
      "- R-squared (R2) Score: -0.28\n"
     ]
    }
   ],
   "source": [
    "from sklearn.metrics import mean_squared_error, r2_score\n",
    "\n",
    "# predict the test set results\n",
    "y_pred = ann.predict(X_test, verbose=0)\n",
    "# calculate the mean squared error and the r2 score\n",
    "mse = mean_squared_error(y_test, y_pred)\n",
    "print(f\"Model performance on the test set:\")\n",
    "print(f\"- Mean Squared Error (MSE): {mse:.2f}\")\n",
    "r2 = r2_score(y_test, y_pred)\n",
    "print(f\"- R-squared (R2) Score: {r2:.2f}\")"
   ]
  },
  {
   "cell_type": "markdown",
   "metadata": {},
   "source": [
    "<h5>K-fold cross validation</h5>"
   ]
  },
  {
   "cell_type": "code",
   "execution_count": 10,
   "metadata": {},
   "outputs": [
    {
     "name": "stdout",
     "output_type": "stream",
     "text": [
      "Average Mean Squared Error (MSE) across 5 folds: 0.00\n"
     ]
    }
   ],
   "source": [
    "from sklearn.model_selection import KFold\n",
    "\n",
    "K = 5  # You can choose any suitable value for K\n",
    "kf = KFold(n_splits=K, shuffle=True, random_state=42)\n",
    "mse_scores = []  # To store Mean Squared Error (MSE) scores for each fold\n",
    "\n",
    "for train_idx, val_idx in kf.split(X_train):\n",
    "    X_train_kf, X_val_kf = X[train_idx], X[val_idx]\n",
    "    y_train_kf, y_val_kf = y[train_idx], y[val_idx]\n",
    "\n",
    "    # Train the model on the training data\n",
    "    ann.fit(X_train_kf, y_train_kf, batch_size=32, epochs=100, verbose=0)\n",
    "\n",
    "    # Make predictions on the validation set\n",
    "    y_pred_kf = ann.predict(X_val_kf, verbose=0)\n",
    "\n",
    "    # Calculate the Mean Squared Error (MSE) for this fold\n",
    "    fold_mse = mean_squared_error(y_val_kf, y_pred_kf)\n",
    "    mse_scores.append(fold_mse)\n",
    "\n",
    "# Calculate the average MSE over all folds\n",
    "average_mse = np.mean(mse_scores)\n",
    "print(f\"Average Mean Squared Error (MSE) across {K} folds: {average_mse:.2f}\")"
   ]
  },
  {
   "cell_type": "markdown",
   "metadata": {},
   "source": [
    "<h3>Improving the ANN</h3>"
   ]
  },
  {
   "cell_type": "code",
   "execution_count": null,
   "metadata": {},
   "outputs": [],
   "source": []
  },
  {
   "cell_type": "markdown",
   "metadata": {},
   "source": [
    "<h5>Manual testing of the ANN</h5>"
   ]
  },
  {
   "cell_type": "code",
   "execution_count": 35,
   "metadata": {},
   "outputs": [
    {
     "name": "stdout",
     "output_type": "stream",
     "text": [
      "1/1 [==============================] - 0s 20ms/step\n"
     ]
    },
    {
     "data": {
      "text/plain": [
       "array([[0.74357593]], dtype=float32)"
      ]
     },
     "execution_count": 35,
     "metadata": {},
     "output_type": "execute_result"
    }
   ],
   "source": [
    "ann.predict([[0.5, 1.5]])"
   ]
  },
  {
   "cell_type": "markdown",
   "metadata": {},
   "source": [
    "<h5>Saving the ANN</h5>"
   ]
  },
  {
   "cell_type": "code",
   "execution_count": 69,
   "metadata": {},
   "outputs": [],
   "source": [
    "# ann.save(\"parameter_estimation/trained_models/new_model.keras\")"
   ]
  }
 ],
 "metadata": {
  "kernelspec": {
   "display_name": "Python 3",
   "language": "python",
   "name": "python3"
  },
  "language_info": {
   "codemirror_mode": {
    "name": "ipython",
    "version": 3
   },
   "file_extension": ".py",
   "mimetype": "text/x-python",
   "name": "python",
   "nbconvert_exporter": "python",
   "pygments_lexer": "ipython3",
   "version": "3.11.6"
  }
 },
 "nbformat": 4,
 "nbformat_minor": 2
}
