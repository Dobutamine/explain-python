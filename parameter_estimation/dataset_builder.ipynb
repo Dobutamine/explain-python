{
 "cells": [
  {
   "cell_type": "code",
   "execution_count": 6,
   "metadata": {},
   "outputs": [
    {
     "name": "stdout",
     "output_type": "stream",
     "text": [
      " Model 'normal neonate' loaded and initialized correctly.\n",
      " Ready in 2.4 sec. Average model step in 0.0201 ms.\n"
     ]
    }
   ],
   "source": [
    "# as this notebook is run from a subfolder, we need to change the working directory to the root folder\n",
    "import os\n",
    "\n",
    "if os.getcwd().split(\"/\")[-1] != \"explain-python\":\n",
    "    os.chdir(\"..\")\n",
    "\n",
    "# import the model engine and the model interface\n",
    "from explain_core.ModelEngine import ModelEngine\n",
    "\n",
    "# instantiate a model engine instance with the 'normal_neonate' model definition\n",
    "model = ModelEngine(\"definitions/normal_neonate.json\")\n",
    "\n",
    "# report the gas pressures in kPa\n",
    "model.set_pressure_unit(\"kpa\")\n",
    "\n",
    "# get a reference to all the submodels\n",
    "models = model.models\n",
    "\n",
    "# instantiate a custom interface object especially designed to interact with the neonatal model engine instance\n",
    "from interfaces.NeoInterface import NeoInterface\n",
    "\n",
    "neo = NeoInterface(model)\n",
    "\n",
    "# import the dataset builder\n",
    "from parameter_estimation.dataset_builder import DatasetBuilder\n",
    "\n",
    "# instantiate a dataset builder object\n",
    "builder = DatasetBuilder(model)\n",
    "\n",
    "# enable or disable the physiological submodels which can be enabled or disabled.\n",
    "neo.ans(False)\n",
    "neo.breathing(False)\n",
    "neo.metabolism(False)\n",
    "neo.mob(False)\n",
    "neo.pda(False)\n",
    "\n",
    "# enable or disable the extra-corporeal models\n",
    "neo.placenta(False)\n",
    "neo.ventilator(False)\n",
    "neo.ecls(False)\n",
    "neo.resuscitation(False)\n",
    "\n",
    "# stabilize the model by calculating 60 seconds\n",
    "neo.calculate(60)"
   ]
  },
  {
   "cell_type": "code",
   "execution_count": 7,
   "metadata": {},
   "outputs": [],
   "source": [
    "features = [{\"prop\": \"LV.el_max_factor\", \"ll\": 0.5, \"ul\": 2.0, \"mode\": \"random\"}, \n",
    "            {\"prop\": \"LV.el_min_factor\", \"ll\": 0.5, \"ul\": 2.0, \"mode\": \"random\"}]\n",
    "dependents = [\"LV.vol\", \"LA.vol\"]\n",
    "builder.initialize_dataset(features=features, dependents=dependents)"
   ]
  },
  {
   "cell_type": "code",
   "execution_count": 8,
   "metadata": {},
   "outputs": [
    {
     "name": "stdout",
     "output_type": "stream",
     "text": [
      "Starting model runs at 2023-11-15 22:59:23.958932\n",
      "Expected time finished: 2023-11-16 02:06:27.614900\n",
      "Expected time finished: 2023-11-16 01:21:33.819930\n",
      "Expected time finished: 2023-11-16 01:22:30.874523\n",
      "Expected time finished: 2023-11-16 01:24:23.759044\n",
      "Expected time finished: 2023-11-16 01:29:03.471753\n",
      "Expected time finished: 2023-11-16 01:23:01.160035\n",
      "Expected time finished: 2023-11-16 01:31:59.582859\n",
      "Expected time finished: 2023-11-16 01:28:06.097087\n",
      "Expected time finished: 2023-11-16 01:28:30.480063\n",
      "Expected time finished: 2023-11-16 01:29:33.128123\n",
      "Dataset builder finished at 2023-11-16 01:28:45.748527\n"
     ]
    }
   ],
   "source": [
    "builder.generate_dataset(\n",
    "    model_runs=10000,\n",
    "    analysis_duration=5,\n",
    "    pre_analysis_duration=10,\n",
    "    duration_update=1000,\n",
    ")\n"
   ]
  },
  {
   "cell_type": "code",
   "execution_count": 1,
   "metadata": {},
   "outputs": [
    {
     "ename": "NameError",
     "evalue": "name 'builder' is not defined",
     "output_type": "error",
     "traceback": [
      "\u001b[0;31m---------------------------------------------------------------------------\u001b[0m",
      "\u001b[0;31mNameError\u001b[0m                                 Traceback (most recent call last)",
      "\u001b[1;32m/home/timothy/projects/explain-python/parameter_estimation/dataset_builder.ipynb Cell 4\u001b[0m line \u001b[0;36m1\n\u001b[0;32m----> <a href='vscode-notebook-cell://wsl%2Bubuntu/home/timothy/projects/explain-python/parameter_estimation/dataset_builder.ipynb#W3sdnNjb2RlLXJlbW90ZQ%3D%3D?line=0'>1</a>\u001b[0m builder\u001b[39m.\u001b[39msave_dataset(file_name\u001b[39m=\u001b[39m\u001b[39m\"\u001b[39m\u001b[39mlvelminmax_lalv_vol\u001b[39m\u001b[39m\"\u001b[39m)\n",
      "\u001b[0;31mNameError\u001b[0m: name 'builder' is not defined"
     ]
    }
   ],
   "source": [
    "builder.save_dataset(file_name=\"lvelminmax_lalv_vol\")"
   ]
  },
  {
   "cell_type": "code",
   "execution_count": null,
   "metadata": {},
   "outputs": [],
   "source": []
  }
 ],
 "metadata": {
  "kernelspec": {
   "display_name": "Python 3",
   "language": "python",
   "name": "python3"
  },
  "language_info": {
   "codemirror_mode": {
    "name": "ipython",
    "version": 3
   },
   "file_extension": ".py",
   "mimetype": "text/x-python",
   "name": "python",
   "nbconvert_exporter": "python",
   "pygments_lexer": "ipython3",
   "version": "3.10.12"
  }
 },
 "nbformat": 4,
 "nbformat_minor": 2
}
