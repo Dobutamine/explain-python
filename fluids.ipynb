{
 "cells": [
  {
   "cell_type": "code",
   "execution_count": 1,
   "metadata": {},
   "outputs": [
    {
     "name": "stdout",
     "output_type": "stream",
     "text": [
      " Model 'normal neonate' loaded and initialized correctly.\n",
      " Ready in 0.7 sec. Average model step in 0.0660 ms.\n"
     ]
    }
   ],
   "source": [
    "# first compile the c modules where the model depends on\n",
    "from  explain_core.ModulesCompiler import compile_modules;\n",
    "compile_modules()\n",
    "\n",
    "# import the model engine and the model interface\n",
    "from explain_core.ModelEngine import ModelEngine\n",
    "from explain_core.helpers.Interface import Interface\n",
    "\n",
    "# instantiate a model engine instance with the 'normal_neonate' model definition\n",
    "model = ModelEngine(\"normal_neonate.json\")\n",
    "\n",
    "# get a reference to all the submodels\n",
    "models = model.models\n",
    "\n",
    "# instantiate an interface object to interact with the model engine instance\n",
    "neo = Interface(model)\n",
    "\n",
    "# enable or disable the physiological submodels\n",
    "neo.ans(True)\n",
    "neo.breathing(True)\n",
    "neo.metabolism(True)\n",
    "neo.mob(True)\n",
    "\n",
    "# desiable the extra-corporeal submodels\n",
    "neo.placenta(False)\n",
    "neo.ventilator(False)\n",
    "neo.ecls(False)\n",
    "neo.artificial_whomb(False)\n",
    "\n",
    "# stabilize by calculating 60 seconds with fixed resp_rate of 40/min, tidal volume of 16 ml and fixed heart rate of 140 / min\n",
    "neo.calculate(5)"
   ]
  },
  {
   "cell_type": "code",
   "execution_count": 2,
   "metadata": {},
   "outputs": [
    {
     "ename": "AttributeError",
     "evalue": "'Pda' object has no attribute '_da'",
     "output_type": "error",
     "traceback": [
      "\u001b[0;31m---------------------------------------------------------------------------\u001b[0m",
      "\u001b[0;31mAttributeError\u001b[0m                            Traceback (most recent call last)",
      "\u001b[1;32m/Users/timothyantonius/Library/Mobile Documents/com~apple~CloudDocs/explain/explain-python/fluids.ipynb Cell 2\u001b[0m line \u001b[0;36m1\n\u001b[0;32m----> <a href='vscode-notebook-cell:/Users/timothyantonius/Library/Mobile%20Documents/com~apple~CloudDocs/explain/explain-python/fluids.ipynb#W1sZmlsZQ%3D%3D?line=0'>1</a>\u001b[0m models[\u001b[39m\"\u001b[39;49m\u001b[39mPda\u001b[39;49m\u001b[39m\"\u001b[39;49m]\u001b[39m.\u001b[39;49mopen_ductus()\n",
      "File \u001b[0;32m~/Library/Mobile Documents/com~apple~CloudDocs/explain/explain-python/explain_core/core_models/Pda.py:40\u001b[0m, in \u001b[0;36mPda.open_ductus\u001b[0;34m(self, new_diameter, in_time, at_time)\u001b[0m\n\u001b[1;32m     38\u001b[0m \u001b[39mdef\u001b[39;00m \u001b[39mopen_ductus\u001b[39m(\u001b[39mself\u001b[39m, new_diameter \u001b[39m=\u001b[39m \u001b[39m2.5\u001b[39m, in_time: \u001b[39mfloat\u001b[39m \u001b[39m=\u001b[39m \u001b[39m5.0\u001b[39m, at_time: \u001b[39mfloat\u001b[39m \u001b[39m=\u001b[39m \u001b[39m0.0\u001b[39m):\n\u001b[1;32m     39\u001b[0m     \u001b[39mself\u001b[39m\u001b[39m.\u001b[39m_target_diameter \u001b[39m=\u001b[39m new_diameter \u001b[39m/\u001b[39m \u001b[39m1000.0\u001b[39m\n\u001b[0;32m---> 40\u001b[0m     \u001b[39mself\u001b[39m\u001b[39m.\u001b[39m_current_diameter \u001b[39m=\u001b[39m \u001b[39mself\u001b[39;49m\u001b[39m.\u001b[39;49m_da\u001b[39m.\u001b[39mdiameter\n\u001b[1;32m     41\u001b[0m     \u001b[39mprint\u001b[39m(\u001b[39mself\u001b[39m\u001b[39m.\u001b[39m_current_diameter)\n",
      "\u001b[0;31mAttributeError\u001b[0m: 'Pda' object has no attribute '_da'"
     ]
    }
   ],
   "source": [
    "models[\"Pda\"].open_ductus()"
   ]
  },
  {
   "cell_type": "code",
   "execution_count": 3,
   "metadata": {},
   "outputs": [
    {
     "name": "stdout",
     "output_type": "stream",
     "text": [
      "\n",
      "AA.pres         : max   70.06863, min   46.60552 mmHg\n",
      "PA.pres         : max   40.69705, min    18.8309 mmHg\n",
      "IVCI.pres       : max    2.84176, min    1.73275 mmHg\n"
     ]
    },
    {
     "data": {
      "text/plain": [
       "{'heartrate': 147.88816721941063,\n",
       " 'spo2_pre': 97.8304957336678,\n",
       " 'spo2_post': 97.5671431151124,\n",
       " 'abp_systole': 70.06863,\n",
       " 'abp_diastole': 46.60552,\n",
       " 'pap_systole': 40.69705,\n",
       " 'pap_diastole': 18.8309,\n",
       " 'cvp': 2.1023830329999997,\n",
       " 'resp_rate': 37.78621290613851,\n",
       " 'pH': 7.39713698440171,\n",
       " 'po2': 98.38625153197003,\n",
       " 'pco2': 42.72119585781978,\n",
       " 'hco3': 25.971328265922196,\n",
       " 'be': 0.6500285039863639}"
      ]
     },
     "execution_count": 3,
     "metadata": {},
     "output_type": "execute_result"
    }
   ],
   "source": [
    "neo.get_vitals()"
   ]
  },
  {
   "cell_type": "code",
   "execution_count": null,
   "metadata": {},
   "outputs": [],
   "source": []
  }
 ],
 "metadata": {
  "kernelspec": {
   "display_name": "Python 3",
   "language": "python",
   "name": "python3"
  },
  "language_info": {
   "codemirror_mode": {
    "name": "ipython",
    "version": 3
   },
   "file_extension": ".py",
   "mimetype": "text/x-python",
   "name": "python",
   "nbconvert_exporter": "python",
   "pygments_lexer": "ipython3",
   "version": "3.10.12"
  }
 },
 "nbformat": 4,
 "nbformat_minor": 2
}
