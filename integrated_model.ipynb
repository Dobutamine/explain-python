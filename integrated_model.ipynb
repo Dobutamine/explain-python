{
 "cells": [
  {
   "cell_type": "code",
   "execution_count": 1,
   "metadata": {},
   "outputs": [
    {
     "name": "stdout",
     "output_type": "stream",
     "text": [
      " Model 'normal neonate' loaded and initialized correctly.\n",
      " Ready in 2.8 sec. Average model step in 0.0236 ms.\n",
      "\n",
      "LV.vol          : max    2.92517, min    0.76947 ml/kg\n",
      "LV_AA.flow      : net  269.62955, forward  269.62955, backward        0.0 ml/kg/min, stroke volume:    1.92589 ml/kg, \n",
      "Heart.heart_rate: max      140.0 min      140.0\n",
      "Mob.sv_lv       : max    2.05243 min    1.82009\n"
     ]
    }
   ],
   "source": [
    "# first compile the c modules where the model depends on\n",
    "from  explain_core.ModulesCompiler import compile_modules;\n",
    "compile_modules()\n",
    "\n",
    "# import the model engine and the model interface\n",
    "from explain_core.ModelEngine import ModelEngine\n",
    "from explain_core.helpers.Interface import Interface\n",
    "\n",
    "# instantiate a model engine instance with the 'normal_neonate' model definition\n",
    "model = ModelEngine(\"normal_neonate.json\")\n",
    "\n",
    "# get a reference to all the submodels\n",
    "models = model.models\n",
    "\n",
    "# instantiate an interface object to interact with the model engine instance\n",
    "neo = Interface(model)\n",
    "\n",
    "# enable or disable the physiological submodels\n",
    "neo.ans(True)\n",
    "neo.breathing(True)\n",
    "neo.metabolism(False)\n",
    "neo.mob(True)\n",
    "neo.placenta(False)\n",
    "\n",
    "# desiable the device models\n",
    "neo.ventilator(False)\n",
    "neo.ecls(False)\n",
    "neo.artificial_whomb(False)\n",
    "\n",
    "models[\"LV\"].u_vol = -0.0026\n",
    "models[\"RV\"].u_vol = -0.0026\n",
    "models[\"LV\"].el_min = 500\n",
    "models[\"RV\"].el_min = 500\n",
    "models[\"LV\"].el_max = 14000\n",
    "models[\"RV\"].el_max = 14000\n",
    "\n",
    "models[\"Ans\"].min_baro = 20.0\n",
    "models[\"Ans\"].set_baro = 50.0\n",
    "models[\"Ans\"].max_baro = 90.0\n",
    "models[\"Ans\"].g_map_hp = 0.0 #-1.4\n",
    "models[\"Ans\"].tc_map_hp = 2.0\n",
    "models[\"Ans\"].heart_rate_ref = 140.0\n",
    "\n",
    "# stabilize by calculating 60 seconds\n",
    "neo.calculate(60)\n",
    "result = neo.analyze([\"LV.vol\",\"LV_AA.flow\", \"Heart.heart_rate\", \"Mob.sv_lv\"], sampleinterval=0.0005, time_to_calculate=30)\n",
    "\n",
    "# TARGETS 2.51 - 0.78 - 1.73  (LV EDV - LV ESV - SV)"
   ]
  },
  {
   "cell_type": "code",
   "execution_count": null,
   "metadata": {},
   "outputs": [],
   "source": []
  }
 ],
 "metadata": {
  "kernelspec": {
   "display_name": "Python 3",
   "language": "python",
   "name": "python3"
  },
  "language_info": {
   "codemirror_mode": {
    "name": "ipython",
    "version": 3
   },
   "file_extension": ".py",
   "mimetype": "text/x-python",
   "name": "python",
   "nbconvert_exporter": "python",
   "pygments_lexer": "ipython3",
   "version": "3.10.12"
  }
 },
 "nbformat": 4,
 "nbformat_minor": 2
}
