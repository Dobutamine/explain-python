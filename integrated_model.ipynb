{
 "cells": [
  {
   "cell_type": "code",
   "execution_count": 1,
   "metadata": {},
   "outputs": [
    {
     "name": "stdout",
     "output_type": "stream",
     "text": [
      " Model 'normal neonate' loaded and initialized correctly.\n",
      " Ready in 5.1 sec. Average model step in 0.0211 ms.\n",
      "\n",
      "LA_LV.flow      : net   221.7744, forward   221.7744, backward        0.0 ml/kg/min, stroke volume:    1.58409 ml/kg, \n",
      "RA_RV.flow      : net  221.76048, forward  221.76048, backward        0.0 ml/kg/min, stroke volume:    1.58399 ml/kg, \n",
      "RV_PA.flow      : net  221.57379, forward  221.57379, backward        0.0 ml/kg/min, stroke volume:    1.58266 ml/kg, \n",
      "LV_AA.flow      : net   221.4872, forward   221.4872, backward        0.0 ml/kg/min, stroke volume:    1.58204 ml/kg, \n",
      "IVCI_RA.flow    : net  122.68413, forward  126.04511, backward   -3.36098 ml/kg/min, stroke volume:    0.87631 ml/kg, \n",
      "SVC_RA.flow     : net   96.50911, forward  101.75411, backward     -5.245 ml/kg/min, stroke volume:    0.68935 ml/kg, \n",
      "LA.pres_in      : max   11.15793 min    4.43169\n",
      "RA.pres_in      : max    9.36743 min    4.33322\n",
      "LV.pres_in      : max   70.16354 min    1.64944\n",
      "RV.pres_in      : max   42.84814 min    1.00681\n",
      "AA.pres_in      : max   69.93347 min   48.06789\n",
      "IVCI.pres_in    : max    9.89678 min    6.63475\n",
      "LA.vol          : max    1.68859, min    0.63044 ml/kg\n",
      "RA.vol          : max    1.41931, min    0.55477 ml/kg\n",
      "LV.vol          : max    2.38952, min    0.78691 ml/kg\n",
      "RV.vol          : max    2.26349, min    0.43473 ml/kg\n",
      "Heart.heart_rate: max      140.0 min      140.0\n",
      "Mob.sv_lv_kg    : max     1.6021 min    1.56212\n",
      "Mob.sv_rv_kg    : max     1.8103 min     1.4477\n"
     ]
    }
   ],
   "source": [
    "# first compile the c modules where the model depends on\n",
    "from  explain_core.ModulesCompiler import compile_modules;\n",
    "compile_modules()\n",
    "\n",
    "# import the model engine and the model interface\n",
    "from explain_core.ModelEngine import ModelEngine\n",
    "from explain_core.helpers.Interface import Interface\n",
    "\n",
    "# instantiate a model engine instance with the 'normal_neonate' model definition\n",
    "model = ModelEngine(\"normal_neonate.json\")\n",
    "\n",
    "# get a reference to all the submodels\n",
    "models = model.models\n",
    "\n",
    "# instantiate an interface object to interact with the model engine instance\n",
    "neo = Interface(model)\n",
    "\n",
    "# enable or disable the physiological submodels\n",
    "neo.ans(False)\n",
    "neo.breathing(True)\n",
    "neo.metabolism(True)\n",
    "neo.mob(True)\n",
    "\n",
    "# desiable the extra-corporeal models\n",
    "neo.placenta(False)\n",
    "neo.ventilator(False)\n",
    "neo.ecls(False)\n",
    "neo.artificial_whomb(False)\n",
    "\n",
    "# atria\n",
    "models[\"LA\"].u_vol = 0.0\n",
    "models[\"RA\"].u_vol = 0.0\n",
    "models[\"LA\"].el_min = 2000\n",
    "models[\"RA\"].el_min = 2000\n",
    "models[\"LA\"].el_max = 2500\n",
    "models[\"RA\"].el_max = 2500\n",
    "\n",
    "# ventricles\n",
    "models[\"LV\"].u_vol = 0.0\n",
    "models[\"RV\"].u_vol = 0.0\n",
    "models[\"LV\"].el_min = 500\n",
    "models[\"RV\"].el_min = 500\n",
    "models[\"LV\"].el_max = 25000\n",
    "models[\"RV\"].el_max = 25000\n",
    "\n",
    "# stabilize by calculating 60 seconds with fixed resp_rate of 40/min, tidal volume of 16 ml and fixed heart rate of 140 / min\n",
    "neo.calculate(120)\n",
    "neo.analyze_heart()"
   ]
  },
  {
   "cell_type": "markdown",
   "metadata": {},
   "source": [
    "Target volumes\n",
    "LV EDV - 2.51 ml/kg LV ESV - 0.78 ml/kg SV - 1.73 ml/kg  HF 140 bpm LVO 240 ml/kg/min"
   ]
  }
 ],
 "metadata": {
  "kernelspec": {
   "display_name": "Python 3",
   "language": "python",
   "name": "python3"
  },
  "language_info": {
   "codemirror_mode": {
    "name": "ipython",
    "version": 3
   },
   "file_extension": ".py",
   "mimetype": "text/x-python",
   "name": "python",
   "nbconvert_exporter": "python",
   "pygments_lexer": "ipython3",
   "version": "3.10.12"
  }
 },
 "nbformat": 4,
 "nbformat_minor": 2
}
