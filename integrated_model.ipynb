{
 "cells": [
  {
   "cell_type": "code",
   "execution_count": 18,
   "metadata": {},
   "outputs": [
    {
     "name": "stdout",
     "output_type": "stream",
     "text": [
      " Model 'normal neonate' loaded and initialized correctly.\n",
      " Ready in 2.5 sec. Average model step in 0.0212 ms.\n",
      "\n",
      "LA_LV.flow      : net  252.68081, forward  252.68081, backward        0.0 ml/kg/min, stroke volume:    1.80485 ml/kg, \n",
      "RA_RV.flow      : net   252.5949, forward   252.5949, backward        0.0 ml/kg/min, stroke volume:    1.80423 ml/kg, \n",
      "RV_PA.flow      : net  253.08112, forward  253.08112, backward        0.0 ml/kg/min, stroke volume:    1.80771 ml/kg, \n",
      "LV_AA.flow      : net  253.08114, forward  253.08114, backward        0.0 ml/kg/min, stroke volume:    1.80771 ml/kg, \n",
      "IVCI_RA.flow    : net  140.01567, forward   142.4782, backward   -2.46253 ml/kg/min, stroke volume:     1.0001 ml/kg, \n",
      "SVC_RA.flow     : net  110.00494, forward  112.29067, backward   -2.28573 ml/kg/min, stroke volume:    0.78574 ml/kg, \n",
      "LA.pres_in      : max    7.98596 min    3.26906\n",
      "RA.pres_in      : max    6.66083 min    2.76506\n",
      "LV.pres_in      : max   78.03178 min    2.25546\n",
      "RV.pres_in      : max   45.01675 min     1.3184\n",
      "AA.pres_in      : max   77.74642 min   52.15173\n",
      "IVCI.pres_in    : max    5.85459 min    5.60911\n",
      "LA.vol          : max    2.55688, min    1.39609 ml/kg\n",
      "RA.vol          : max    2.41136, min    1.09731 ml/kg\n",
      "LV.vol          : max    3.76327, min    1.95555 ml/kg\n",
      "RV.vol          : max    3.17025, min    1.36254 ml/kg\n",
      "Heart.heart_rate: max      140.0 min      140.0\n",
      "Mob.sv_lv_kg    : max    1.80771 min    1.80771\n",
      "Mob.sv_rv_kg    : max    1.80771 min    1.80771\n"
     ]
    }
   ],
   "source": [
    "# first compile the c modules where the model depends on\n",
    "from  explain_core.ModulesCompiler import compile_modules;\n",
    "compile_modules()\n",
    "\n",
    "# import the model engine and the model interface\n",
    "from explain_core.ModelEngine import ModelEngine\n",
    "from explain_core.helpers.Interface import Interface\n",
    "\n",
    "# instantiate a model engine instance with the 'normal_neonate' model definition\n",
    "model = ModelEngine(\"normal_neonate.json\")\n",
    "\n",
    "# get a reference to all the submodels\n",
    "models = model.models\n",
    "\n",
    "# instantiate an interface object to interact with the model engine instance\n",
    "neo = Interface(model)\n",
    "\n",
    "# enable or disable the physiological submodels\n",
    "neo.ans(False)\n",
    "neo.breathing(False)\n",
    "neo.metabolism(True)\n",
    "neo.mob(True)\n",
    "\n",
    "# desiable the extra-corporeal models\n",
    "neo.placenta(False)\n",
    "neo.ventilator(False)\n",
    "neo.ecls(False)\n",
    "neo.artificial_whomb(False)\n",
    "\n",
    "# atria\n",
    "models[\"LA\"].u_vol = 0.0\n",
    "models[\"RA\"].u_vol = 0.0\n",
    "models[\"LA\"].el_min = 650\n",
    "models[\"RA\"].el_min = 650\n",
    "models[\"LA\"].el_max = 1500\n",
    "models[\"RA\"].el_max = 1500\n",
    "\n",
    "# ventricles\n",
    "models[\"LV\"].u_vol = 0.002\n",
    "models[\"RV\"].u_vol = 0.002\n",
    "models[\"LV\"].el_min = 500\n",
    "models[\"RV\"].el_min = 500\n",
    "models[\"LV\"].el_max = 17000\n",
    "models[\"RV\"].el_max = 17000\n",
    "\n",
    "# stabilize by calculating 60 seconds with fixed resp_rate of 40/min, tidal volume of 16 ml and fixed heart rate of 140 / min\n",
    "neo.calculate(60)\n",
    "neo.analyze_heart()\n",
    "#neo.plot_time_graph([\"LA_LV.flow\",\"RA_RV.flow\"], combined=False, sharey=False, time_to_calculate=2, fill=False, sampleinterval=0.0005)"
   ]
  },
  {
   "cell_type": "markdown",
   "metadata": {},
   "source": [
    "Target volumes\n",
    "LV EDV - 2.51 ml/kg LV ESV - 0.78 ml/kg SV - 1.73 ml/kg  HF 140 bpm LVO 240 ml/kg/min"
   ]
  }
 ],
 "metadata": {
  "kernelspec": {
   "display_name": "Python 3",
   "language": "python",
   "name": "python3"
  },
  "language_info": {
   "codemirror_mode": {
    "name": "ipython",
    "version": 3
   },
   "file_extension": ".py",
   "mimetype": "text/x-python",
   "name": "python",
   "nbconvert_exporter": "python",
   "pygments_lexer": "ipython3",
   "version": "3.10.12"
  }
 },
 "nbformat": 4,
 "nbformat_minor": 2
}
