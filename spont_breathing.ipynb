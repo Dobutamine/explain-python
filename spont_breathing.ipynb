{
 "cells": [
  {
   "cell_type": "code",
   "execution_count": 2,
   "metadata": {},
   "outputs": [
    {
     "name": "stdout",
     "output_type": "stream",
     "text": [
      " Model 'normal neonate' loaded and initialized correctly.\n",
      " Ready in 3.0 sec. Average model step in 0.0248 ms.\n"
     ]
    }
   ],
   "source": [
    "#%matplotlib ipympl  # enable this for realtime graphs\n",
    "\n",
    "# first compile the c modules where the model depends on\n",
    "from explain_core.ModulesCompiler import compile_modules;\n",
    "\n",
    "# compile the c++ modules (acidbase and oxygenation) if necessary\n",
    "compile_modules()\n",
    "\n",
    "# import the model engine and the model interface\n",
    "from explain_core.ModelEngine import ModelEngine\n",
    "from explain_core.helpers.Interface import Interface\n",
    "\n",
    "# instantiate a model engine instance with the 'normal_neonate' model definition\n",
    "model = ModelEngine(\"normal_neonate.json\")\n",
    "\n",
    "# instantiate an interface object to interact with the model engine instance\n",
    "neo = Interface(model)\n",
    "\n",
    "# configure spontaneous breathing\n",
    "neo.model.models[\"Breathing\"].breathing_enabled = True\n",
    "\n",
    "# pre-run 60 seconds to stabilize model\n",
    "neo.fastforward(60)"
   ]
  },
  {
   "cell_type": "code",
   "execution_count": null,
   "metadata": {},
   "outputs": [],
   "source": []
  }
 ],
 "metadata": {
  "kernelspec": {
   "display_name": "Python 3",
   "language": "python",
   "name": "python3"
  },
  "language_info": {
   "codemirror_mode": {
    "name": "ipython",
    "version": 3
   },
   "file_extension": ".py",
   "mimetype": "text/x-python",
   "name": "python",
   "nbconvert_exporter": "python",
   "pygments_lexer": "ipython3",
   "version": "3.10.12"
  },
  "orig_nbformat": 4
 },
 "nbformat": 4,
 "nbformat_minor": 2
}
